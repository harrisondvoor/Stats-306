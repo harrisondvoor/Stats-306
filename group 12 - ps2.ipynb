{
 "cells": [
  {
   "cell_type": "markdown",
   "metadata": {},
   "source": [
    "Before you turn this problem set in, make sure everything runs as expected. First, **restart the kernel** (in the menubar, select Kernel$\\rightarrow$Restart) and then **run all cells** (in the menubar, select Cell$\\rightarrow$Run All). Your code should run from top to bottom with no errors. Failure to do this will result in loss of points.\n",
    "\n",
    "You should not use `install.packages()` anywhere. You may assume that we have already installed all the packages needed to run your code.\n",
    "\n",
    "Make sure you fill in any place that says `YOUR CODE HERE` or \"YOUR ANSWER HERE\" and delete the `stop()` functions, as well as your name and collaborators below:"
   ]
  },
  {
   "cell_type": "code",
   "execution_count": 2,
   "metadata": {},
   "outputs": [],
   "source": [
    "NAME = \"aayushap\"  # your uniqname \n",
    "COLLABORATORS = c(\"pjmerica\", \"sohumm\", \"kaspersj\")  # vector of uniqnames of your collaborators, if any\n",
    "## IMPORTANT: you must also have set your group on Canvas. This is only used as a backup."
   ]
  },
  {
   "cell_type": "markdown",
   "metadata": {},
   "source": [
    "---"
   ]
  },
  {
   "cell_type": "code",
   "execution_count": 3,
   "metadata": {
    "deletable": false,
    "editable": false,
    "nbgrader": {
     "checksum": "e351b81bbf2ecab2cd6b423a69226276",
     "grade": false,
     "grade_id": "cell-40012c87c1b26b65",
     "locked": true,
     "schema_version": 1,
     "solution": false
    }
   },
   "outputs": [
    {
     "name": "stderr",
     "output_type": "stream",
     "text": [
      "Loading tidyverse: ggplot2\n",
      "Loading tidyverse: tibble\n",
      "Loading tidyverse: tidyr\n",
      "Loading tidyverse: readr\n",
      "Loading tidyverse: purrr\n",
      "Loading tidyverse: dplyr\n",
      "Conflicts with tidy packages ---------------------------------------------------\n",
      "filter(): dplyr, stats\n",
      "lag():    dplyr, stats\n"
     ]
    }
   ],
   "source": [
    "library(tidyverse)\n",
    "library(nycflights13)"
   ]
  },
  {
   "cell_type": "markdown",
   "metadata": {
    "deletable": false,
    "editable": false,
    "nbgrader": {
     "checksum": "dce3f7ef459d4fd62d5667885634325e",
     "grade": false,
     "grade_id": "cell-0a15f666d5386997",
     "locked": true,
     "schema_version": 1,
     "solution": false
    }
   },
   "source": [
    "# STATS 306\n",
    "## Problem Set 2: Data Manipulation\n",
    "Each question is worth two points, for a total of 20. For each of these questions, start with the `flights` table in the `nycflights13` data set."
   ]
  },
  {
   "cell_type": "markdown",
   "metadata": {
    "deletable": false,
    "editable": false,
    "nbgrader": {
     "checksum": "f89a1b1c4af91a815538808765f76ba6",
     "grade": false,
     "grade_id": "cell-e917e583e70545d9",
     "locked": true,
     "schema_version": 1,
     "solution": false
    }
   },
   "source": [
    "#### Problem 1\n",
    "Use the `%in%` operator to extract all the flights that took place in months that begin with the letter \"A\". Store the resulting table in a variable called `table1`."
   ]
  },
  {
   "cell_type": "code",
   "execution_count": 56,
   "metadata": {
    "deletable": false,
    "nbgrader": {
     "checksum": "4c8893cc4980f0ae59221a42fcfce6a5",
     "grade": false,
     "grade_id": "cell-0b41d95c684e4bd1",
     "locked": false,
     "schema_version": 1,
     "solution": true
    }
   },
   "outputs": [],
   "source": [
    "table1 <-filter(flights, month %in% c(\"4\", \"8\"))"
   ]
  },
  {
   "cell_type": "code",
   "execution_count": 25,
   "metadata": {
    "deletable": false,
    "editable": false,
    "nbgrader": {
     "checksum": "5f7d59887fc9bb61c11f2c551b2cfeda",
     "grade": true,
     "grade_id": "cell-4401a25049f26a23",
     "locked": true,
     "points": 2,
     "schema_version": 1,
     "solution": false
    }
   },
   "outputs": [],
   "source": [
    "stopifnot(exists(\"table1\"))"
   ]
  },
  {
   "cell_type": "markdown",
   "metadata": {
    "deletable": false,
    "editable": false,
    "nbgrader": {
     "checksum": "6fe84f4de31467846ab791e69c4a92ed",
     "grade": false,
     "grade_id": "cell-9ac80283329274c5",
     "locked": true,
     "schema_version": 1,
     "solution": false
    }
   },
   "source": [
    "#### Problem 2\n",
    "Find the number of United Airlines flights that departed exactly on time and arrived exactly on time. Store this number in a variable called `n2`."
   ]
  },
  {
   "cell_type": "code",
   "execution_count": 54,
   "metadata": {
    "deletable": false,
    "nbgrader": {
     "checksum": "aab9ce20be6196dcfcc0b052a924e593",
     "grade": false,
     "grade_id": "cell-b4e20676a15c90bf",
     "locked": false,
     "schema_version": 1,
     "solution": true
    }
   },
   "outputs": [
    {
     "name": "stdout",
     "output_type": "stream",
     "text": [
      "[1] 58\n"
     ]
    }
   ],
   "source": [
    "n2 <- nrow(filter(flights, (dep_delay == 0 &arr_delay == 0), carrier == \"UA\"))\n",
    "print(n2)"
   ]
  },
  {
   "cell_type": "code",
   "execution_count": 27,
   "metadata": {
    "deletable": false,
    "editable": false,
    "nbgrader": {
     "checksum": "4a74b27f73eb8c6d0fc2efc1728f75b5",
     "grade": true,
     "grade_id": "cell-4236c431743e934f",
     "locked": true,
     "points": 2,
     "schema_version": 1,
     "solution": false
    }
   },
   "outputs": [],
   "source": [
    "stopifnot(exists(\"n2\"))"
   ]
  },
  {
   "cell_type": "markdown",
   "metadata": {
    "deletable": false,
    "editable": false,
    "nbgrader": {
     "checksum": "76b3f2e99d98da5024e550d24526bbc0",
     "grade": false,
     "grade_id": "cell-d5ff2b32d11b0d6b",
     "locked": true,
     "schema_version": 1,
     "solution": false
    }
   },
   "source": [
    "#### Problem 3\n",
    "Find all flights destined for `LAX` or `SFO` which departed more than an hour late, but did not arrive late. Store this table in a variable called `table3`."
   ]
  },
  {
   "cell_type": "code",
   "execution_count": 48,
   "metadata": {
    "deletable": false,
    "nbgrader": {
     "checksum": "ded3c60fdab8374e26918c1636ae35c5",
     "grade": false,
     "grade_id": "cell-2b49a3cf31114989",
     "locked": false,
     "schema_version": 1,
     "solution": true
    }
   },
   "outputs": [
    {
     "data": {
      "text/html": [
       "<table>\n",
       "<thead><tr><th scope=col>year</th><th scope=col>month</th><th scope=col>day</th><th scope=col>dep_time</th><th scope=col>sched_dep_time</th><th scope=col>dep_delay</th><th scope=col>arr_time</th><th scope=col>sched_arr_time</th><th scope=col>arr_delay</th><th scope=col>carrier</th><th scope=col>flight</th><th scope=col>tailnum</th><th scope=col>origin</th><th scope=col>dest</th><th scope=col>air_time</th><th scope=col>distance</th><th scope=col>hour</th><th scope=col>minute</th><th scope=col>time_hour</th></tr></thead>\n",
       "<tbody>\n",
       "\t<tr><td>2013               </td><td>4                  </td><td>5                  </td><td>932                </td><td>831                </td><td>61                 </td><td>1149               </td><td>1151               </td><td>-2                 </td><td>UA                 </td><td>1223               </td><td>N57852             </td><td>EWR                </td><td>LAX                </td><td>301                </td><td>2454               </td><td>8                  </td><td>31                 </td><td>2013-04-05 08:00:00</td></tr>\n",
       "</tbody>\n",
       "</table>\n"
      ],
      "text/latex": [
       "\\begin{tabular}{r|lllllllllllllllllll}\n",
       " year & month & day & dep\\_time & sched\\_dep\\_time & dep\\_delay & arr\\_time & sched\\_arr\\_time & arr\\_delay & carrier & flight & tailnum & origin & dest & air\\_time & distance & hour & minute & time\\_hour\\\\\n",
       "\\hline\n",
       "\t 2013                & 4                   & 5                   & 932                 & 831                 & 61                  & 1149                & 1151                & -2                  & UA                  & 1223                & N57852              & EWR                 & LAX                 & 301                 & 2454                & 8                   & 31                  & 2013-04-05 08:00:00\\\\\n",
       "\\end{tabular}\n"
      ],
      "text/markdown": [
       "\n",
       "year | month | day | dep_time | sched_dep_time | dep_delay | arr_time | sched_arr_time | arr_delay | carrier | flight | tailnum | origin | dest | air_time | distance | hour | minute | time_hour | \n",
       "|---|\n",
       "| 2013                | 4                   | 5                   | 932                 | 831                 | 61                  | 1149                | 1151                | -2                  | UA                  | 1223                | N57852              | EWR                 | LAX                 | 301                 | 2454                | 8                   | 31                  | 2013-04-05 08:00:00 | \n",
       "\n",
       "\n"
      ],
      "text/plain": [
       "  year month day dep_time sched_dep_time dep_delay arr_time sched_arr_time\n",
       "1 2013 4     5   932      831            61        1149     1151          \n",
       "  arr_delay carrier flight tailnum origin dest air_time distance hour minute\n",
       "1 -2        UA      1223   N57852  EWR    LAX  301      2454     8    31    \n",
       "  time_hour          \n",
       "1 2013-04-05 08:00:00"
      ]
     },
     "metadata": {},
     "output_type": "display_data"
    }
   ],
   "source": [
    "table3 = filter(flights, dest %in% c(\"LAX\", \"SFO\") & dep_delay > 60 & arr_delay < 0)"
   ]
  },
  {
   "cell_type": "code",
   "execution_count": 29,
   "metadata": {
    "deletable": false,
    "editable": false,
    "nbgrader": {
     "checksum": "bcad9992108234bcb8090892c796344f",
     "grade": true,
     "grade_id": "cell-51c64b0ec74b8e7e",
     "locked": true,
     "points": 2,
     "schema_version": 1,
     "solution": false
    }
   },
   "outputs": [],
   "source": [
    "stopifnot(exists(\"table3\"))"
   ]
  },
  {
   "cell_type": "markdown",
   "metadata": {
    "deletable": false,
    "editable": false,
    "nbgrader": {
     "checksum": "5a6fa4699c2925c1eff9265c2c38e0b1",
     "grade": false,
     "grade_id": "cell-995747474fc3c057",
     "locked": true,
     "schema_version": 1,
     "solution": false
    }
   },
   "source": [
    "#### Problem 4\n",
    "Find the number of flights in May that are missing their departure time or their arrival time, but not both. Store this number in a variable called `n4`."
   ]
  },
  {
   "cell_type": "code",
   "execution_count": 46,
   "metadata": {
    "deletable": false,
    "nbgrader": {
     "checksum": "790df095b50a4f8fd7dc5b7b5934f871",
     "grade": false,
     "grade_id": "cell-3a11c09dd271ccca",
     "locked": false,
     "schema_version": 1,
     "solution": true
    }
   },
   "outputs": [
    {
     "data": {
      "text/html": [
       "38"
      ],
      "text/latex": [
       "38"
      ],
      "text/markdown": [
       "38"
      ],
      "text/plain": [
       "[1] 38"
      ]
     },
     "metadata": {},
     "output_type": "display_data"
    }
   ],
   "source": [
    "n4 <-nrow(filter(flights, month == 5, ((is.na(dep_time) | is.na(arr_time)) - (is.na(dep_time)&is.na(arr_time)))))"
   ]
  },
  {
   "cell_type": "code",
   "execution_count": 31,
   "metadata": {
    "deletable": false,
    "editable": false,
    "nbgrader": {
     "checksum": "a769db74374c01bec298b2f31bf11560",
     "grade": true,
     "grade_id": "cell-12d7a10870a90e20",
     "locked": true,
     "points": 2,
     "schema_version": 1,
     "solution": false
    }
   },
   "outputs": [],
   "source": [
    "stopifnot(exists(\"n4\"))"
   ]
  },
  {
   "cell_type": "markdown",
   "metadata": {
    "deletable": false,
    "editable": false,
    "nbgrader": {
     "checksum": "b398fa498949cb932c83812839aec48c",
     "grade": false,
     "grade_id": "cell-61acec7ea7dcc769",
     "locked": true,
     "schema_version": 1,
     "solution": false
    }
   },
   "source": [
    "#### Problem 5\n",
    "There are four flights which have a tail number that does not begin with the letter \"N\". Find those rows and store them in a variable called `table5`. (*Hint*: see the help for the `str_sub()` command.)"
   ]
  },
  {
   "cell_type": "code",
   "execution_count": 17,
   "metadata": {
    "deletable": false,
    "nbgrader": {
     "checksum": "70958f6946870d7e29ffe975814fd9a6",
     "grade": false,
     "grade_id": "cell-b8021dd6e2dc9b4f",
     "locked": false,
     "schema_version": 1,
     "solution": true
    }
   },
   "outputs": [
    {
     "data": {
      "text/html": [
       "<table>\n",
       "<thead><tr><th scope=col>year</th><th scope=col>month</th><th scope=col>day</th><th scope=col>dep_time</th><th scope=col>sched_dep_time</th><th scope=col>dep_delay</th><th scope=col>arr_time</th><th scope=col>sched_arr_time</th><th scope=col>arr_delay</th><th scope=col>carrier</th><th scope=col>flight</th><th scope=col>tailnum</th><th scope=col>origin</th><th scope=col>dest</th><th scope=col>air_time</th><th scope=col>distance</th><th scope=col>hour</th><th scope=col>minute</th><th scope=col>time_hour</th></tr></thead>\n",
       "<tbody>\n",
       "\t<tr><td>2013               </td><td>2                  </td><td>11                 </td><td>1508               </td><td>1400               </td><td>68                 </td><td>1807               </td><td>1636               </td><td> 91                </td><td>DL                 </td><td>2247               </td><td>D942DN             </td><td>LGA                </td><td>ATL                </td><td>131                </td><td>762                </td><td>14                 </td><td> 0                 </td><td>2013-02-11 14:00:00</td></tr>\n",
       "\t<tr><td>2013               </td><td>3                  </td><td>23                 </td><td>1340               </td><td>1300               </td><td>40                 </td><td>1638               </td><td>1554               </td><td> 44                </td><td>DL                 </td><td>1685               </td><td>D942DN             </td><td>LGA                </td><td>MCO                </td><td>153                </td><td>950                </td><td>13                 </td><td> 0                 </td><td>2013-03-23 13:00:00</td></tr>\n",
       "\t<tr><td>2013               </td><td>3                  </td><td>24                 </td><td> 859               </td><td> 835               </td><td>24                 </td><td>1142               </td><td>1140               </td><td>  2                </td><td>DL                 </td><td>1959               </td><td>D942DN             </td><td>JFK                </td><td>MCO                </td><td>143                </td><td>944                </td><td> 8                 </td><td>35                 </td><td>2013-03-24 08:00:00</td></tr>\n",
       "\t<tr><td>2013               </td><td>7                  </td><td> 5                 </td><td>1253               </td><td>1259               </td><td>-6                 </td><td>1518               </td><td>1529               </td><td>-11                </td><td>DL                 </td><td> 781               </td><td>D942DN             </td><td>LGA                </td><td>ATL                </td><td>112                </td><td>762                </td><td>12                 </td><td>59                 </td><td>2013-07-05 12:00:00</td></tr>\n",
       "</tbody>\n",
       "</table>\n"
      ],
      "text/latex": [
       "\\begin{tabular}{r|lllllllllllllllllll}\n",
       " year & month & day & dep\\_time & sched\\_dep\\_time & dep\\_delay & arr\\_time & sched\\_arr\\_time & arr\\_delay & carrier & flight & tailnum & origin & dest & air\\_time & distance & hour & minute & time\\_hour\\\\\n",
       "\\hline\n",
       "\t 2013                & 2                   & 11                  & 1508                & 1400                & 68                  & 1807                & 1636                &  91                 & DL                  & 2247                & D942DN              & LGA                 & ATL                 & 131                 & 762                 & 14                  &  0                  & 2013-02-11 14:00:00\\\\\n",
       "\t 2013                & 3                   & 23                  & 1340                & 1300                & 40                  & 1638                & 1554                &  44                 & DL                  & 1685                & D942DN              & LGA                 & MCO                 & 153                 & 950                 & 13                  &  0                  & 2013-03-23 13:00:00\\\\\n",
       "\t 2013                & 3                   & 24                  &  859                &  835                & 24                  & 1142                & 1140                &   2                 & DL                  & 1959                & D942DN              & JFK                 & MCO                 & 143                 & 944                 &  8                  & 35                  & 2013-03-24 08:00:00\\\\\n",
       "\t 2013                & 7                   &  5                  & 1253                & 1259                & -6                  & 1518                & 1529                & -11                 & DL                  &  781                & D942DN              & LGA                 & ATL                 & 112                 & 762                 & 12                  & 59                  & 2013-07-05 12:00:00\\\\\n",
       "\\end{tabular}\n"
      ],
      "text/markdown": [
       "\n",
       "year | month | day | dep_time | sched_dep_time | dep_delay | arr_time | sched_arr_time | arr_delay | carrier | flight | tailnum | origin | dest | air_time | distance | hour | minute | time_hour | \n",
       "|---|---|---|---|\n",
       "| 2013                | 2                   | 11                  | 1508                | 1400                | 68                  | 1807                | 1636                |  91                 | DL                  | 2247                | D942DN              | LGA                 | ATL                 | 131                 | 762                 | 14                  |  0                  | 2013-02-11 14:00:00 | \n",
       "| 2013                | 3                   | 23                  | 1340                | 1300                | 40                  | 1638                | 1554                |  44                 | DL                  | 1685                | D942DN              | LGA                 | MCO                 | 153                 | 950                 | 13                  |  0                  | 2013-03-23 13:00:00 | \n",
       "| 2013                | 3                   | 24                  |  859                |  835                | 24                  | 1142                | 1140                |   2                 | DL                  | 1959                | D942DN              | JFK                 | MCO                 | 143                 | 944                 |  8                  | 35                  | 2013-03-24 08:00:00 | \n",
       "| 2013                | 7                   |  5                  | 1253                | 1259                | -6                  | 1518                | 1529                | -11                 | DL                  |  781                | D942DN              | LGA                 | ATL                 | 112                 | 762                 | 12                  | 59                  | 2013-07-05 12:00:00 | \n",
       "\n",
       "\n"
      ],
      "text/plain": [
       "  year month day dep_time sched_dep_time dep_delay arr_time sched_arr_time\n",
       "1 2013 2     11  1508     1400           68        1807     1636          \n",
       "2 2013 3     23  1340     1300           40        1638     1554          \n",
       "3 2013 3     24   859      835           24        1142     1140          \n",
       "4 2013 7      5  1253     1259           -6        1518     1529          \n",
       "  arr_delay carrier flight tailnum origin dest air_time distance hour minute\n",
       "1  91       DL      2247   D942DN  LGA    ATL  131      762      14    0    \n",
       "2  44       DL      1685   D942DN  LGA    MCO  153      950      13    0    \n",
       "3   2       DL      1959   D942DN  JFK    MCO  143      944       8   35    \n",
       "4 -11       DL       781   D942DN  LGA    ATL  112      762      12   59    \n",
       "  time_hour          \n",
       "1 2013-02-11 14:00:00\n",
       "2 2013-03-23 13:00:00\n",
       "3 2013-03-24 08:00:00\n",
       "4 2013-07-05 12:00:00"
      ]
     },
     "metadata": {},
     "output_type": "display_data"
    }
   ],
   "source": [
    "library(stringr)\n",
    "table5 = filter(flights, \"N\" != str_sub(tailnum, start= 1, end = 1))"
   ]
  },
  {
   "cell_type": "code",
   "execution_count": 33,
   "metadata": {
    "deletable": false,
    "editable": false,
    "nbgrader": {
     "checksum": "f50996d83088c3b9fcbbf6dc8fffd537",
     "grade": true,
     "grade_id": "cell-ffe2349f55b5dba2",
     "locked": true,
     "points": 2,
     "schema_version": 1,
     "solution": false
    }
   },
   "outputs": [],
   "source": [
    "stopifnot(exists(\"table5\"))"
   ]
  },
  {
   "cell_type": "markdown",
   "metadata": {
    "deletable": false,
    "editable": false,
    "nbgrader": {
     "checksum": "0f390e2598d31db1b78d8e968a7e00b1",
     "grade": false,
     "grade_id": "cell-771ce94db8191a27",
     "locked": true,
     "schema_version": 1,
     "solution": false
    }
   },
   "source": [
    "#### Problem 6\n",
    "Find the *unique* tail numbers(s) of the flights that were in the air for the second shortest and third longest amounts of time. Store them in variables `shortest2_tail_num` and `longest3_tail_num`, respectively."
   ]
  },
  {
   "cell_type": "code",
   "execution_count": 43,
   "metadata": {
    "deletable": false,
    "nbgrader": {
     "checksum": "baf76b5945b4327baef49f096c86961e",
     "grade": false,
     "grade_id": "cell-b660c7d391a51d16",
     "locked": false,
     "schema_version": 1,
     "solution": true
    }
   },
   "outputs": [
    {
     "data": {
      "text/html": [
       "<table>\n",
       "<thead><tr><th scope=col>tailnum</th></tr></thead>\n",
       "<tbody>\n",
       "</tbody>\n",
       "</table>\n"
      ],
      "text/latex": [
       "\\begin{tabular}{r|l}\n",
       " tailnum\\\\\n",
       "\\hline\n",
       "\\end{tabular}\n"
      ],
      "text/markdown": [
       "\n",
       "tailnum | \n",
       "||\n",
       "\n",
       "\n"
      ],
      "text/plain": [
       "     tailnum"
      ]
     },
     "metadata": {},
     "output_type": "display_data"
    },
    {
     "data": {
      "text/html": [
       "<table>\n",
       "<thead><tr><th scope=col>tailnum</th></tr></thead>\n",
       "<tbody>\n",
       "\t<tr><td>N388HA</td></tr>\n",
       "\t<tr><td>N380HA</td></tr>\n",
       "</tbody>\n",
       "</table>\n"
      ],
      "text/latex": [
       "\\begin{tabular}{r|l}\n",
       " tailnum\\\\\n",
       "\\hline\n",
       "\t N388HA\\\\\n",
       "\t N380HA\\\\\n",
       "\\end{tabular}\n"
      ],
      "text/markdown": [
       "\n",
       "tailnum | \n",
       "|---|---|\n",
       "| N388HA | \n",
       "| N380HA | \n",
       "\n",
       "\n"
      ],
      "text/plain": [
       "  tailnum\n",
       "1 N388HA \n",
       "2 N380HA "
      ]
     },
     "metadata": {},
     "output_type": "display_data"
    }
   ],
   "source": [
    "shortest2_tail_num = flights %>% mutate(k= min_rank(air_time)) %>% arrange(k) %>% select(tailnum, air_time, k) %>% filter(k==2) %>% select(tailnum)\n",
    "head(shortest2_tail_num)\n",
    "longest3_tail_num =  flights %>% mutate(k= min_rank(desc(air_time))) %>% arrange(k) %>% select(tailnum, air_time, k) %>% filter(k==3) %>% select(tailnum)\n",
    "head(longest3_tail_num)"
   ]
  },
  {
   "cell_type": "code",
   "execution_count": 35,
   "metadata": {
    "deletable": false,
    "editable": false,
    "nbgrader": {
     "checksum": "b789e3d4aa7ff470c642b5c1876573a7",
     "grade": true,
     "grade_id": "cell-f2aaa2fc80bca528",
     "locked": true,
     "points": 2,
     "schema_version": 1,
     "solution": false
    }
   },
   "outputs": [],
   "source": [
    "stopifnot(exists(\"shortest2_tail_num\"))\n",
    "stopifnot(exists(\"longest3_tail_num\"))"
   ]
  },
  {
   "cell_type": "markdown",
   "metadata": {
    "deletable": false,
    "editable": false,
    "nbgrader": {
     "checksum": "5cf2977f0577eb0d5ad9d1c873dffc36",
     "grade": false,
     "grade_id": "cell-8f74fbd6cd39b361",
     "locked": true,
     "schema_version": 1,
     "solution": false
    }
   },
   "source": [
    "#### Problem 7\n",
    "Sort the rows of `flights` such that the months are arranged in the following order: spring, summer, fall, winter. (Here we define winter to be January-March, spring is April-June, etc.) Within each season, the months should be sorted in ascending order. After sorting, drop all columns except for month, day and tail number. Store the sorted and subsetted table in a variable called `table7`."
   ]
  },
  {
   "cell_type": "code",
   "execution_count": 42,
   "metadata": {
    "deletable": false,
    "nbgrader": {
     "checksum": "209e1d67411f544abb4d2f3e50f72801",
     "grade": false,
     "grade_id": "cell-5f14c5b25556af81",
     "locked": false,
     "schema_version": 1,
     "solution": true
    }
   },
   "outputs": [
    {
     "data": {
      "text/html": [
       "<table>\n",
       "<thead><tr><th scope=col>month</th><th scope=col>day</th><th scope=col>tailnum</th></tr></thead>\n",
       "<tbody>\n",
       "\t<tr><td>4     </td><td>1     </td><td>N566UW</td></tr>\n",
       "\t<tr><td>4     </td><td>1     </td><td>N76288</td></tr>\n",
       "\t<tr><td>4     </td><td>1     </td><td>N76517</td></tr>\n",
       "\t<tr><td>4     </td><td>1     </td><td>N5DSAA</td></tr>\n",
       "\t<tr><td>4     </td><td>1     </td><td>N784JB</td></tr>\n",
       "\t<tr><td>4     </td><td>1     </td><td>N590JB</td></tr>\n",
       "\t<tr><td>4     </td><td>1     </td><td>N737US</td></tr>\n",
       "\t<tr><td>4     </td><td>1     </td><td>N750UW</td></tr>\n",
       "\t<tr><td>4     </td><td>1     </td><td>N510MQ</td></tr>\n",
       "\t<tr><td>4     </td><td>1     </td><td>N723EV</td></tr>\n",
       "\t<tr><td>4     </td><td>1     </td><td>N593JB</td></tr>\n",
       "\t<tr><td>4     </td><td>1     </td><td>N828AS</td></tr>\n",
       "\t<tr><td>4     </td><td>1     </td><td>N3ARAA</td></tr>\n",
       "\t<tr><td>4     </td><td>1     </td><td>N779JB</td></tr>\n",
       "\t<tr><td>4     </td><td>1     </td><td>N659DL</td></tr>\n",
       "\t<tr><td>4     </td><td>1     </td><td>N554UA</td></tr>\n",
       "\t<tr><td>4     </td><td>1     </td><td>N537MQ</td></tr>\n",
       "\t<tr><td>4     </td><td>1     </td><td>N481UA</td></tr>\n",
       "\t<tr><td>4     </td><td>1     </td><td>N328JB</td></tr>\n",
       "\t<tr><td>4     </td><td>1     </td><td>N330AT</td></tr>\n",
       "\t<tr><td>4     </td><td>1     </td><td>N316NB</td></tr>\n",
       "\t<tr><td>4     </td><td>1     </td><td>N422WN</td></tr>\n",
       "\t<tr><td>4     </td><td>1     </td><td>N836AS</td></tr>\n",
       "\t<tr><td>4     </td><td>1     </td><td>N3FTAA</td></tr>\n",
       "\t<tr><td>4     </td><td>1     </td><td>N571JB</td></tr>\n",
       "\t<tr><td>4     </td><td>1     </td><td>N27733</td></tr>\n",
       "\t<tr><td>4     </td><td>1     </td><td>N655JB</td></tr>\n",
       "\t<tr><td>4     </td><td>1     </td><td>N18114</td></tr>\n",
       "\t<tr><td>4     </td><td>1     </td><td>N753EV</td></tr>\n",
       "\t<tr><td>4     </td><td>1     </td><td>N640JB</td></tr>\n",
       "\t<tr><td>⋮</td><td>⋮</td><td>⋮</td></tr>\n",
       "\t<tr><td>3     </td><td>31    </td><td>N474UA</td></tr>\n",
       "\t<tr><td>3     </td><td>31    </td><td>N662JB</td></tr>\n",
       "\t<tr><td>3     </td><td>31    </td><td>N12225</td></tr>\n",
       "\t<tr><td>3     </td><td>31    </td><td>N14920</td></tr>\n",
       "\t<tr><td>3     </td><td>31    </td><td>N5EBAA</td></tr>\n",
       "\t<tr><td>3     </td><td>31    </td><td>N13968</td></tr>\n",
       "\t<tr><td>3     </td><td>31    </td><td>N77295</td></tr>\n",
       "\t<tr><td>3     </td><td>31    </td><td>N580JB</td></tr>\n",
       "\t<tr><td>3     </td><td>31    </td><td>N298JB</td></tr>\n",
       "\t<tr><td>3     </td><td>31    </td><td>N967AT</td></tr>\n",
       "\t<tr><td>3     </td><td>31    </td><td>N724EV</td></tr>\n",
       "\t<tr><td>3     </td><td>31    </td><td>N967UW</td></tr>\n",
       "\t<tr><td>3     </td><td>31    </td><td>N266JB</td></tr>\n",
       "\t<tr><td>3     </td><td>31    </td><td>N14704</td></tr>\n",
       "\t<tr><td>3     </td><td>31    </td><td>N329JB</td></tr>\n",
       "\t<tr><td>3     </td><td>31    </td><td>N521JB</td></tr>\n",
       "\t<tr><td>3     </td><td>31    </td><td>N625JB</td></tr>\n",
       "\t<tr><td>3     </td><td>31    </td><td>N14219</td></tr>\n",
       "\t<tr><td>3     </td><td>31    </td><td>N16571</td></tr>\n",
       "\t<tr><td>3     </td><td>31    </td><td>N12122</td></tr>\n",
       "\t<tr><td>3     </td><td>31    </td><td>N332NW</td></tr>\n",
       "\t<tr><td>3     </td><td>31    </td><td>N317US</td></tr>\n",
       "\t<tr><td>3     </td><td>31    </td><td>N258JB</td></tr>\n",
       "\t<tr><td>3     </td><td>31    </td><td>N523JB</td></tr>\n",
       "\t<tr><td>3     </td><td>31    </td><td>N190JB</td></tr>\n",
       "\t<tr><td>3     </td><td>31    </td><td>N657JB</td></tr>\n",
       "\t<tr><td>3     </td><td>31    </td><td>N608JB</td></tr>\n",
       "\t<tr><td>3     </td><td>31    </td><td>N17560</td></tr>\n",
       "\t<tr><td>3     </td><td>31    </td><td>N829AS</td></tr>\n",
       "\t<tr><td>3     </td><td>31    </td><td>NA    </td></tr>\n",
       "</tbody>\n",
       "</table>\n"
      ],
      "text/latex": [
       "\\begin{tabular}{r|lll}\n",
       " month & day & tailnum\\\\\n",
       "\\hline\n",
       "\t 4      & 1      & N566UW\\\\\n",
       "\t 4      & 1      & N76288\\\\\n",
       "\t 4      & 1      & N76517\\\\\n",
       "\t 4      & 1      & N5DSAA\\\\\n",
       "\t 4      & 1      & N784JB\\\\\n",
       "\t 4      & 1      & N590JB\\\\\n",
       "\t 4      & 1      & N737US\\\\\n",
       "\t 4      & 1      & N750UW\\\\\n",
       "\t 4      & 1      & N510MQ\\\\\n",
       "\t 4      & 1      & N723EV\\\\\n",
       "\t 4      & 1      & N593JB\\\\\n",
       "\t 4      & 1      & N828AS\\\\\n",
       "\t 4      & 1      & N3ARAA\\\\\n",
       "\t 4      & 1      & N779JB\\\\\n",
       "\t 4      & 1      & N659DL\\\\\n",
       "\t 4      & 1      & N554UA\\\\\n",
       "\t 4      & 1      & N537MQ\\\\\n",
       "\t 4      & 1      & N481UA\\\\\n",
       "\t 4      & 1      & N328JB\\\\\n",
       "\t 4      & 1      & N330AT\\\\\n",
       "\t 4      & 1      & N316NB\\\\\n",
       "\t 4      & 1      & N422WN\\\\\n",
       "\t 4      & 1      & N836AS\\\\\n",
       "\t 4      & 1      & N3FTAA\\\\\n",
       "\t 4      & 1      & N571JB\\\\\n",
       "\t 4      & 1      & N27733\\\\\n",
       "\t 4      & 1      & N655JB\\\\\n",
       "\t 4      & 1      & N18114\\\\\n",
       "\t 4      & 1      & N753EV\\\\\n",
       "\t 4      & 1      & N640JB\\\\\n",
       "\t ⋮ & ⋮ & ⋮\\\\\n",
       "\t 3      & 31     & N474UA\\\\\n",
       "\t 3      & 31     & N662JB\\\\\n",
       "\t 3      & 31     & N12225\\\\\n",
       "\t 3      & 31     & N14920\\\\\n",
       "\t 3      & 31     & N5EBAA\\\\\n",
       "\t 3      & 31     & N13968\\\\\n",
       "\t 3      & 31     & N77295\\\\\n",
       "\t 3      & 31     & N580JB\\\\\n",
       "\t 3      & 31     & N298JB\\\\\n",
       "\t 3      & 31     & N967AT\\\\\n",
       "\t 3      & 31     & N724EV\\\\\n",
       "\t 3      & 31     & N967UW\\\\\n",
       "\t 3      & 31     & N266JB\\\\\n",
       "\t 3      & 31     & N14704\\\\\n",
       "\t 3      & 31     & N329JB\\\\\n",
       "\t 3      & 31     & N521JB\\\\\n",
       "\t 3      & 31     & N625JB\\\\\n",
       "\t 3      & 31     & N14219\\\\\n",
       "\t 3      & 31     & N16571\\\\\n",
       "\t 3      & 31     & N12122\\\\\n",
       "\t 3      & 31     & N332NW\\\\\n",
       "\t 3      & 31     & N317US\\\\\n",
       "\t 3      & 31     & N258JB\\\\\n",
       "\t 3      & 31     & N523JB\\\\\n",
       "\t 3      & 31     & N190JB\\\\\n",
       "\t 3      & 31     & N657JB\\\\\n",
       "\t 3      & 31     & N608JB\\\\\n",
       "\t 3      & 31     & N17560\\\\\n",
       "\t 3      & 31     & N829AS\\\\\n",
       "\t 3      & 31     & NA    \\\\\n",
       "\\end{tabular}\n"
      ],
      "text/markdown": [
       "\n",
       "month | day | tailnum | \n",
       "|---|---|---|---|---|---|---|---|---|---|---|---|---|---|---|---|---|---|---|---|---|---|---|---|---|---|---|---|---|---|---|---|---|---|---|---|---|---|---|---|---|---|---|---|---|---|---|---|---|---|---|---|---|---|---|---|---|---|---|---|---|\n",
       "| 4      | 1      | N566UW | \n",
       "| 4      | 1      | N76288 | \n",
       "| 4      | 1      | N76517 | \n",
       "| 4      | 1      | N5DSAA | \n",
       "| 4      | 1      | N784JB | \n",
       "| 4      | 1      | N590JB | \n",
       "| 4      | 1      | N737US | \n",
       "| 4      | 1      | N750UW | \n",
       "| 4      | 1      | N510MQ | \n",
       "| 4      | 1      | N723EV | \n",
       "| 4      | 1      | N593JB | \n",
       "| 4      | 1      | N828AS | \n",
       "| 4      | 1      | N3ARAA | \n",
       "| 4      | 1      | N779JB | \n",
       "| 4      | 1      | N659DL | \n",
       "| 4      | 1      | N554UA | \n",
       "| 4      | 1      | N537MQ | \n",
       "| 4      | 1      | N481UA | \n",
       "| 4      | 1      | N328JB | \n",
       "| 4      | 1      | N330AT | \n",
       "| 4      | 1      | N316NB | \n",
       "| 4      | 1      | N422WN | \n",
       "| 4      | 1      | N836AS | \n",
       "| 4      | 1      | N3FTAA | \n",
       "| 4      | 1      | N571JB | \n",
       "| 4      | 1      | N27733 | \n",
       "| 4      | 1      | N655JB | \n",
       "| 4      | 1      | N18114 | \n",
       "| 4      | 1      | N753EV | \n",
       "| 4      | 1      | N640JB | \n",
       "| ⋮ | ⋮ | ⋮ | \n",
       "| 3      | 31     | N474UA | \n",
       "| 3      | 31     | N662JB | \n",
       "| 3      | 31     | N12225 | \n",
       "| 3      | 31     | N14920 | \n",
       "| 3      | 31     | N5EBAA | \n",
       "| 3      | 31     | N13968 | \n",
       "| 3      | 31     | N77295 | \n",
       "| 3      | 31     | N580JB | \n",
       "| 3      | 31     | N298JB | \n",
       "| 3      | 31     | N967AT | \n",
       "| 3      | 31     | N724EV | \n",
       "| 3      | 31     | N967UW | \n",
       "| 3      | 31     | N266JB | \n",
       "| 3      | 31     | N14704 | \n",
       "| 3      | 31     | N329JB | \n",
       "| 3      | 31     | N521JB | \n",
       "| 3      | 31     | N625JB | \n",
       "| 3      | 31     | N14219 | \n",
       "| 3      | 31     | N16571 | \n",
       "| 3      | 31     | N12122 | \n",
       "| 3      | 31     | N332NW | \n",
       "| 3      | 31     | N317US | \n",
       "| 3      | 31     | N258JB | \n",
       "| 3      | 31     | N523JB | \n",
       "| 3      | 31     | N190JB | \n",
       "| 3      | 31     | N657JB | \n",
       "| 3      | 31     | N608JB | \n",
       "| 3      | 31     | N17560 | \n",
       "| 3      | 31     | N829AS | \n",
       "| 3      | 31     | NA     | \n",
       "\n",
       "\n"
      ],
      "text/plain": [
       "       month day tailnum\n",
       "1      4     1   N566UW \n",
       "2      4     1   N76288 \n",
       "3      4     1   N76517 \n",
       "4      4     1   N5DSAA \n",
       "5      4     1   N784JB \n",
       "6      4     1   N590JB \n",
       "7      4     1   N737US \n",
       "8      4     1   N750UW \n",
       "9      4     1   N510MQ \n",
       "10     4     1   N723EV \n",
       "11     4     1   N593JB \n",
       "12     4     1   N828AS \n",
       "13     4     1   N3ARAA \n",
       "14     4     1   N779JB \n",
       "15     4     1   N659DL \n",
       "16     4     1   N554UA \n",
       "17     4     1   N537MQ \n",
       "18     4     1   N481UA \n",
       "19     4     1   N328JB \n",
       "20     4     1   N330AT \n",
       "21     4     1   N316NB \n",
       "22     4     1   N422WN \n",
       "23     4     1   N836AS \n",
       "24     4     1   N3FTAA \n",
       "25     4     1   N571JB \n",
       "26     4     1   N27733 \n",
       "27     4     1   N655JB \n",
       "28     4     1   N18114 \n",
       "29     4     1   N753EV \n",
       "30     4     1   N640JB \n",
       "⋮      ⋮     ⋮   ⋮      \n",
       "336747 3     31  N474UA \n",
       "336748 3     31  N662JB \n",
       "336749 3     31  N12225 \n",
       "336750 3     31  N14920 \n",
       "336751 3     31  N5EBAA \n",
       "336752 3     31  N13968 \n",
       "336753 3     31  N77295 \n",
       "336754 3     31  N580JB \n",
       "336755 3     31  N298JB \n",
       "336756 3     31  N967AT \n",
       "336757 3     31  N724EV \n",
       "336758 3     31  N967UW \n",
       "336759 3     31  N266JB \n",
       "336760 3     31  N14704 \n",
       "336761 3     31  N329JB \n",
       "336762 3     31  N521JB \n",
       "336763 3     31  N625JB \n",
       "336764 3     31  N14219 \n",
       "336765 3     31  N16571 \n",
       "336766 3     31  N12122 \n",
       "336767 3     31  N332NW \n",
       "336768 3     31  N317US \n",
       "336769 3     31  N258JB \n",
       "336770 3     31  N523JB \n",
       "336771 3     31  N190JB \n",
       "336772 3     31  N657JB \n",
       "336773 3     31  N608JB \n",
       "336774 3     31  N17560 \n",
       "336775 3     31  N829AS \n",
       "336776 3     31  NA     "
      ]
     },
     "metadata": {},
     "output_type": "display_data"
    }
   ],
   "source": [
    "table7= flights %>% mutate(month= factor(month, levels = c(4,5,6,7,8,9,10,11,12,1,2,3))) %>% arrange(month) %>% select(month,day,tailnum)\n",
    "table7"
   ]
  },
  {
   "cell_type": "code",
   "execution_count": null,
   "metadata": {
    "deletable": false,
    "editable": false,
    "nbgrader": {
     "checksum": "09ce5521510431404988a01608b3d982",
     "grade": true,
     "grade_id": "cell-aea49f381577fe9c",
     "locked": true,
     "points": 2,
     "schema_version": 1,
     "solution": false
    }
   },
   "outputs": [],
   "source": [
    "stopifnot(exists(\"table7\"))"
   ]
  },
  {
   "cell_type": "markdown",
   "metadata": {
    "deletable": false,
    "editable": false,
    "nbgrader": {
     "checksum": "c4e9559505243e8118430b06b75b49e2",
     "grade": false,
     "grade_id": "cell-c34c122012defa7c",
     "locked": true,
     "schema_version": 1,
     "solution": false
    }
   },
   "source": [
    "#### Problem 8\n",
    "Drop the even-numbered columns of `flights`. Store the resulting data table in a variable called `table8`."
   ]
  },
  {
   "cell_type": "code",
   "execution_count": 32,
   "metadata": {
    "deletable": false,
    "nbgrader": {
     "checksum": "07fd7c5ad2bb6c096ec411803fb1bc6f",
     "grade": false,
     "grade_id": "cell-fea29f526205142f",
     "locked": false,
     "schema_version": 1,
     "solution": true
    }
   },
   "outputs": [
    {
     "name": "stdout",
     "output_type": "stream",
     "text": [
      "# A tibble: 336,776 x 10\n",
      "    year   day sched_dep_time arr_time arr_delay flight origin air_time  hour\n",
      "   <int> <int>          <int>    <int>     <dbl>  <int> <chr>     <dbl> <dbl>\n",
      " 1  2013     1            515      830        11   1545 EWR         227     5\n",
      " 2  2013     1            529      850        20   1714 LGA         227     5\n",
      " 3  2013     1            540      923        33   1141 JFK         160     5\n",
      " 4  2013     1            545     1004       -18    725 JFK         183     5\n",
      " 5  2013     1            600      812       -25    461 LGA         116     6\n",
      " 6  2013     1            558      740        12   1696 EWR         150     5\n",
      " 7  2013     1            600      913        19    507 EWR         158     6\n",
      " 8  2013     1            600      709       -14   5708 LGA          53     6\n",
      " 9  2013     1            600      838        -8     79 JFK         140     6\n",
      "10  2013     1            600      753         8    301 LGA         138     6\n",
      "# ... with 336,766 more rows, and 1 more variable: time_hour <dttm>\n"
     ]
    }
   ],
   "source": [
    "oddvals <- seq(1, ncol(flights), by=2) \n",
    "table8=flights[,oddvals] %>% print"
   ]
  },
  {
   "cell_type": "code",
   "execution_count": null,
   "metadata": {
    "deletable": false,
    "editable": false,
    "nbgrader": {
     "checksum": "17f7fdd65fd0f36043a8a444a28a6a56",
     "grade": true,
     "grade_id": "cell-0ed42800dec43812",
     "locked": true,
     "points": 2,
     "schema_version": 1,
     "solution": false
    }
   },
   "outputs": [],
   "source": [
    "stopifnot(exists(\"table8\"))"
   ]
  },
  {
   "cell_type": "markdown",
   "metadata": {
    "deletable": false,
    "editable": false,
    "nbgrader": {
     "checksum": "f57e3b419e3feaecbeca01e281928361",
     "grade": false,
     "grade_id": "cell-6f2ea6c3248058f4",
     "locked": true,
     "schema_version": 1,
     "solution": false
    }
   },
   "source": [
    "#### Problem 9\n",
    "Define a flight to be \"spooky\" if it was in the air at 1:13pm on either Halloween or Friday, September 13th. There were 110 spooky flights on Friday the 13th. How many spooky flights are there in total? Store your answer in a variable called `nspooky`."
   ]
  },
  {
   "cell_type": "code",
   "execution_count": 37,
   "metadata": {
    "deletable": false,
    "nbgrader": {
     "checksum": "d22a8e4dc759f98ced6788ff3f3964d2",
     "grade": false,
     "grade_id": "cell-969a7e5111107d00",
     "locked": false,
     "schema_version": 1,
     "solution": true
    }
   },
   "outputs": [
    {
     "data": {
      "text/html": [
       "318"
      ],
      "text/latex": [
       "318"
      ],
      "text/markdown": [
       "318"
      ],
      "text/plain": [
       "[1] 318"
      ]
     },
     "metadata": {},
     "output_type": "display_data"
    }
   ],
   "source": [
    "nspooky = nrow(flights %>% filter((day == \"13\"|day == \"31\"), (month == \"9\"|month == \"10\"), (1313 < arr_time & 1313 > dep_time)))\n",
    "nspooky"
   ]
  },
  {
   "cell_type": "code",
   "execution_count": null,
   "metadata": {
    "deletable": false,
    "editable": false,
    "nbgrader": {
     "checksum": "c17c1901e909256354dcafd54548ecb7",
     "grade": true,
     "grade_id": "cell-a6648e20d6336d21",
     "locked": true,
     "points": 2,
     "schema_version": 1,
     "solution": false
    }
   },
   "outputs": [],
   "source": [
    "stopifnot(exists(\"nspooky\"))"
   ]
  },
  {
   "cell_type": "markdown",
   "metadata": {
    "deletable": false,
    "editable": false,
    "nbgrader": {
     "checksum": "ecd81d690597e396663920667314ef2a",
     "grade": false,
     "grade_id": "cell-7606bce27a96f05b",
     "locked": true,
     "schema_version": 1,
     "solution": false
    }
   },
   "source": [
    "#### Problem 10\n",
    "Select all the columns in flights which end with \"delay\". In the resulting table, define a new column `max_delay` which equals the maximum of the departure and arrival delays for each flight. For example, if a flight had a departure delay of `-1` and an arrival delay of `10`, the `max_delay` would equal `10`. Sort your table in descending order of `max_delay` and store it in a variable called `table10`."
   ]
  },
  {
   "cell_type": "code",
   "execution_count": 34,
   "metadata": {
    "deletable": false,
    "nbgrader": {
     "checksum": "b461022c1eb7aefa8b5d954cfc453462",
     "grade": false,
     "grade_id": "cell-6728c9ad4bc8d1d3",
     "locked": false,
     "schema_version": 1,
     "solution": true
    }
   },
   "outputs": [
    {
     "name": "stdout",
     "output_type": "stream",
     "text": [
      "# A tibble: 336,776 x 3\n",
      "   dep_delay arr_delay max_delay\n",
      "       <dbl>     <dbl>     <dbl>\n",
      " 1      1301      1272      1301\n",
      " 2      1137      1127      1137\n",
      " 3      1126      1109      1126\n",
      " 4      1014      1007      1014\n",
      " 5      1005       989      1005\n",
      " 6       960       931       960\n",
      " 7       911       915       915\n",
      " 8       899       850       899\n",
      " 9       898       895       898\n",
      "10       896       878       896\n",
      "# ... with 336,766 more rows\n"
     ]
    }
   ],
   "source": [
    "table10 = select(flights, ends_with(\"delay\")) %>% mutate(max_delay= pmax(arr_delay,dep_delay))%>% arrange(desc(max_delay)) %>% print\n"
   ]
  },
  {
   "cell_type": "code",
   "execution_count": 5,
   "metadata": {
    "deletable": false,
    "editable": false,
    "nbgrader": {
     "checksum": "37b54b4b05c6d09e3ef88014c9b5cf2a",
     "grade": true,
     "grade_id": "cell-c5a73822944474d1",
     "locked": true,
     "points": 2,
     "schema_version": 1,
     "solution": false
    }
   },
   "outputs": [],
   "source": [
    "stopifnot(exists(\"table10\"))"
   ]
  }
 ],
 "metadata": {
  "kernelspec": {
   "display_name": "R",
   "language": "R",
   "name": "ir"
  },
  "language_info": {
   "codemirror_mode": "r",
   "file_extension": ".r",
   "mimetype": "text/x-r-source",
   "name": "R",
   "pygments_lexer": "r",
   "version": "3.4.1"
  }
 },
 "nbformat": 4,
 "nbformat_minor": 2
}
