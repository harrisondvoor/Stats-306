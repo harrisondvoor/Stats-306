{
 "cells": [
  {
   "cell_type": "markdown",
   "metadata": {},
   "source": [
    "Before you turn this problem set in, make sure everything runs as expected. First, **restart the kernel** (in the menubar, select Kernel$\\rightarrow$Restart) and then **run all cells** (in the menubar, select Cell$\\rightarrow$Run All). Your code should run from top to bottom with no errors. Failure to do this will result in loss of points.\n",
    "\n",
    "You should not use `install.packages()` anywhere. You may assume that we have already installed all the packages needed to run your code.\n",
    "\n",
    "Make sure you fill in any place that says `YOUR CODE HERE` or \"YOUR ANSWER HERE\" and delete the `stop()` functions, as well as your name and collaborators below:"
   ]
  },
  {
   "cell_type": "code",
   "execution_count": 94,
   "metadata": {},
   "outputs": [],
   "source": [
    "NAME = \"aayushap\"  # your uniqname \n",
    "COLLABORATORS = c(\"pjmerica\", \"sohumm\", \"kaspersj\")  # vector of uniqnames of your collaborators, if any\n",
    "## IMPORTANT: you must also have set your group on Canvas. This is only used as a backup."
   ]
  },
  {
   "cell_type": "markdown",
   "metadata": {},
   "source": [
    "---"
   ]
  },
  {
   "cell_type": "code",
   "execution_count": 95,
   "metadata": {
    "deletable": false,
    "editable": false,
    "nbgrader": {
     "checksum": "a09f74e27609579bd954f12d0ad2206e",
     "grade": false,
     "grade_id": "cell-d1761bfdb43c7ec3",
     "locked": true,
     "schema_version": 1,
     "solution": false
    }
   },
   "outputs": [],
   "source": [
    "library(tidyverse)\n",
    "library(stringr)\n",
    "library(lubridate)"
   ]
  },
  {
   "cell_type": "markdown",
   "metadata": {
    "deletable": false,
    "editable": false,
    "nbgrader": {
     "checksum": "bc08d9bb84109a4b0cbe80817c6828c7",
     "grade": false,
     "grade_id": "cell-193dcce7ad6d5a10",
     "locked": true,
     "schema_version": 1,
     "solution": false
    }
   },
   "source": [
    "# STATS 306\n",
    "## Problem Set 8: Functions\n",
    "Each problem is worth two to four points, depending on difficulty, for a total of 20.\n",
    "\n",
    "*Note*: you do not need to use `install.packages()` in this notebook. You may assume that we have already installed all of the necessary packages when we run your code."
   ]
  },
  {
   "cell_type": "markdown",
   "metadata": {
    "deletable": false,
    "editable": false,
    "nbgrader": {
     "checksum": "3c15368d23a15f2d22db540888296787",
     "grade": false,
     "grade_id": "cell-d180ae6973dcba42",
     "locked": true,
     "schema_version": 1,
     "solution": false
    }
   },
   "source": [
    "#### Problem 1 (2 pts.)\n",
    "Create a function `n_entries(v, x)` which, given a vector `v` and a scalar `x`, returns the number of times that `x` occurs in `v`."
   ]
  },
  {
   "cell_type": "code",
   "execution_count": 96,
   "metadata": {
    "deletable": false,
    "nbgrader": {
     "checksum": "1fd6fce7fb8dbbf51a457dabfbd8a0ef",
     "grade": false,
     "grade_id": "cell-dfa2ebf79b9b66a0",
     "locked": false,
     "schema_version": 1,
     "solution": true
    }
   },
   "outputs": [],
   "source": [
    "n_entries = function (v,x) {\n",
    "if(x %in% v) {\n",
    "    return(sum(x == v))\n",
    "  }\n",
    "}\n"
   ]
  },
  {
   "cell_type": "code",
   "execution_count": 97,
   "metadata": {
    "deletable": false,
    "editable": false,
    "nbgrader": {
     "checksum": "53af194f48204ef1d060094003692cb4",
     "grade": true,
     "grade_id": "cell-313f745da250c8a9",
     "locked": true,
     "points": 2,
     "schema_version": 1,
     "solution": false
    }
   },
   "outputs": [],
   "source": [
    "stopifnot(n_entries(1:10, 1) == 1)\n",
    "stopifnot(n_entries(c(\"a\", \"a\", \"b\", \"c\"), \"a\") == 2)\n",
    "stopifnot(n_entries(c(), 0) == 0)"
   ]
  },
  {
   "cell_type": "markdown",
   "metadata": {
    "deletable": false,
    "editable": false,
    "nbgrader": {
     "checksum": "c4ada1367ae96b82467f87fd6be5dd3b",
     "grade": false,
     "grade_id": "cell-f06795d0d1d82112",
     "locked": true,
     "schema_version": 1,
     "solution": false
    }
   },
   "source": [
    "#### Problem 2 (3 pts.)\n",
    "Create a function `days_between(v)` which, given a vector `v` of $n$ dates, sorts `v` in ascending order and then returns a new vector of length $n-1$ of the number of days which elapsed between each successive date. Additionally, each entry in the returned vector should have a name of the form `mm/dd/yyyy to mm/dd/yyyy` indicating the corresponding date span.\n",
    "For example:\n",
    "```{r}\n",
    "> days_between(c(\"Jan. 20, 2009\", \"July 20, 1969\", \"June 28, 1914\", \"July 14, 1789\", \"Oct. 14, 1066\"))\n",
    "Time differences in days\n",
    "10/14/1066 to 07/14/1789 07/14/1789 to 06/28/1914 06/28/1914 to 07/20/1969 \n",
    "                  263979                    45638                    20111 \n",
    "07/20/1969 to 01/20/2009 01/20/2009 to 01/01/2011 \n",
    "                   14429                      711\n",
    "```\n",
    "(You may assume that all dates that will be inputted to `days_between(v)` are in the format given in the example, and between January 1, 1000 and December 31, 9999)."
   ]
  },
  {
   "cell_type": "code",
   "execution_count": 98,
   "metadata": {
    "deletable": false,
    "nbgrader": {
     "checksum": "f662186ebea982e7e01dacae282358ae",
     "grade": false,
     "grade_id": "cell-3109d5a23aaa8816",
     "locked": false,
     "schema_version": 1,
     "solution": true
    }
   },
   "outputs": [],
   "source": [
    " days_between = function(v){\n",
    "    v = sort(mdy(v))\n",
    "    n = length(v)\n",
    "    vec1 = v[2:n]\n",
    "    vec2 = v[1:n-1]\n",
    "    vec_diff = vec1 - vec2\n",
    "    vec1 = format(vec1, format = \"%m/%d/%Y\")\n",
    "    vec2 = format(vec2, format = \"%m/%d/%Y\")\n",
    "    labels = str_c(vec2, vec1, sep = \" to \")\n",
    "    names(vec_diff) = labels\n",
    "    return(vec_diff)\n",
    "}"
   ]
  },
  {
   "cell_type": "code",
   "execution_count": 99,
   "metadata": {
    "deletable": false,
    "editable": false,
    "nbgrader": {
     "checksum": "dbd1cbe22733e518bee3ff89bbe33348",
     "grade": true,
     "grade_id": "cell-a7da2b85d762c318",
     "locked": true,
     "points": 3,
     "schema_version": 1,
     "solution": false
    }
   },
   "outputs": [],
   "source": [
    "db = days_between(c(\"Jan. 20, 2009\", \"July 20, 1969\", \"June 28, 1914\", \"July 14, 1789\", \n",
    "                    \"Oct. 14, 1066\", \"January 1, 2011\"))\n",
    "stopifnot(all(db == c(263979, 45638, 20111, 14429, 711)))\n",
    "stopifnot(all(names(db) == c(\"10/14/1066 to 07/14/1789\",\n",
    "                             \"07/14/1789 to 06/28/1914\",\n",
    "                             \"06/28/1914 to 07/20/1969\",\n",
    "                             \"07/20/1969 to 01/20/2009\",\n",
    "                             \"01/20/2009 to 01/01/2011\")))"
   ]
  },
  {
   "cell_type": "markdown",
   "metadata": {
    "deletable": false,
    "editable": false,
    "nbgrader": {
     "checksum": "83fb0b9d8f9b2792ce31c6d45cc09ef6",
     "grade": false,
     "grade_id": "cell-6ce6122682e6e086",
     "locked": true,
     "schema_version": 1,
     "solution": false
    }
   },
   "source": [
    "#### Problem 3 (3 pts.)\n",
    "Create a function `standardize(df)` which, given a tibble `df` with numerical columns, returns a new data frame where each column is standardized (has mean zero and variance one, accomplished by subtracting the column mean and dividing by its standard deviation). For example:\n",
    "```{r}\n",
    "> (df <- tibble(x=1:3, y=4:6, z=c(0, 0, 1)))\n",
    "  x y z\n",
    "1 1 4 0\n",
    "2 2 5 0\n",
    "3 3 6 1\n",
    "> standardize(df)\n",
    "  x  y  z         \n",
    "1 -1 -1 -0.5773503\n",
    "2  0  0 -0.5773503\n",
    "3  1  1  1.1547005\n",
    "```"
   ]
  },
  {
   "cell_type": "code",
   "execution_count": 100,
   "metadata": {
    "deletable": false,
    "nbgrader": {
     "checksum": "79d8d48f43a551805a8e2bc26e4bade7",
     "grade": false,
     "grade_id": "cell-4b0af7fb6f032871",
     "locked": false,
     "schema_version": 1,
     "solution": true
    }
   },
   "outputs": [],
   "source": [
    "standardize = function(df) {\n",
    "    mutate_all(df, scale)\n",
    "}"
   ]
  },
  {
   "cell_type": "code",
   "execution_count": 101,
   "metadata": {
    "deletable": false,
    "editable": false,
    "nbgrader": {
     "checksum": "28ba5f0f734f1a1985bde449f43f5128",
     "grade": true,
     "grade_id": "cell-005f766edb12cc13",
     "locked": true,
     "points": 3,
     "schema_version": 1,
     "solution": false
    }
   },
   "outputs": [],
   "source": [
    "stopifnot(all(\n",
    "    map2_lgl(\n",
    "         standardize(tibble(x=1:3, y=4:6, z=7:9)),\n",
    "         tibble(x=c(-1, 0, 1), y=c(-1, 0, 1), z=c(-1, 0, 1)),\n",
    "         ~ all(near(.x, .y))\n",
    "         )\n",
    "    )\n",
    ")"
   ]
  },
  {
   "cell_type": "markdown",
   "metadata": {
    "deletable": false,
    "editable": false,
    "nbgrader": {
     "checksum": "e6401a907c16a07abbf2e331fdfe8b1b",
     "grade": false,
     "grade_id": "cell-474df2b6c8514040",
     "locked": true,
     "schema_version": 1,
     "solution": false
    }
   },
   "source": [
    "#### Problem 4 (2 pts.)\n",
    "Create a function `str_rev(s)` which, given a string `s`, returns the reversed string. For example, \n",
    "```{r}\n",
    "> str_rev(\"Hello my name is Jonathan\")\n",
    "[1] \"!nahtanoJ si eman ym olleH\"\n",
    "```"
   ]
  },
  {
   "cell_type": "code",
   "execution_count": 102,
   "metadata": {
    "deletable": false,
    "nbgrader": {
     "checksum": "507f2d6c59ce0039bf7b3e0b1c1ad69c",
     "grade": false,
     "grade_id": "cell-8db6ef26acb35d7c",
     "locked": false,
     "schema_version": 1,
     "solution": true
    }
   },
   "outputs": [],
   "source": [
    "str_rev = function(s) {\n",
    "     sapply(lapply(strsplit(s, NULL), rev), paste, collapse = \"\")\n",
    "}"
   ]
  },
  {
   "cell_type": "code",
   "execution_count": 103,
   "metadata": {
    "deletable": false,
    "editable": false,
    "nbgrader": {
     "checksum": "ac0ef6158ca7465965c29e138941bd94",
     "grade": true,
     "grade_id": "cell-bd64e346fa488c45",
     "locked": true,
     "points": 2,
     "schema_version": 1,
     "solution": false
    }
   },
   "outputs": [],
   "source": [
    "stopifnot(str_rev(\"Hello my name is Jonathan!\") == \"!nahtanoJ si eman ym olleH\")\n",
    "stopifnot(str_rev(str_rev(\"anything\")) == \"anything\")"
   ]
  },
  {
   "cell_type": "markdown",
   "metadata": {
    "deletable": false,
    "editable": false,
    "nbgrader": {
     "checksum": "f5b6ad4b3592ae0cb64a228ac168728a",
     "grade": false,
     "grade_id": "cell-e1d2c1d95995b234",
     "locked": true,
     "schema_version": 1,
     "solution": false
    }
   },
   "source": [
    "#### Problem 5 (2 pts.)\n",
    "Thanksgiving occurs on the fourth Thursday in November. Write a function `thanksgiving_day(year)` which, given a year, returns the date of Thanksgiving for that year:\n",
    "\n",
    "(There exist R libraries that compute this for you. You may use them to test your code. However, the solution itself  should rely on the base R / lubridate date manipulation commands only.)"
   ]
  },
  {
   "cell_type": "code",
   "execution_count": 104,
   "metadata": {
    "deletable": false,
    "nbgrader": {
     "checksum": "ae48d15799288117224e6d52a74b2310",
     "grade": false,
     "grade_id": "cell-2c911b77029bb296",
     "locked": false,
     "schema_version": 1,
     "solution": true
    }
   },
   "outputs": [],
   "source": [
    "thanksgiving_day <- function(year) {\n",
    "    date = as.Date(ISOdate(year, 11, 1))\n",
    "    date1 = date + dweeks(3)\n",
    "    weekday = wday(date1)\n",
    "   \n",
    " while(weekday != 5) {\n",
    "     date1 = date1 + ddays(1)\n",
    "     weekday = wday(date1)\n",
    " }\n",
    "    return(date1)\n",
    "}\n"
   ]
  },
  {
   "cell_type": "code",
   "execution_count": 105,
   "metadata": {
    "deletable": false,
    "editable": false,
    "nbgrader": {
     "checksum": "96bfe8db65dc0f98bcbe6b8981db5dd1",
     "grade": true,
     "grade_id": "cell-5bc7529c43ee6bde",
     "locked": true,
     "points": 2,
     "schema_version": 1,
     "solution": false
    }
   },
   "outputs": [],
   "source": [
    "stopifnot(exists(\"thanksgiving_day\"))\n",
    "stopifnot(thanksgiving_day(2018) == make_datetime(2018, 11, 22))"
   ]
  },
  {
   "cell_type": "markdown",
   "metadata": {
    "deletable": false,
    "editable": false,
    "nbgrader": {
     "checksum": "67a0714ad3e27a6c11158e00284f81fd",
     "grade": false,
     "grade_id": "cell-978628dab17c58e2",
     "locked": true,
     "schema_version": 1,
     "solution": false
    }
   },
   "source": [
    "#### Problem 6 (2 pts.)\n",
    "A *recursive* function is a function that calls itself. For example, the following recursive function computes the $k$th factorial number, $$k! := \\prod_{i=1}^k i,\\quad k \\ge 0.$$"
   ]
  },
  {
   "cell_type": "code",
   "execution_count": 106,
   "metadata": {
    "deletable": false,
    "editable": false,
    "nbgrader": {
     "checksum": "95c74bbe50ca9bb5a5d9d2e8dda3c952",
     "grade": false,
     "grade_id": "cell-13093053036566c6",
     "locked": true,
     "schema_version": 1,
     "solution": false
    }
   },
   "outputs": [
    {
     "data": {
      "text/html": [
       "120"
      ],
      "text/latex": [
       "120"
      ],
      "text/markdown": [
       "120"
      ],
      "text/plain": [
       "[1] 120"
      ]
     },
     "metadata": {},
     "output_type": "display_data"
    }
   ],
   "source": [
    "factorial = function(k) {\n",
    "    if (k <= 0) {\n",
    "        return(1)\n",
    "    }\n",
    "    k * factorial(k - 1)\n",
    "}\n",
    "factorial(5)"
   ]
  },
  {
   "cell_type": "markdown",
   "metadata": {
    "deletable": false,
    "editable": false,
    "nbgrader": {
     "checksum": "77b532f292d3b0af825a2b33fbd805f0",
     "grade": false,
     "grade_id": "cell-8ccc246305bff42e",
     "locked": true,
     "schema_version": 1,
     "solution": false
    }
   },
   "source": [
    "Write a recursive function `fib(k)` that computes $F_k$, the $k$th Fibonacci number. (The Fibonacci sequence is defined by the recurrence $F_{k+2} = F_{k+1} + F_{k}$ for $k\\ge 2$, with $F_1 = F_2 = 1$.)"
   ]
  },
  {
   "cell_type": "code",
   "execution_count": 107,
   "metadata": {
    "deletable": false,
    "nbgrader": {
     "checksum": "9e24459c200035bd553319c2fe71b7b4",
     "grade": false,
     "grade_id": "cell-35b43f7fbbd15a2a",
     "locked": false,
     "schema_version": 1,
     "solution": true
    }
   },
   "outputs": [],
   "source": [
    "fib = function(k) {\n",
    " if(k <= 1) {\n",
    "return(k)\n",
    "    } \n",
    " else {\n",
    "    return(fib(k-1) + fib(k-2))\n",
    "        }\n",
    "            }\n"
   ]
  },
  {
   "cell_type": "code",
   "execution_count": 108,
   "metadata": {
    "deletable": false,
    "editable": false,
    "nbgrader": {
     "checksum": "25c7c57167ae138b130e70f6a9938c03",
     "grade": true,
     "grade_id": "cell-bc22d2de2afba804",
     "locked": true,
     "points": 2,
     "schema_version": 1,
     "solution": false
    }
   },
   "outputs": [],
   "source": [
    "stopifnot(all(sapply(1:10, fib) == c(1,1,2,3,5,8,13,21,34,55)))"
   ]
  },
  {
   "cell_type": "markdown",
   "metadata": {
    "deletable": false,
    "editable": false,
    "nbgrader": {
     "checksum": "4bb5540a11d61d258fc809fe6adb54d0",
     "grade": false,
     "grade_id": "cell-427aefc2db90655f",
     "locked": true,
     "schema_version": 1,
     "solution": false
    }
   },
   "source": [
    "#### Problem 7 (2 pts.)\n",
    "In Calculus II you learned that $$\\int_0^1 f(x)\\,\\mathrm{d} x = \\lim_{n\\to\\infty} \\frac{1}{n} \\sum_{i=1}^n f(i/n).$$ The summation on the right-hand side is called a *Riemann sum*. Setting $n$ to a large (but finite) number gives an algorithm for numerically computing the definite integral on the left-hand side.\n",
    "\n",
    "Write a function `int01(f)` that takes a single argument `f`, itself a function, and uses this formula to approximate the integral of `f` over the interval $[0,1]$. (Choose $n=1000$ subdivisions in order to compute the sum.)"
   ]
  },
  {
   "cell_type": "code",
   "execution_count": 109,
   "metadata": {
    "deletable": false,
    "nbgrader": {
     "checksum": "3497a64ea8af3c864fa35e4268c671e3",
     "grade": false,
     "grade_id": "cell-c52101831c5231f0",
     "locked": false,
     "schema_version": 1,
     "solution": true
    }
   },
   "outputs": [],
   "source": [
    "int01 = function(f) {\n",
    "    1/1000 * sum(f(1:1000/1000))\n",
    "   }"
   ]
  },
  {
   "cell_type": "code",
   "execution_count": 110,
   "metadata": {
    "deletable": false,
    "editable": false,
    "nbgrader": {
     "checksum": "d5d33e8ec1b961c59d8812d4d869d8fc",
     "grade": true,
     "grade_id": "cell-df54fc2e75fe854f",
     "locked": true,
     "points": 2,
     "schema_version": 1,
     "solution": false
    }
   },
   "outputs": [],
   "source": [
    "stopifnot(near(int01(function(x) rep(1, length(x))), 1))\n",
    "stopifnot(near(int01(function(x) x), 1/2, tol = 1e-3))                     \n",
    "stopifnot(near(int01(function(x) sin(2 * pi * x)), 0))"
   ]
  },
  {
   "cell_type": "markdown",
   "metadata": {
    "deletable": false,
    "editable": false,
    "nbgrader": {
     "checksum": "6c59f388777095df5c56ecbaecc7d5e0",
     "grade": false,
     "grade_id": "cell-6494c58db3a89c41",
     "locked": true,
     "schema_version": 1,
     "solution": false
    }
   },
   "source": [
    "#### Problem 8 (4 pts.)\n",
    "You may have noticed that `int01` is fairly inaccurate. For example, while $\\int_0^1 x^2\\,\\mathrm{d}x = 1/3$, we see that \n",
    "```{r}\n",
    "> int01(function(x) x^2)\n",
    "[1] 0.3338335\n",
    "```\n",
    "is only correct to three decimal places. This is because `int01` does not take the shape of the function `f` into account. To obtain more accuracy, we can use [Simpson's rule](https://en.wikipedia.org/wiki/Simpson%27s_rule):\n",
    "$$\\int_0^1 f(x)\\,\\mathrm{d}x \\approx \\frac{1}{6n} \\sum_{i=1}^n f\\left(\\frac{i-1}{n}\\right) + 4f\\left(\\frac{i - 1/2}{n}\\right)\n",
    "+ f\\left(\\frac{i}{n}\\right),$$ for large $n$.\n",
    "\n",
    "Implement Simpson's rule (again using $n=1000$) in a function called `simps01(f)`, and use it to define a function `rel_acc(f, truth)` which compares the relative accuracy of the Simpson's rule against `int01`. The function should take two arguments, the function to be integrated `f` and $$\\texttt{truth} = \\int_0^1 f(x)\\,\\mathrm{d}x,$$\n",
    "the true value of the integral. It should return the relative accuracy, defined as $$\\texttt{relacc(f, truth)} = \\frac{|\\texttt{simps01(f)} - \\texttt{truth}|}{|\\texttt{int01(f)}-\\texttt{truth}|}.$$ (Hence, small values of `rel_acc` indicate that Simpson's rule is more accurate.)"
   ]
  },
  {
   "cell_type": "code",
   "execution_count": 111,
   "metadata": {
    "deletable": false,
    "nbgrader": {
     "checksum": "7e7d9b95b879d2ff61d87fe234320b93",
     "grade": false,
     "grade_id": "cell-eb49dfd8117a95cd",
     "locked": false,
     "schema_version": 1,
     "solution": true
    }
   },
   "outputs": [],
   "source": [
    "i = 1:1000\n",
    "\n",
    "simps01 = function(f) {\n",
    "    (1/(6*1000)) * sum(f((i-1)/1000) + 4*f((i-.5) / 1000) + f(i/1000))\n",
    "}\n",
    "\n",
    "rel_acc = function(f, truth) {\n",
    "    abs(simps01(f) - truth) / abs(int01(f) - truth)\n",
    "}"
   ]
  },
  {
   "cell_type": "code",
   "execution_count": 112,
   "metadata": {
    "deletable": false,
    "editable": false,
    "nbgrader": {
     "checksum": "24a484abcc97266d5a2abb5d65d28c6f",
     "grade": true,
     "grade_id": "cell-ff2b0ae1d18173ec",
     "locked": true,
     "points": 4,
     "schema_version": 1,
     "solution": false
    }
   },
   "outputs": [],
   "source": [
    "stopifnot(rel_acc(function(x) x^2, 1/3) == 0)\n",
    "stopifnot(rel_acc(function(x) x^3, 1/4) == 0)\n",
    "stopifnot(near(rel_acc(sin, 1 - cos(1)), 5.7e-12))"
   ]
  },
  {
   "cell_type": "code",
   "execution_count": null,
   "metadata": {},
   "outputs": [],
   "source": []
  },
  {
   "cell_type": "code",
   "execution_count": null,
   "metadata": {},
   "outputs": [],
   "source": []
  },
  {
   "cell_type": "code",
   "execution_count": null,
   "metadata": {},
   "outputs": [],
   "source": []
  },
  {
   "cell_type": "code",
   "execution_count": null,
   "metadata": {},
   "outputs": [],
   "source": []
  }
 ],
 "metadata": {
  "kernelspec": {
   "display_name": "R",
   "language": "R",
   "name": "ir"
  },
  "language_info": {
   "codemirror_mode": "r",
   "file_extension": ".r",
   "mimetype": "text/x-r-source",
   "name": "R",
   "pygments_lexer": "r",
   "version": "3.4.1"
  }
 },
 "nbformat": 4,
 "nbformat_minor": 2
}
