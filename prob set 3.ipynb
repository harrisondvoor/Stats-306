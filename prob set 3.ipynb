{
 "cells": [
  {
   "cell_type": "markdown",
   "metadata": {},
   "source": [
    "Before you turn this problem set in, make sure everything runs as expected. First, **restart the kernel** (in the menubar, select Kernel$\\rightarrow$Restart) and then **run all cells** (in the menubar, select Cell$\\rightarrow$Run All). Your code should run from top to bottom with no errors. Failure to do this will result in loss of points.\n",
    "\n",
    "You should not use `install.packages()` anywhere. You may assume that we have already installed all the packages needed to run your code.\n",
    "\n",
    "Make sure you fill in any place that says `YOUR CODE HERE` or \"YOUR ANSWER HERE\" and delete the `stop()` functions, as well as your name and collaborators below:"
   ]
  },
  {
   "cell_type": "code",
   "execution_count": 3,
   "metadata": {},
   "outputs": [],
   "source": [
    "NAME = \"aayushap\"  # your uniqname \n",
    "COLLABORATORS = c(\"pjmerica\", \"sohumm\", \"kaspersj\")  # vector of uniqnames of your collaborators, if any\n",
    "## IMPORTANT: you must also have set your group on Canvas. This is only used as a backup."
   ]
  },
  {
   "cell_type": "markdown",
   "metadata": {},
   "source": [
    "---"
   ]
  },
  {
   "cell_type": "code",
   "execution_count": 46,
   "metadata": {},
   "outputs": [],
   "source": [
    "library(tidyverse)\n",
    "library(nycflights13)"
   ]
  },
  {
   "cell_type": "markdown",
   "metadata": {
    "deletable": false,
    "editable": false,
    "nbgrader": {
     "checksum": "e631fa895019a68861e95419656c54ae",
     "grade": false,
     "grade_id": "cell-b2019ef39daf039d",
     "locked": true,
     "schema_version": 1,
     "solution": false
    }
   },
   "source": [
    "# STATS 306\n",
    "## Problem Set 3: Data Manipulation II\n",
    "These questions again focus on the `flights` dataset. Each question is worth two points, for a total of 20."
   ]
  },
  {
   "cell_type": "markdown",
   "metadata": {
    "deletable": false,
    "editable": false,
    "nbgrader": {
     "checksum": "15129cde3ee14abf2ed3733b8dbdb2df",
     "grade": false,
     "grade_id": "cell-0bb94bc7e9431c3c",
     "locked": true,
     "schema_version": 1,
     "solution": false
    }
   },
   "source": [
    "Problems 1-3 are based on the `billionaires` dataset that we discussed in Lecture 06. Assume citizenship equals country throughout."
   ]
  },
  {
   "cell_type": "code",
   "execution_count": 47,
   "metadata": {},
   "outputs": [
    {
     "name": "stdout",
     "output_type": "stream",
     "text": [
      "# A tibble: 2,614 x 22\n",
      "     age category  citizenship company.name company.type `country code` founded\n",
      "   <int> <chr>     <chr>       <chr>        <chr>        <chr>            <int>\n",
      " 1    NA Financial Saudi Arab… Rolaco Trad… new          SAU               1968\n",
      " 2    34 Financial United Sta… Fidelity In… new          USA               1946\n",
      " 3    59 Non-Trad… Brazil      Companhia B… new          BRA               1948\n",
      " 4    61 New Sect… Germany     Ratiopharm   new          DEU               1881\n",
      " 5    NA Financial Hong Kong   Swire        new          HKG               1816\n",
      " 6    NA Traded S… Bahrain     YBA Kanoo    new          BHR               1890\n",
      " 7    NA New Sect… Japan       Otsuka Hold… new          JPN               1921\n",
      " 8    NA Traded S… Japan       Sony         new          JPN               1946\n",
      " 9    66 Financial Japan       Mori Buildi… new          JPN               1959\n",
      "10    NA Traded S… France      Chanel       new          FRA               1909\n",
      "# ... with 2,604 more rows, and 15 more variables: `from emerging` <chr>,\n",
      "#   gdp <dbl>, gender <chr>, industry <chr>, inherited <chr>, name <chr>,\n",
      "#   rank <int>, region <chr>, relationship <chr>, sector <chr>, `was\n",
      "#   founder` <chr>, `was political` <chr>, wealth.type <chr>, `worth in\n",
      "#   billions` <dbl>, year <int>\n"
     ]
    }
   ],
   "source": [
    "load(\"bil.RData\")\n",
    "print(bil)"
   ]
  },
  {
   "cell_type": "markdown",
   "metadata": {
    "deletable": false,
    "editable": false,
    "nbgrader": {
     "checksum": "b3cbbf735fe621d17f9dd90148a864e1",
     "grade": false,
     "grade_id": "cell-59f6007215845855",
     "locked": true,
     "schema_version": 1,
     "solution": false
    }
   },
   "source": [
    "#### Problem 1\n",
    "In which country are billionaires oldest on average? Youngest? Do not count any country which has less than five observations. Store your answers in variables `oldest1` and `youngest1`, respectively."
   ]
  },
  {
   "cell_type": "code",
   "execution_count": 48,
   "metadata": {
    "deletable": false,
    "nbgrader": {
     "checksum": "5e760750d78eed39d661a3e36a4b800d",
     "grade": false,
     "grade_id": "cell-d2db1eafcdc9086c",
     "locked": false,
     "schema_version": 1,
     "solution": true
    }
   },
   "outputs": [
    {
     "data": {
      "text/html": [
       "<table>\n",
       "<thead><tr><th scope=col>citizenship</th></tr></thead>\n",
       "<tbody>\n",
       "\t<tr><td>Portugal</td></tr>\n",
       "</tbody>\n",
       "</table>\n"
      ],
      "text/latex": [
       "\\begin{tabular}{r|l}\n",
       " citizenship\\\\\n",
       "\\hline\n",
       "\t Portugal\\\\\n",
       "\\end{tabular}\n"
      ],
      "text/markdown": [
       "\n",
       "citizenship | \n",
       "|---|\n",
       "| Portugal | \n",
       "\n",
       "\n"
      ],
      "text/plain": [
       "  citizenship\n",
       "1 Portugal   "
      ]
     },
     "metadata": {},
     "output_type": "display_data"
    },
    {
     "data": {
      "text/html": [
       "<table>\n",
       "<thead><tr><th scope=col>citizenship</th></tr></thead>\n",
       "<tbody>\n",
       "\t<tr><td>United Arab Emirates</td></tr>\n",
       "</tbody>\n",
       "</table>\n"
      ],
      "text/latex": [
       "\\begin{tabular}{r|l}\n",
       " citizenship\\\\\n",
       "\\hline\n",
       "\t United Arab Emirates\\\\\n",
       "\\end{tabular}\n"
      ],
      "text/markdown": [
       "\n",
       "citizenship | \n",
       "|---|\n",
       "| United Arab Emirates | \n",
       "\n",
       "\n"
      ],
      "text/plain": [
       "  citizenship         \n",
       "1 United Arab Emirates"
      ]
     },
     "metadata": {},
     "output_type": "display_data"
    }
   ],
   "source": [
    "oldest1 <- bil %>%\n",
    "  group_by(citizenship) %>%\n",
    "  summarise(avg = mean(age, na.rm = TRUE), n = n()) %>%\n",
    "  filter(n >= 5) %>%\n",
    "  arrange(desc(avg)) %>%\n",
    "  top_n(1, avg) %>%\n",
    "  select(citizenship)\n",
    "\n",
    "youngest1 <- bil %>%\n",
    "  group_by(citizenship) %>%\n",
    "  summarise(avg = mean(age, na.rm = TRUE), n = n()) %>%\n",
    "  filter(n >= 5) %>%\n",
    "  arrange(avg) %>%\n",
    "  top_n(1, desc(avg)) %>%\n",
    "  select(citizenship)\n",
    "\n",
    "oldest1\n",
    "youngest1"
   ]
  },
  {
   "cell_type": "code",
   "execution_count": null,
   "metadata": {
    "deletable": false,
    "editable": false,
    "nbgrader": {
     "checksum": "5d2b5aaaa9047cc4364c281e207845ec",
     "grade": true,
     "grade_id": "cell-7a7d98bcf2462c28",
     "locked": true,
     "points": 2,
     "schema_version": 1,
     "solution": false
    }
   },
   "outputs": [],
   "source": [
    "stopifnot(exists(\"oldest1\"))\n",
    "stopifnot(exists(\"youngest1\"))"
   ]
  },
  {
   "cell_type": "markdown",
   "metadata": {
    "deletable": false,
    "editable": false,
    "nbgrader": {
     "checksum": "91ecf1ff7b084fd514c86316b7b82c4b",
     "grade": false,
     "grade_id": "cell-f73f2b876a457f55",
     "locked": true,
     "schema_version": 1,
     "solution": false
    }
   },
   "source": [
    "#### Problem 2\n",
    "Each billionaire has a `category` indicating how they made their fortune. The overall distribution of categories is:"
   ]
  },
  {
   "cell_type": "code",
   "execution_count": 49,
   "metadata": {
    "deletable": false,
    "editable": false,
    "nbgrader": {
     "checksum": "3724518c11757618b7c5b95eafed6f64",
     "grade": false,
     "grade_id": "cell-51cf5a5cc6a693db",
     "locked": true,
     "schema_version": 1,
     "solution": false
    }
   },
   "outputs": [
    {
     "data": {
      "text/plain": [
       "\n",
       "            energy            Finance          Financial        New Sectors \n",
       "                 1                  1                800                319 \n",
       "Non-Traded Sectors   Resource Related     Traded Sectors           Trucking \n",
       "               597                245                564                  1 "
      ]
     },
     "metadata": {},
     "output_type": "display_data"
    }
   ],
   "source": [
    "table(bil$category)"
   ]
  },
  {
   "cell_type": "markdown",
   "metadata": {
    "deletable": false,
    "editable": false,
    "nbgrader": {
     "checksum": "3fedcabadb2eff1682d349b1ae347dc5",
     "grade": false,
     "grade_id": "cell-1e326545d1ad7243",
     "locked": true,
     "schema_version": 1,
     "solution": false
    }
   },
   "source": [
    "Group the billionaires into three age brackets: \"40 and under\", \"41 to 65\", and \"above 65\". (There are just 77 billionaires aged 40 and under, for example.) What is the most common category of billionaire in each of the three age brackets? Store your answer in `table2`. The table should have three rows (one per category) and three columns: `age_bracket`, `most_common_category` and `n`, the number of billionaires in the most common category."
   ]
  },
  {
   "cell_type": "code",
   "execution_count": 52,
   "metadata": {
    "deletable": false,
    "nbgrader": {
     "checksum": "ba356c14a553abae1474be6bbbe47d65",
     "grade": false,
     "grade_id": "cell-7a01781f7307314b",
     "locked": false,
     "schema_version": 1,
     "solution": true
    }
   },
   "outputs": [
    {
     "name": "stderr",
     "output_type": "stream",
     "text": [
      "Adding missing grouping variables: `category`\n"
     ]
    },
    {
     "data": {
      "text/html": [
       "<table>\n",
       "<thead><tr><th scope=col>category</th><th scope=col>age_bracket</th><th scope=col>n</th></tr></thead>\n",
       "<tbody>\n",
       "\t<tr><td>Financial  </td><td>a          </td><td> 17        </td></tr>\n",
       "\t<tr><td>New Sectors</td><td>a          </td><td> 27        </td></tr>\n",
       "\t<tr><td>Financial  </td><td>b          </td><td>352        </td></tr>\n",
       "\t<tr><td>New Sectors</td><td>b          </td><td>185        </td></tr>\n",
       "\t<tr><td>Financial  </td><td>c          </td><td>317        </td></tr>\n",
       "\t<tr><td>New Sectors</td><td>c          </td><td> 75        </td></tr>\n",
       "</tbody>\n",
       "</table>\n"
      ],
      "text/latex": [
       "\\begin{tabular}{r|lll}\n",
       " category & age\\_bracket & n\\\\\n",
       "\\hline\n",
       "\t Financial   & a           &  17        \\\\\n",
       "\t New Sectors & a           &  27        \\\\\n",
       "\t Financial   & b           & 352        \\\\\n",
       "\t New Sectors & b           & 185        \\\\\n",
       "\t Financial   & c           & 317        \\\\\n",
       "\t New Sectors & c           &  75        \\\\\n",
       "\\end{tabular}\n"
      ],
      "text/markdown": [
       "\n",
       "category | age_bracket | n | \n",
       "|---|---|---|---|---|---|\n",
       "| Financial   | a           |  17         | \n",
       "| New Sectors | a           |  27         | \n",
       "| Financial   | b           | 352         | \n",
       "| New Sectors | b           | 185         | \n",
       "| Financial   | c           | 317         | \n",
       "| New Sectors | c           |  75         | \n",
       "\n",
       "\n"
      ],
      "text/plain": [
       "  category    age_bracket n  \n",
       "1 Financial   a            17\n",
       "2 New Sectors a            27\n",
       "3 Financial   b           352\n",
       "4 New Sectors b           185\n",
       "5 Financial   c           317\n",
       "6 New Sectors c            75"
      ]
     },
     "metadata": {},
     "output_type": "display_data"
    },
    {
     "data": {
      "text/html": [
       "<table>\n",
       "<thead><tr><th scope=col>age_bracket</th><th scope=col>n</th><th scope=col>most_common_category</th></tr></thead>\n",
       "<tbody>\n",
       "\t<tr><td>40 and under</td><td> 27         </td><td>New Sectors </td></tr>\n",
       "\t<tr><td>41 to 65    </td><td>352         </td><td>Financial   </td></tr>\n",
       "\t<tr><td>above 65    </td><td>317         </td><td>Financial   </td></tr>\n",
       "</tbody>\n",
       "</table>\n"
      ],
      "text/latex": [
       "\\begin{tabular}{r|lll}\n",
       " age\\_bracket & n & most\\_common\\_category\\\\\n",
       "\\hline\n",
       "\t 40 and under &  27          & New Sectors \\\\\n",
       "\t 41 to 65     & 352          & Financial   \\\\\n",
       "\t above 65     & 317          & Financial   \\\\\n",
       "\\end{tabular}\n"
      ],
      "text/markdown": [
       "\n",
       "age_bracket | n | most_common_category | \n",
       "|---|---|---|\n",
       "| 40 and under |  27          | New Sectors  | \n",
       "| 41 to 65     | 352          | Financial    | \n",
       "| above 65     | 317          | Financial    | \n",
       "\n",
       "\n"
      ],
      "text/plain": [
       "  age_bracket  n   most_common_category\n",
       "1 40 and under  27 New Sectors         \n",
       "2 41 to 65     352 Financial           \n",
       "3 above 65     317 Financial           "
      ]
     },
     "metadata": {},
     "output_type": "display_data"
    }
   ],
   "source": [
    "temp2=bil  %>% group_by(category)%>% select(age) %>% \n",
    "        summarize(a=sum( age < 40,na.rm=1), b=sum(age >= 40&age <66 ,na.rm=1), c=sum(age>65,na.rm=1)) %>%\n",
    "filter( a==max(a,na.rm=1)|b==max(b,na.rm=1)|c==max(c,na.rm=1)) %>% gather('a','b','c',key=\"age_bracket\",value=\"n\" ) \n",
    "temp2\n",
    "\n",
    "table2=temp2[c(2,3,5),] %>%mutate(most_common_category=category,age_bracket=c( \"40 and under\", \"41 to 65\", \"above 65\"),n=n) %>% \n",
    "select(age_bracket,n,most_common_category)\n",
    "table2\n"
   ]
  },
  {
   "cell_type": "code",
   "execution_count": null,
   "metadata": {
    "deletable": false,
    "editable": false,
    "nbgrader": {
     "checksum": "28848d9e13ec8015baeaaa91e78db4b7",
     "grade": true,
     "grade_id": "cell-6c7da4762cb22ffe",
     "locked": true,
     "points": 2,
     "schema_version": 1,
     "solution": false
    }
   },
   "outputs": [],
   "source": [
    "stopifnot(exists(\"table2\"))"
   ]
  },
  {
   "cell_type": "markdown",
   "metadata": {
    "deletable": false,
    "editable": false,
    "nbgrader": {
     "checksum": "d1ec3daca16a078e2f530d122a91195a",
     "grade": false,
     "grade_id": "cell-49e8113a56dd89ad",
     "locked": true,
     "schema_version": 1,
     "solution": false
    }
   },
   "source": [
    "#### Problem 3\n",
    "Define a country's \"gender gap\" to be the difference in the percentage of male and female billionaires. (Hence, it is equal to zero if the country has exactly equal numbers of male and female billionaires.) \n",
    "\n",
    "Only one country has an equal number of male and female billionaires. The average gender gap across all countries is 0.85. If we plot countries according to their deviation from 0 (parity), grouping the 38 countries with no female billionaires into a single category, we obtain the following plot:\n",
    "\n",
    "![plot3](plot3.png)\n",
    "\n",
    "Recreate this plot."
   ]
  },
  {
   "cell_type": "code",
   "execution_count": 54,
   "metadata": {
    "deletable": false,
    "nbgrader": {
     "checksum": "6f117c9bd10f5598db09f51cfc769657",
     "grade": true,
     "grade_id": "cell-7071e63743a8e71a",
     "locked": false,
     "points": 2,
     "schema_version": 1,
     "solution": true
    }
   },
   "outputs": [
    {
     "data": {},
     "metadata": {},
     "output_type": "display_data"
    },
    {
     "data": {
      "image/png": "[encoded data removed]",
      "text/plain": [
       "plot without title"
      ]
     },
     "metadata": {},
     "output_type": "display_data"
    }
   ],
   "source": [
    "with_female <- bil %>% group_by(citizenship) %>%\n",
    "summarize(num_male = sum(gender == \"male\"), obs = n(), num_female = sum(gender == \"female\"), num_na = sum(is.na(gender))) %>%\n",
    "filter(num_na == 0) %>%\n",
    "mutate(deviation = (num_male - num_female) / obs) %>%\n",
    "filter(num_female != 0) %>% select(deviation, citizenship)\n",
    "\n",
    "no_female <- bil %>% filter(!is.na(gender)) %>% group_by(citizenship) %>%\n",
    "summarize(num_male = sum(gender == \"male\", na.rm = T), obs = n()) %>%\n",
    "mutate(num_female = obs - num_male, deviation = (num_male - num_female) / obs) %>%\n",
    "filter(num_female == 0) %>% select(citizenship, obs, num_male, num_female, deviation) %>%\n",
    "group_by(deviation) %>% summarize(citizenship = paste0(\"38 countries\"))\n",
    "\n",
    "bar = rbind(with_female, no_female)\n",
    "bar %>% ggplot() + geom_bar(mapping = aes(x = reorder(citizenship, deviation), y = deviation), position = \"dodge\", stat = \"identity\") +\n",
    "coord_flip() +   xlab(\"Citizenship\") + ylab(\"Deviation\") \n"
   ]
  },
  {
   "cell_type": "markdown",
   "metadata": {
    "deletable": false,
    "editable": false,
    "nbgrader": {
     "checksum": "22ad79153058fd0e2da6cf49bd0f893f",
     "grade": false,
     "grade_id": "cell-20275bba9d88d940",
     "locked": true,
     "schema_version": 1,
     "solution": false
    }
   },
   "source": [
    "#### Problem 4\n",
    "Recall that each airplane has a unique tail number given by `tailnum`. Find the tail number of the airplane which flew to the largest number of *unique* destinations from any of the the three departure airports in `flights`. Store the string containing this tail number in a variable called `most_dests`."
   ]
  },
  {
   "cell_type": "code",
   "execution_count": 55,
   "metadata": {
    "deletable": false,
    "nbgrader": {
     "checksum": "7960c47ea7c427d277f239d8fd3d6627",
     "grade": false,
     "grade_id": "cell-e537b3c48f99f487",
     "locked": false,
     "schema_version": 1,
     "solution": true
    }
   },
   "outputs": [
    {
     "name": "stderr",
     "output_type": "stream",
     "text": [
      "Adding missing grouping variables: `tailnum`\n"
     ]
    },
    {
     "data": {
      "text/html": [
       "<table>\n",
       "<thead><tr><th scope=col>tailnum</th><th scope=col>n</th></tr></thead>\n",
       "<tbody>\n",
       "\t<tr><td>N11194</td><td>47    </td></tr>\n",
       "</tbody>\n",
       "</table>\n"
      ],
      "text/latex": [
       "\\begin{tabular}{r|ll}\n",
       " tailnum & n\\\\\n",
       "\\hline\n",
       "\t N11194 & 47    \\\\\n",
       "\\end{tabular}\n"
      ],
      "text/markdown": [
       "\n",
       "tailnum | n | \n",
       "|---|\n",
       "| N11194 | 47     | \n",
       "\n",
       "\n"
      ],
      "text/plain": [
       "  tailnum n \n",
       "1 N11194  47"
      ]
     },
     "metadata": {},
     "output_type": "display_data"
    }
   ],
   "source": [
    "table4=flights %>% group_by(tailnum) %>% select(dest) \n",
    "table4=unique(table4[,c(\"tailnum\",\"dest\")]) %>% summarise(n=sum(tailnum==tailnum)) %>%arrange(desc(n))\n",
    "most_dests=table4[1,]$tailnum\n",
    "\n",
    "most_dests = flights %>%\n",
    "  filter(!is.na(tailnum)) %>%\n",
    "  group_by(tailnum) %>%\n",
    "  summarize(n = n_distinct(dest)) %>%\n",
    "  top_n(1, n)\n",
    "most_dests\n"
   ]
  },
  {
   "cell_type": "code",
   "execution_count": null,
   "metadata": {
    "deletable": false,
    "editable": false,
    "nbgrader": {
     "checksum": "568c62ef4d6fa3908c900b1e7caa6c7a",
     "grade": true,
     "grade_id": "cell-1ffbbc74bad522fc",
     "locked": true,
     "points": 2,
     "schema_version": 1,
     "solution": false
    }
   },
   "outputs": [],
   "source": [
    "stopifnot(exists(\"most_dests\"))"
   ]
  },
  {
   "cell_type": "markdown",
   "metadata": {
    "deletable": false,
    "editable": false,
    "nbgrader": {
     "checksum": "c4a77e838e0d4c69e99eeef961b27fe1",
     "grade": false,
     "grade_id": "cell-0e8abf21f2ba96ea",
     "locked": true,
     "schema_version": 1,
     "solution": false
    }
   },
   "source": [
    "\n",
    "#### Problem 5\n",
    "The following code adds a variable `week` to `flights`, such that `week==1` for the first seven days of the year, `week==2` for days 8-14, etc. (In the second half of the semester we will learn how to manipulate dates using the `lubridate` package.)"
   ]
  },
  {
   "cell_type": "code",
   "execution_count": 56,
   "metadata": {
    "deletable": false,
    "editable": false,
    "nbgrader": {
     "checksum": "f865fca0179d06d5c1e0cd07abde40bf",
     "grade": false,
     "grade_id": "cell-ef89be1d94d823b6",
     "locked": true,
     "schema_version": 1,
     "solution": false
    }
   },
   "outputs": [],
   "source": [
    "flights_week = mutate(flights, week=lubridate::week(time_hour))"
   ]
  },
  {
   "cell_type": "markdown",
   "metadata": {
    "deletable": false,
    "editable": false,
    "nbgrader": {
     "checksum": "9915daf2bffe373c77d652933d63630c",
     "grade": false,
     "grade_id": "cell-445c03b12c5f570f",
     "locked": true,
     "schema_version": 1,
     "solution": false
    }
   },
   "source": [
    "Let a flight's \"positive arrival delay\" be defined as the larger of `arr_delay` and zero. We say a flight is *ridiculously late* if its arrival delay was more than ten times the average positive arrival delay for all flights in that week.\n",
    "- Use the `flights_week` table to calculate the number of ridiculously late flights in each week of the year. For example, in the first week of the year there were 81 ridiculously late flights.\n",
    "- Also add in the total number of flights in the data set for each week. \n",
    "\n",
    "Sort the resulting table in descending order of the number of ridiculously late flights and store it in a variable called `table5`. The table should have three columns, `week`, `n`, and `n_ridiculously_late`."
   ]
  },
  {
   "cell_type": "code",
   "execution_count": 58,
   "metadata": {
    "deletable": false,
    "nbgrader": {
     "checksum": "cc7077aa4d1a966575373c0f325c7ec0",
     "grade": false,
     "grade_id": "cell-d6bae11e1d26ffea",
     "locked": false,
     "schema_version": 1,
     "solution": true
    }
   },
   "outputs": [
    {
     "name": "stdout",
     "output_type": "stream",
     "text": [
      "# A tibble: 53 x 3\n",
      "    week     n n_ridiculously_late\n",
      "   <dbl> <int>               <int>\n",
      " 1    40  6528                 186\n",
      " 2    36  6427                 183\n",
      " 3    13  6542                 173\n",
      " 4    18  6522                 162\n",
      " 5    38  6509                 161\n",
      " 6    39  6517                 150\n",
      " 7    34  6614                 142\n",
      " 8    35  6209                 130\n",
      " 9    46  6517                 130\n",
      "10    37  6474                 129\n",
      "# ... with 43 more rows\n"
     ]
    }
   ],
   "source": [
    "flights_week = mutate(flights, week=lubridate::week(time_hour))\n",
    "\n",
    "table5 <- flights_week %>%\n",
    "  mutate(pos_delay = ifelse(arr_delay< 0, 0, arr_delay)) %>%\n",
    "  group_by(week) %>%\n",
    "  summarize(n = n(), n_ridiculously_late = sum(arr_delay > 10 * mean(pos_delay, na.rm = TRUE), na.rm = TRUE)) %>%\n",
    "  arrange(desc(n_ridiculously_late))\n",
    "print(table5)\n"
   ]
  },
  {
   "cell_type": "code",
   "execution_count": null,
   "metadata": {
    "deletable": false,
    "editable": false,
    "nbgrader": {
     "checksum": "868880d36a7185703ba19a0e06f379c3",
     "grade": true,
     "grade_id": "cell-e44f4d8bb47b1dff",
     "locked": true,
     "points": 2,
     "schema_version": 1,
     "solution": false
    }
   },
   "outputs": [],
   "source": [
    "stopifnot(exists(\"table5\"))"
   ]
  },
  {
   "cell_type": "markdown",
   "metadata": {
    "deletable": false,
    "editable": false,
    "nbgrader": {
     "checksum": "11285d8f27006138ce21c432117893df",
     "grade": false,
     "grade_id": "cell-3cce0b58d245c89a",
     "locked": true,
     "schema_version": 1,
     "solution": false
    }
   },
   "source": [
    "#### Problem 6\n",
    "Use your solution in part 5\n",
    "to generate a bar plot of the number of ridiculously late flights each week. Give your plot an appropriate title and axis labels."
   ]
  },
  {
   "cell_type": "code",
   "execution_count": 59,
   "metadata": {
    "deletable": false,
    "nbgrader": {
     "checksum": "6ee668ed841e79a64401901178bb253d",
     "grade": true,
     "grade_id": "cell-eb04a76e779d688a",
     "locked": false,
     "points": 2,
     "schema_version": 1,
     "solution": true
    }
   },
   "outputs": [
    {
     "data": {},
     "metadata": {},
     "output_type": "display_data"
    },
    {
     "data": {
      "image/png": "[encoded data removed]",
      "text/plain": [
       "plot without title"
      ]
     },
     "metadata": {},
     "output_type": "display_data"
    }
   ],
   "source": [
    "ggplot(table5) +\n",
    "  geom_bar(aes(week, n_ridiculously_late), stat = \"identity\") +\n",
    "  labs(x = \"Week\", y = \"# of Flights Ridiculously Late\") +\n",
    "  ggtitle(\"Flights Ridiculously Late Each Week of the Year\")\n"
   ]
  },
  {
   "cell_type": "markdown",
   "metadata": {
    "deletable": false,
    "editable": false,
    "nbgrader": {
     "checksum": "e9e4a7c941c39efcfe959558f80ac4b7",
     "grade": false,
     "grade_id": "cell-476b8bff101f096e",
     "locked": true,
     "schema_version": 1,
     "solution": false
    }
   },
   "source": [
    "#### Problem 7\n",
    "Your plot in problem 6 should have a curious feature: in a couple of weeks there were far fewer ridiculously late flights than the rest. \n",
    "- Investigate this further by determining the fraction of arrival delays which were missing in each week. For example, in week 1, 0.92% of flights had missing arrival delay times.\n",
    "- Additionally, rank each week by this fraction. The week with the highest fraction of missing arrival delay times should have rank one, second highest rank two, and so on.\n",
    "\n",
    "Store the result in a variable called `table7`. \n",
    "Your table should have three columns: `week`, `frac_miss_arr_delay` and `rank`."
   ]
  },
  {
   "cell_type": "code",
   "execution_count": 61,
   "metadata": {
    "deletable": false,
    "nbgrader": {
     "checksum": "ae332f5adae8bad1d1869b67d97ace0f",
     "grade": false,
     "grade_id": "cell-d1e32899d644c7c6",
     "locked": false,
     "schema_version": 1,
     "solution": true
    }
   },
   "outputs": [
    {
     "data": {
      "text/html": [
       "<table>\n",
       "<thead><tr><th scope=col>week</th><th scope=col>frac_miss_arr_delay</th><th scope=col>rank</th></tr></thead>\n",
       "<tbody>\n",
       "\t<tr><td> 6         </td><td>0.165874447</td><td> 1         </td></tr>\n",
       "\t<tr><td>26         </td><td>0.080323692</td><td> 2         </td></tr>\n",
       "\t<tr><td>10         </td><td>0.079096045</td><td> 3         </td></tr>\n",
       "\t<tr><td>50         </td><td>0.068278135</td><td> 4         </td></tr>\n",
       "\t<tr><td>49         </td><td>0.063144733</td><td> 5         </td></tr>\n",
       "\t<tr><td>21         </td><td>0.055529037</td><td> 6         </td></tr>\n",
       "\t<tr><td>37         </td><td>0.048192771</td><td> 7         </td></tr>\n",
       "\t<tr><td>28         </td><td>0.047231270</td><td> 8         </td></tr>\n",
       "\t<tr><td>16         </td><td>0.047186933</td><td> 9         </td></tr>\n",
       "\t<tr><td> 5         </td><td>0.044301713</td><td>10         </td></tr>\n",
       "\t<tr><td>15         </td><td>0.041798702</td><td>11         </td></tr>\n",
       "\t<tr><td>29         </td><td>0.041110122</td><td>12         </td></tr>\n",
       "\t<tr><td>30         </td><td>0.038136222</td><td>13         </td></tr>\n",
       "\t<tr><td>25         </td><td>0.035607421</td><td>14         </td></tr>\n",
       "\t<tr><td>24         </td><td>0.031127820</td><td>15         </td></tr>\n",
       "\t<tr><td>35         </td><td>0.030439684</td><td>16         </td></tr>\n",
       "\t<tr><td>51         </td><td>0.028702290</td><td>17         </td></tr>\n",
       "\t<tr><td>27         </td><td>0.027608347</td><td>18         </td></tr>\n",
       "\t<tr><td> 4         </td><td>0.027392739</td><td>19         </td></tr>\n",
       "\t<tr><td>12         </td><td>0.027047677</td><td>20         </td></tr>\n",
       "\t<tr><td>22         </td><td>0.026911966</td><td>21         </td></tr>\n",
       "\t<tr><td>32         </td><td>0.026136026</td><td>22         </td></tr>\n",
       "\t<tr><td>11         </td><td>0.024100061</td><td>23         </td></tr>\n",
       "\t<tr><td>19         </td><td>0.023721503</td><td>24         </td></tr>\n",
       "\t<tr><td>23         </td><td>0.023646072</td><td>25         </td></tr>\n",
       "\t<tr><td> 9         </td><td>0.022445820</td><td>26         </td></tr>\n",
       "\t<tr><td>53         </td><td>0.021907216</td><td>27         </td></tr>\n",
       "\t<tr><td>31         </td><td>0.020193022</td><td>28         </td></tr>\n",
       "\t<tr><td>17         </td><td>0.018908204</td><td>29         </td></tr>\n",
       "\t<tr><td> 8         </td><td>0.017516422</td><td>30         </td></tr>\n",
       "\t<tr><td> 3         </td><td>0.017447657</td><td>31         </td></tr>\n",
       "\t<tr><td>33         </td><td>0.015868263</td><td>32         </td></tr>\n",
       "\t<tr><td>41         </td><td>0.015104809</td><td>33         </td></tr>\n",
       "\t<tr><td>40         </td><td>0.013786765</td><td>34         </td></tr>\n",
       "\t<tr><td>44         </td><td>0.013717849</td><td>35         </td></tr>\n",
       "\t<tr><td>46         </td><td>0.011815252</td><td>36         </td></tr>\n",
       "\t<tr><td>34         </td><td>0.011490777</td><td>37         </td></tr>\n",
       "\t<tr><td> 2         </td><td>0.010967425</td><td>38         </td></tr>\n",
       "\t<tr><td> 7         </td><td>0.010391687</td><td>39         </td></tr>\n",
       "\t<tr><td>38         </td><td>0.009832540</td><td>40         </td></tr>\n",
       "\t<tr><td>20         </td><td>0.009652214</td><td>41         </td></tr>\n",
       "\t<tr><td>48         </td><td>0.009599740</td><td>42         </td></tr>\n",
       "\t<tr><td>52         </td><td>0.009423045</td><td>43         </td></tr>\n",
       "\t<tr><td> 1         </td><td>0.009181833</td><td>44         </td></tr>\n",
       "\t<tr><td>45         </td><td>0.009062980</td><td>45         </td></tr>\n",
       "\t<tr><td>18         </td><td>0.008126342</td><td>46         </td></tr>\n",
       "\t<tr><td>39         </td><td>0.007825687</td><td>47         </td></tr>\n",
       "\t<tr><td>47         </td><td>0.007043332</td><td>48         </td></tr>\n",
       "\t<tr><td>36         </td><td>0.006690524</td><td>49         </td></tr>\n",
       "\t<tr><td>13         </td><td>0.005961480</td><td>50         </td></tr>\n",
       "\t<tr><td>14         </td><td>0.005300621</td><td>51         </td></tr>\n",
       "\t<tr><td>43         </td><td>0.005232379</td><td>52         </td></tr>\n",
       "\t<tr><td>42         </td><td>0.004758250</td><td>53         </td></tr>\n",
       "</tbody>\n",
       "</table>\n"
      ],
      "text/latex": [
       "\\begin{tabular}{r|lll}\n",
       " week & frac\\_miss\\_arr\\_delay & rank\\\\\n",
       "\\hline\n",
       "\t  6          & 0.165874447 &  1         \\\\\n",
       "\t 26          & 0.080323692 &  2         \\\\\n",
       "\t 10          & 0.079096045 &  3         \\\\\n",
       "\t 50          & 0.068278135 &  4         \\\\\n",
       "\t 49          & 0.063144733 &  5         \\\\\n",
       "\t 21          & 0.055529037 &  6         \\\\\n",
       "\t 37          & 0.048192771 &  7         \\\\\n",
       "\t 28          & 0.047231270 &  8         \\\\\n",
       "\t 16          & 0.047186933 &  9         \\\\\n",
       "\t  5          & 0.044301713 & 10         \\\\\n",
       "\t 15          & 0.041798702 & 11         \\\\\n",
       "\t 29          & 0.041110122 & 12         \\\\\n",
       "\t 30          & 0.038136222 & 13         \\\\\n",
       "\t 25          & 0.035607421 & 14         \\\\\n",
       "\t 24          & 0.031127820 & 15         \\\\\n",
       "\t 35          & 0.030439684 & 16         \\\\\n",
       "\t 51          & 0.028702290 & 17         \\\\\n",
       "\t 27          & 0.027608347 & 18         \\\\\n",
       "\t  4          & 0.027392739 & 19         \\\\\n",
       "\t 12          & 0.027047677 & 20         \\\\\n",
       "\t 22          & 0.026911966 & 21         \\\\\n",
       "\t 32          & 0.026136026 & 22         \\\\\n",
       "\t 11          & 0.024100061 & 23         \\\\\n",
       "\t 19          & 0.023721503 & 24         \\\\\n",
       "\t 23          & 0.023646072 & 25         \\\\\n",
       "\t  9          & 0.022445820 & 26         \\\\\n",
       "\t 53          & 0.021907216 & 27         \\\\\n",
       "\t 31          & 0.020193022 & 28         \\\\\n",
       "\t 17          & 0.018908204 & 29         \\\\\n",
       "\t  8          & 0.017516422 & 30         \\\\\n",
       "\t  3          & 0.017447657 & 31         \\\\\n",
       "\t 33          & 0.015868263 & 32         \\\\\n",
       "\t 41          & 0.015104809 & 33         \\\\\n",
       "\t 40          & 0.013786765 & 34         \\\\\n",
       "\t 44          & 0.013717849 & 35         \\\\\n",
       "\t 46          & 0.011815252 & 36         \\\\\n",
       "\t 34          & 0.011490777 & 37         \\\\\n",
       "\t  2          & 0.010967425 & 38         \\\\\n",
       "\t  7          & 0.010391687 & 39         \\\\\n",
       "\t 38          & 0.009832540 & 40         \\\\\n",
       "\t 20          & 0.009652214 & 41         \\\\\n",
       "\t 48          & 0.009599740 & 42         \\\\\n",
       "\t 52          & 0.009423045 & 43         \\\\\n",
       "\t  1          & 0.009181833 & 44         \\\\\n",
       "\t 45          & 0.009062980 & 45         \\\\\n",
       "\t 18          & 0.008126342 & 46         \\\\\n",
       "\t 39          & 0.007825687 & 47         \\\\\n",
       "\t 47          & 0.007043332 & 48         \\\\\n",
       "\t 36          & 0.006690524 & 49         \\\\\n",
       "\t 13          & 0.005961480 & 50         \\\\\n",
       "\t 14          & 0.005300621 & 51         \\\\\n",
       "\t 43          & 0.005232379 & 52         \\\\\n",
       "\t 42          & 0.004758250 & 53         \\\\\n",
       "\\end{tabular}\n"
      ],
      "text/markdown": [
       "\n",
       "week | frac_miss_arr_delay | rank | \n",
       "|---|---|---|---|---|---|---|---|---|---|---|---|---|---|---|---|---|---|---|---|---|---|---|---|---|---|---|---|---|---|---|---|---|---|---|---|---|---|---|---|---|---|---|---|---|---|---|---|---|---|---|---|---|\n",
       "|  6          | 0.165874447 |  1          | \n",
       "| 26          | 0.080323692 |  2          | \n",
       "| 10          | 0.079096045 |  3          | \n",
       "| 50          | 0.068278135 |  4          | \n",
       "| 49          | 0.063144733 |  5          | \n",
       "| 21          | 0.055529037 |  6          | \n",
       "| 37          | 0.048192771 |  7          | \n",
       "| 28          | 0.047231270 |  8          | \n",
       "| 16          | 0.047186933 |  9          | \n",
       "|  5          | 0.044301713 | 10          | \n",
       "| 15          | 0.041798702 | 11          | \n",
       "| 29          | 0.041110122 | 12          | \n",
       "| 30          | 0.038136222 | 13          | \n",
       "| 25          | 0.035607421 | 14          | \n",
       "| 24          | 0.031127820 | 15          | \n",
       "| 35          | 0.030439684 | 16          | \n",
       "| 51          | 0.028702290 | 17          | \n",
       "| 27          | 0.027608347 | 18          | \n",
       "|  4          | 0.027392739 | 19          | \n",
       "| 12          | 0.027047677 | 20          | \n",
       "| 22          | 0.026911966 | 21          | \n",
       "| 32          | 0.026136026 | 22          | \n",
       "| 11          | 0.024100061 | 23          | \n",
       "| 19          | 0.023721503 | 24          | \n",
       "| 23          | 0.023646072 | 25          | \n",
       "|  9          | 0.022445820 | 26          | \n",
       "| 53          | 0.021907216 | 27          | \n",
       "| 31          | 0.020193022 | 28          | \n",
       "| 17          | 0.018908204 | 29          | \n",
       "|  8          | 0.017516422 | 30          | \n",
       "|  3          | 0.017447657 | 31          | \n",
       "| 33          | 0.015868263 | 32          | \n",
       "| 41          | 0.015104809 | 33          | \n",
       "| 40          | 0.013786765 | 34          | \n",
       "| 44          | 0.013717849 | 35          | \n",
       "| 46          | 0.011815252 | 36          | \n",
       "| 34          | 0.011490777 | 37          | \n",
       "|  2          | 0.010967425 | 38          | \n",
       "|  7          | 0.010391687 | 39          | \n",
       "| 38          | 0.009832540 | 40          | \n",
       "| 20          | 0.009652214 | 41          | \n",
       "| 48          | 0.009599740 | 42          | \n",
       "| 52          | 0.009423045 | 43          | \n",
       "|  1          | 0.009181833 | 44          | \n",
       "| 45          | 0.009062980 | 45          | \n",
       "| 18          | 0.008126342 | 46          | \n",
       "| 39          | 0.007825687 | 47          | \n",
       "| 47          | 0.007043332 | 48          | \n",
       "| 36          | 0.006690524 | 49          | \n",
       "| 13          | 0.005961480 | 50          | \n",
       "| 14          | 0.005300621 | 51          | \n",
       "| 43          | 0.005232379 | 52          | \n",
       "| 42          | 0.004758250 | 53          | \n",
       "\n",
       "\n"
      ],
      "text/plain": [
       "   week frac_miss_arr_delay rank\n",
       "1   6   0.165874447          1  \n",
       "2  26   0.080323692          2  \n",
       "3  10   0.079096045          3  \n",
       "4  50   0.068278135          4  \n",
       "5  49   0.063144733          5  \n",
       "6  21   0.055529037          6  \n",
       "7  37   0.048192771          7  \n",
       "8  28   0.047231270          8  \n",
       "9  16   0.047186933          9  \n",
       "10  5   0.044301713         10  \n",
       "11 15   0.041798702         11  \n",
       "12 29   0.041110122         12  \n",
       "13 30   0.038136222         13  \n",
       "14 25   0.035607421         14  \n",
       "15 24   0.031127820         15  \n",
       "16 35   0.030439684         16  \n",
       "17 51   0.028702290         17  \n",
       "18 27   0.027608347         18  \n",
       "19  4   0.027392739         19  \n",
       "20 12   0.027047677         20  \n",
       "21 22   0.026911966         21  \n",
       "22 32   0.026136026         22  \n",
       "23 11   0.024100061         23  \n",
       "24 19   0.023721503         24  \n",
       "25 23   0.023646072         25  \n",
       "26  9   0.022445820         26  \n",
       "27 53   0.021907216         27  \n",
       "28 31   0.020193022         28  \n",
       "29 17   0.018908204         29  \n",
       "30  8   0.017516422         30  \n",
       "31  3   0.017447657         31  \n",
       "32 33   0.015868263         32  \n",
       "33 41   0.015104809         33  \n",
       "34 40   0.013786765         34  \n",
       "35 44   0.013717849         35  \n",
       "36 46   0.011815252         36  \n",
       "37 34   0.011490777         37  \n",
       "38  2   0.010967425         38  \n",
       "39  7   0.010391687         39  \n",
       "40 38   0.009832540         40  \n",
       "41 20   0.009652214         41  \n",
       "42 48   0.009599740         42  \n",
       "43 52   0.009423045         43  \n",
       "44  1   0.009181833         44  \n",
       "45 45   0.009062980         45  \n",
       "46 18   0.008126342         46  \n",
       "47 39   0.007825687         47  \n",
       "48 47   0.007043332         48  \n",
       "49 36   0.006690524         49  \n",
       "50 13   0.005961480         50  \n",
       "51 14   0.005300621         51  \n",
       "52 43   0.005232379         52  \n",
       "53 42   0.004758250         53  "
      ]
     },
     "metadata": {},
     "output_type": "display_data"
    }
   ],
   "source": [
    " table7 <- flights_week %>%\n",
    "  group_by(week) %>%\n",
    "  summarize(frac_miss_arr_delay = sum(is.na(arr_delay)) / n()) %>%\n",
    "  mutate(rank = min_rank(desc(frac_miss_arr_delay))) %>%\n",
    "  arrange(rank)\n",
    "table7"
   ]
  },
  {
   "cell_type": "code",
   "execution_count": null,
   "metadata": {
    "deletable": false,
    "editable": false,
    "nbgrader": {
     "checksum": "94740953dc3cdad6712c381e019ee113",
     "grade": true,
     "grade_id": "cell-98c257ae3838a00c",
     "locked": true,
     "points": 2,
     "schema_version": 1,
     "solution": false
    }
   },
   "outputs": [],
   "source": [
    "stopifnot(exists(\"table7\"))"
   ]
  },
  {
   "cell_type": "markdown",
   "metadata": {
    "deletable": false,
    "editable": false,
    "nbgrader": {
     "checksum": "e3e11a8030f8b1d1c95999e705e6db1d",
     "grade": false,
     "grade_id": "cell-d9c8706b679d2259",
     "locked": true,
     "schema_version": 1,
     "solution": false
    }
   },
   "source": [
    "#### Problem 8\n",
    "For the week with the highest fraction of missing arrival times in problem 6, generate a table `table8` which shows the total number of missing arrival delays for each hour and day of that week. Your table should have columns `year`, `month`, `day`, `hour`, and `n_miss_arr_delay`."
   ]
  },
  {
   "cell_type": "code",
   "execution_count": 62,
   "metadata": {
    "deletable": false,
    "nbgrader": {
     "checksum": "14f7854e10e937c4f90d477d22eaa87b",
     "grade": false,
     "grade_id": "cell-2fd6d58696f1c786",
     "locked": false,
     "schema_version": 1,
     "solution": true
    }
   },
   "outputs": [
    {
     "data": {
      "text/html": [
       "<table>\n",
       "<thead><tr><th scope=col>year</th><th scope=col>month</th><th scope=col>day</th><th scope=col>hour</th><th scope=col>n_miss_arr_delay</th></tr></thead>\n",
       "<tbody>\n",
       "\t<tr><td>2013</td><td>2   </td><td>5   </td><td> 5  </td><td>0   </td></tr>\n",
       "\t<tr><td>2013</td><td>2   </td><td>5   </td><td> 6  </td><td>1   </td></tr>\n",
       "\t<tr><td>2013</td><td>2   </td><td>5   </td><td> 7  </td><td>1   </td></tr>\n",
       "\t<tr><td>2013</td><td>2   </td><td>5   </td><td> 8  </td><td>1   </td></tr>\n",
       "\t<tr><td>2013</td><td>2   </td><td>5   </td><td> 9  </td><td>3   </td></tr>\n",
       "\t<tr><td>2013</td><td>2   </td><td>5   </td><td>10  </td><td>0   </td></tr>\n",
       "\t<tr><td>2013</td><td>2   </td><td>5   </td><td>11  </td><td>0   </td></tr>\n",
       "\t<tr><td>2013</td><td>2   </td><td>5   </td><td>12  </td><td>2   </td></tr>\n",
       "\t<tr><td>2013</td><td>2   </td><td>5   </td><td>13  </td><td>1   </td></tr>\n",
       "\t<tr><td>2013</td><td>2   </td><td>5   </td><td>14  </td><td>0   </td></tr>\n",
       "\t<tr><td>2013</td><td>2   </td><td>5   </td><td>15  </td><td>2   </td></tr>\n",
       "\t<tr><td>2013</td><td>2   </td><td>5   </td><td>16  </td><td>3   </td></tr>\n",
       "\t<tr><td>2013</td><td>2   </td><td>5   </td><td>17  </td><td>0   </td></tr>\n",
       "\t<tr><td>2013</td><td>2   </td><td>5   </td><td>18  </td><td>2   </td></tr>\n",
       "\t<tr><td>2013</td><td>2   </td><td>5   </td><td>19  </td><td>2   </td></tr>\n",
       "\t<tr><td>2013</td><td>2   </td><td>5   </td><td>20  </td><td>1   </td></tr>\n",
       "\t<tr><td>2013</td><td>2   </td><td>5   </td><td>21  </td><td>0   </td></tr>\n",
       "\t<tr><td>2013</td><td>2   </td><td>5   </td><td>22  </td><td>0   </td></tr>\n",
       "\t<tr><td>2013</td><td>2   </td><td>5   </td><td>23  </td><td>0   </td></tr>\n",
       "\t<tr><td>2013</td><td>2   </td><td>6   </td><td> 5  </td><td>0   </td></tr>\n",
       "\t<tr><td>2013</td><td>2   </td><td>6   </td><td> 6  </td><td>2   </td></tr>\n",
       "\t<tr><td>2013</td><td>2   </td><td>6   </td><td> 7  </td><td>0   </td></tr>\n",
       "\t<tr><td>2013</td><td>2   </td><td>6   </td><td> 8  </td><td>1   </td></tr>\n",
       "\t<tr><td>2013</td><td>2   </td><td>6   </td><td> 9  </td><td>0   </td></tr>\n",
       "\t<tr><td>2013</td><td>2   </td><td>6   </td><td>10  </td><td>0   </td></tr>\n",
       "\t<tr><td>2013</td><td>2   </td><td>6   </td><td>11  </td><td>0   </td></tr>\n",
       "\t<tr><td>2013</td><td>2   </td><td>6   </td><td>12  </td><td>0   </td></tr>\n",
       "\t<tr><td>2013</td><td>2   </td><td>6   </td><td>13  </td><td>0   </td></tr>\n",
       "\t<tr><td>2013</td><td>2   </td><td>6   </td><td>14  </td><td>1   </td></tr>\n",
       "\t<tr><td>2013</td><td>2   </td><td>6   </td><td>15  </td><td>0   </td></tr>\n",
       "\t<tr><td>⋮</td><td>⋮</td><td>⋮</td><td>⋮</td><td>⋮</td></tr>\n",
       "\t<tr><td>2013</td><td>2   </td><td>10  </td><td>13  </td><td> 1  </td></tr>\n",
       "\t<tr><td>2013</td><td>2   </td><td>10  </td><td>14  </td><td> 2  </td></tr>\n",
       "\t<tr><td>2013</td><td>2   </td><td>10  </td><td>15  </td><td> 1  </td></tr>\n",
       "\t<tr><td>2013</td><td>2   </td><td>10  </td><td>16  </td><td> 1  </td></tr>\n",
       "\t<tr><td>2013</td><td>2   </td><td>10  </td><td>17  </td><td> 1  </td></tr>\n",
       "\t<tr><td>2013</td><td>2   </td><td>10  </td><td>18  </td><td> 3  </td></tr>\n",
       "\t<tr><td>2013</td><td>2   </td><td>10  </td><td>19  </td><td> 2  </td></tr>\n",
       "\t<tr><td>2013</td><td>2   </td><td>10  </td><td>20  </td><td> 1  </td></tr>\n",
       "\t<tr><td>2013</td><td>2   </td><td>10  </td><td>21  </td><td> 2  </td></tr>\n",
       "\t<tr><td>2013</td><td>2   </td><td>10  </td><td>22  </td><td> 0  </td></tr>\n",
       "\t<tr><td>2013</td><td>2   </td><td>10  </td><td>23  </td><td> 0  </td></tr>\n",
       "\t<tr><td>2013</td><td>2   </td><td>11  </td><td> 5  </td><td> 0  </td></tr>\n",
       "\t<tr><td>2013</td><td>2   </td><td>11  </td><td> 6  </td><td> 1  </td></tr>\n",
       "\t<tr><td>2013</td><td>2   </td><td>11  </td><td> 7  </td><td> 1  </td></tr>\n",
       "\t<tr><td>2013</td><td>2   </td><td>11  </td><td> 8  </td><td> 5  </td></tr>\n",
       "\t<tr><td>2013</td><td>2   </td><td>11  </td><td> 9  </td><td> 5  </td></tr>\n",
       "\t<tr><td>2013</td><td>2   </td><td>11  </td><td>10  </td><td> 2  </td></tr>\n",
       "\t<tr><td>2013</td><td>2   </td><td>11  </td><td>11  </td><td> 4  </td></tr>\n",
       "\t<tr><td>2013</td><td>2   </td><td>11  </td><td>12  </td><td> 5  </td></tr>\n",
       "\t<tr><td>2013</td><td>2   </td><td>11  </td><td>13  </td><td> 4  </td></tr>\n",
       "\t<tr><td>2013</td><td>2   </td><td>11  </td><td>14  </td><td> 4  </td></tr>\n",
       "\t<tr><td>2013</td><td>2   </td><td>11  </td><td>15  </td><td>12  </td></tr>\n",
       "\t<tr><td>2013</td><td>2   </td><td>11  </td><td>16  </td><td>16  </td></tr>\n",
       "\t<tr><td>2013</td><td>2   </td><td>11  </td><td>17  </td><td> 6  </td></tr>\n",
       "\t<tr><td>2013</td><td>2   </td><td>11  </td><td>18  </td><td> 6  </td></tr>\n",
       "\t<tr><td>2013</td><td>2   </td><td>11  </td><td>19  </td><td> 7  </td></tr>\n",
       "\t<tr><td>2013</td><td>2   </td><td>11  </td><td>20  </td><td> 3  </td></tr>\n",
       "\t<tr><td>2013</td><td>2   </td><td>11  </td><td>21  </td><td> 0  </td></tr>\n",
       "\t<tr><td>2013</td><td>2   </td><td>11  </td><td>22  </td><td> 0  </td></tr>\n",
       "\t<tr><td>2013</td><td>2   </td><td>11  </td><td>23  </td><td> 0  </td></tr>\n",
       "</tbody>\n",
       "</table>\n"
      ],
      "text/latex": [
       "\\begin{tabular}{r|lllll}\n",
       " year & month & day & hour & n\\_miss\\_arr\\_delay\\\\\n",
       "\\hline\n",
       "\t 2013 & 2    & 5    &  5   & 0   \\\\\n",
       "\t 2013 & 2    & 5    &  6   & 1   \\\\\n",
       "\t 2013 & 2    & 5    &  7   & 1   \\\\\n",
       "\t 2013 & 2    & 5    &  8   & 1   \\\\\n",
       "\t 2013 & 2    & 5    &  9   & 3   \\\\\n",
       "\t 2013 & 2    & 5    & 10   & 0   \\\\\n",
       "\t 2013 & 2    & 5    & 11   & 0   \\\\\n",
       "\t 2013 & 2    & 5    & 12   & 2   \\\\\n",
       "\t 2013 & 2    & 5    & 13   & 1   \\\\\n",
       "\t 2013 & 2    & 5    & 14   & 0   \\\\\n",
       "\t 2013 & 2    & 5    & 15   & 2   \\\\\n",
       "\t 2013 & 2    & 5    & 16   & 3   \\\\\n",
       "\t 2013 & 2    & 5    & 17   & 0   \\\\\n",
       "\t 2013 & 2    & 5    & 18   & 2   \\\\\n",
       "\t 2013 & 2    & 5    & 19   & 2   \\\\\n",
       "\t 2013 & 2    & 5    & 20   & 1   \\\\\n",
       "\t 2013 & 2    & 5    & 21   & 0   \\\\\n",
       "\t 2013 & 2    & 5    & 22   & 0   \\\\\n",
       "\t 2013 & 2    & 5    & 23   & 0   \\\\\n",
       "\t 2013 & 2    & 6    &  5   & 0   \\\\\n",
       "\t 2013 & 2    & 6    &  6   & 2   \\\\\n",
       "\t 2013 & 2    & 6    &  7   & 0   \\\\\n",
       "\t 2013 & 2    & 6    &  8   & 1   \\\\\n",
       "\t 2013 & 2    & 6    &  9   & 0   \\\\\n",
       "\t 2013 & 2    & 6    & 10   & 0   \\\\\n",
       "\t 2013 & 2    & 6    & 11   & 0   \\\\\n",
       "\t 2013 & 2    & 6    & 12   & 0   \\\\\n",
       "\t 2013 & 2    & 6    & 13   & 0   \\\\\n",
       "\t 2013 & 2    & 6    & 14   & 1   \\\\\n",
       "\t 2013 & 2    & 6    & 15   & 0   \\\\\n",
       "\t ⋮ & ⋮ & ⋮ & ⋮ & ⋮\\\\\n",
       "\t 2013 & 2    & 10   & 13   &  1  \\\\\n",
       "\t 2013 & 2    & 10   & 14   &  2  \\\\\n",
       "\t 2013 & 2    & 10   & 15   &  1  \\\\\n",
       "\t 2013 & 2    & 10   & 16   &  1  \\\\\n",
       "\t 2013 & 2    & 10   & 17   &  1  \\\\\n",
       "\t 2013 & 2    & 10   & 18   &  3  \\\\\n",
       "\t 2013 & 2    & 10   & 19   &  2  \\\\\n",
       "\t 2013 & 2    & 10   & 20   &  1  \\\\\n",
       "\t 2013 & 2    & 10   & 21   &  2  \\\\\n",
       "\t 2013 & 2    & 10   & 22   &  0  \\\\\n",
       "\t 2013 & 2    & 10   & 23   &  0  \\\\\n",
       "\t 2013 & 2    & 11   &  5   &  0  \\\\\n",
       "\t 2013 & 2    & 11   &  6   &  1  \\\\\n",
       "\t 2013 & 2    & 11   &  7   &  1  \\\\\n",
       "\t 2013 & 2    & 11   &  8   &  5  \\\\\n",
       "\t 2013 & 2    & 11   &  9   &  5  \\\\\n",
       "\t 2013 & 2    & 11   & 10   &  2  \\\\\n",
       "\t 2013 & 2    & 11   & 11   &  4  \\\\\n",
       "\t 2013 & 2    & 11   & 12   &  5  \\\\\n",
       "\t 2013 & 2    & 11   & 13   &  4  \\\\\n",
       "\t 2013 & 2    & 11   & 14   &  4  \\\\\n",
       "\t 2013 & 2    & 11   & 15   & 12  \\\\\n",
       "\t 2013 & 2    & 11   & 16   & 16  \\\\\n",
       "\t 2013 & 2    & 11   & 17   &  6  \\\\\n",
       "\t 2013 & 2    & 11   & 18   &  6  \\\\\n",
       "\t 2013 & 2    & 11   & 19   &  7  \\\\\n",
       "\t 2013 & 2    & 11   & 20   &  3  \\\\\n",
       "\t 2013 & 2    & 11   & 21   &  0  \\\\\n",
       "\t 2013 & 2    & 11   & 22   &  0  \\\\\n",
       "\t 2013 & 2    & 11   & 23   &  0  \\\\\n",
       "\\end{tabular}\n"
      ],
      "text/markdown": [
       "\n",
       "year | month | day | hour | n_miss_arr_delay | \n",
       "|---|---|---|---|---|---|---|---|---|---|---|---|---|---|---|---|---|---|---|---|---|---|---|---|---|---|---|---|---|---|---|---|---|---|---|---|---|---|---|---|---|---|---|---|---|---|---|---|---|---|---|---|---|---|---|---|---|---|---|---|---|\n",
       "| 2013 | 2    | 5    |  5   | 0    | \n",
       "| 2013 | 2    | 5    |  6   | 1    | \n",
       "| 2013 | 2    | 5    |  7   | 1    | \n",
       "| 2013 | 2    | 5    |  8   | 1    | \n",
       "| 2013 | 2    | 5    |  9   | 3    | \n",
       "| 2013 | 2    | 5    | 10   | 0    | \n",
       "| 2013 | 2    | 5    | 11   | 0    | \n",
       "| 2013 | 2    | 5    | 12   | 2    | \n",
       "| 2013 | 2    | 5    | 13   | 1    | \n",
       "| 2013 | 2    | 5    | 14   | 0    | \n",
       "| 2013 | 2    | 5    | 15   | 2    | \n",
       "| 2013 | 2    | 5    | 16   | 3    | \n",
       "| 2013 | 2    | 5    | 17   | 0    | \n",
       "| 2013 | 2    | 5    | 18   | 2    | \n",
       "| 2013 | 2    | 5    | 19   | 2    | \n",
       "| 2013 | 2    | 5    | 20   | 1    | \n",
       "| 2013 | 2    | 5    | 21   | 0    | \n",
       "| 2013 | 2    | 5    | 22   | 0    | \n",
       "| 2013 | 2    | 5    | 23   | 0    | \n",
       "| 2013 | 2    | 6    |  5   | 0    | \n",
       "| 2013 | 2    | 6    |  6   | 2    | \n",
       "| 2013 | 2    | 6    |  7   | 0    | \n",
       "| 2013 | 2    | 6    |  8   | 1    | \n",
       "| 2013 | 2    | 6    |  9   | 0    | \n",
       "| 2013 | 2    | 6    | 10   | 0    | \n",
       "| 2013 | 2    | 6    | 11   | 0    | \n",
       "| 2013 | 2    | 6    | 12   | 0    | \n",
       "| 2013 | 2    | 6    | 13   | 0    | \n",
       "| 2013 | 2    | 6    | 14   | 1    | \n",
       "| 2013 | 2    | 6    | 15   | 0    | \n",
       "| ⋮ | ⋮ | ⋮ | ⋮ | ⋮ | \n",
       "| 2013 | 2    | 10   | 13   |  1   | \n",
       "| 2013 | 2    | 10   | 14   |  2   | \n",
       "| 2013 | 2    | 10   | 15   |  1   | \n",
       "| 2013 | 2    | 10   | 16   |  1   | \n",
       "| 2013 | 2    | 10   | 17   |  1   | \n",
       "| 2013 | 2    | 10   | 18   |  3   | \n",
       "| 2013 | 2    | 10   | 19   |  2   | \n",
       "| 2013 | 2    | 10   | 20   |  1   | \n",
       "| 2013 | 2    | 10   | 21   |  2   | \n",
       "| 2013 | 2    | 10   | 22   |  0   | \n",
       "| 2013 | 2    | 10   | 23   |  0   | \n",
       "| 2013 | 2    | 11   |  5   |  0   | \n",
       "| 2013 | 2    | 11   |  6   |  1   | \n",
       "| 2013 | 2    | 11   |  7   |  1   | \n",
       "| 2013 | 2    | 11   |  8   |  5   | \n",
       "| 2013 | 2    | 11   |  9   |  5   | \n",
       "| 2013 | 2    | 11   | 10   |  2   | \n",
       "| 2013 | 2    | 11   | 11   |  4   | \n",
       "| 2013 | 2    | 11   | 12   |  5   | \n",
       "| 2013 | 2    | 11   | 13   |  4   | \n",
       "| 2013 | 2    | 11   | 14   |  4   | \n",
       "| 2013 | 2    | 11   | 15   | 12   | \n",
       "| 2013 | 2    | 11   | 16   | 16   | \n",
       "| 2013 | 2    | 11   | 17   |  6   | \n",
       "| 2013 | 2    | 11   | 18   |  6   | \n",
       "| 2013 | 2    | 11   | 19   |  7   | \n",
       "| 2013 | 2    | 11   | 20   |  3   | \n",
       "| 2013 | 2    | 11   | 21   |  0   | \n",
       "| 2013 | 2    | 11   | 22   |  0   | \n",
       "| 2013 | 2    | 11   | 23   |  0   | \n",
       "\n",
       "\n"
      ],
      "text/plain": [
       "    year month day hour n_miss_arr_delay\n",
       "1   2013 2     5    5   0               \n",
       "2   2013 2     5    6   1               \n",
       "3   2013 2     5    7   1               \n",
       "4   2013 2     5    8   1               \n",
       "5   2013 2     5    9   3               \n",
       "6   2013 2     5   10   0               \n",
       "7   2013 2     5   11   0               \n",
       "8   2013 2     5   12   2               \n",
       "9   2013 2     5   13   1               \n",
       "10  2013 2     5   14   0               \n",
       "11  2013 2     5   15   2               \n",
       "12  2013 2     5   16   3               \n",
       "13  2013 2     5   17   0               \n",
       "14  2013 2     5   18   2               \n",
       "15  2013 2     5   19   2               \n",
       "16  2013 2     5   20   1               \n",
       "17  2013 2     5   21   0               \n",
       "18  2013 2     5   22   0               \n",
       "19  2013 2     5   23   0               \n",
       "20  2013 2     6    5   0               \n",
       "21  2013 2     6    6   2               \n",
       "22  2013 2     6    7   0               \n",
       "23  2013 2     6    8   1               \n",
       "24  2013 2     6    9   0               \n",
       "25  2013 2     6   10   0               \n",
       "26  2013 2     6   11   0               \n",
       "27  2013 2     6   12   0               \n",
       "28  2013 2     6   13   0               \n",
       "29  2013 2     6   14   1               \n",
       "30  2013 2     6   15   0               \n",
       "⋮   ⋮    ⋮     ⋮   ⋮    ⋮               \n",
       "104 2013 2     10  13    1              \n",
       "105 2013 2     10  14    2              \n",
       "106 2013 2     10  15    1              \n",
       "107 2013 2     10  16    1              \n",
       "108 2013 2     10  17    1              \n",
       "109 2013 2     10  18    3              \n",
       "110 2013 2     10  19    2              \n",
       "111 2013 2     10  20    1              \n",
       "112 2013 2     10  21    2              \n",
       "113 2013 2     10  22    0              \n",
       "114 2013 2     10  23    0              \n",
       "115 2013 2     11   5    0              \n",
       "116 2013 2     11   6    1              \n",
       "117 2013 2     11   7    1              \n",
       "118 2013 2     11   8    5              \n",
       "119 2013 2     11   9    5              \n",
       "120 2013 2     11  10    2              \n",
       "121 2013 2     11  11    4              \n",
       "122 2013 2     11  12    5              \n",
       "123 2013 2     11  13    4              \n",
       "124 2013 2     11  14    4              \n",
       "125 2013 2     11  15   12              \n",
       "126 2013 2     11  16   16              \n",
       "127 2013 2     11  17    6              \n",
       "128 2013 2     11  18    6              \n",
       "129 2013 2     11  19    7              \n",
       "130 2013 2     11  20    3              \n",
       "131 2013 2     11  21    0              \n",
       "132 2013 2     11  22    0              \n",
       "133 2013 2     11  23    0              "
      ]
     },
     "metadata": {},
     "output_type": "display_data"
    }
   ],
   "source": [
    "table8 <- flights_week %>%\n",
    "  filter(week == 6) %>%\n",
    "  group_by(year, month, day, hour) %>%\n",
    "  summarize(n_miss_arr_delay = sum(is.na(arr_delay))) %>%\n",
    "  select(year, month, day, hour, n_miss_arr_delay)\n",
    "table8"
   ]
  },
  {
   "cell_type": "code",
   "execution_count": null,
   "metadata": {
    "deletable": false,
    "editable": false,
    "nbgrader": {
     "checksum": "e1d7f688ce59c07a5715fbe209ed075c",
     "grade": true,
     "grade_id": "cell-094c56bd86a578f0",
     "locked": true,
     "points": 2,
     "schema_version": 1,
     "solution": false
    }
   },
   "outputs": [],
   "source": [
    "stopifnot(exists(\"table8\"))"
   ]
  },
  {
   "cell_type": "markdown",
   "metadata": {
    "deletable": false,
    "editable": false,
    "nbgrader": {
     "checksum": "3f77833f3ad00f36313ece0b1481a059",
     "grade": false,
     "grade_id": "cell-4ee3d500f55c93d2",
     "locked": true,
     "schema_version": 1,
     "solution": false
    }
   },
   "source": [
    "#### Problem 9\n",
    "Two days in `table8` should stand out from the rest. To figure out what is going on, we will join in some weather data from the `weather` table. Since we have not yet covered joins, this table is provided for you:"
   ]
  },
  {
   "cell_type": "code",
   "execution_count": 63,
   "metadata": {
    "deletable": false,
    "editable": false,
    "nbgrader": {
     "checksum": "211538bb9e25336cd926a9282a1a144d",
     "grade": false,
     "grade_id": "cell-247e57cc9ef7a4f2",
     "locked": true,
     "schema_version": 1,
     "solution": false
    }
   },
   "outputs": [
    {
     "name": "stderr",
     "output_type": "stream",
     "text": [
      "Joining, by = c(\"year\", \"month\", \"day\", \"hour\")\n"
     ]
    },
    {
     "name": "stdout",
     "output_type": "stream",
     "text": [
      "# A tibble: 133 x 16\n",
      "# Groups:   year, month, day [?]\n",
      "    year month   day  hour n_miss_arr_delay origin  temp  dewp humid wind_dir\n",
      "   <dbl> <dbl> <int> <dbl>            <int> <chr>  <dbl> <dbl> <dbl>    <dbl>\n",
      " 1  2013     2     5     5                0 LGA     30.0  14    50.8      210\n",
      " 2  2013     2     5     6                1 LGA     28.9  19.0  66.1      200\n",
      " 3  2013     2     5     7                1 LGA     28.9  21.9  74.7      200\n",
      " 4  2013     2     5     8                1 LGA     28.4  21.2  74.1      190\n",
      " 5  2013     2     5     9                3 LGA     28.9  24.1  81.8        0\n",
      " 6  2013     2     5    10                0 LGA     28.4  24.8  86.2       50\n",
      " 7  2013     2     5    11                0 LGA     28.4  23    79.9       50\n",
      " 8  2013     2     5    12                2 LGA     28.4  23    79.9       40\n",
      " 9  2013     2     5    13                1 LGA     28.4  23    79.9       40\n",
      "10  2013     2     5    14                0 LGA     28.9  23    78.2       30\n",
      "# ... with 123 more rows, and 6 more variables: wind_speed <dbl>,\n",
      "#   wind_gust <dbl>, precip <dbl>, pressure <dbl>, visib <dbl>,\n",
      "#   time_hour <dttm>\n"
     ]
    }
   ],
   "source": [
    "table9 = weather %>% filter(origin==\"LGA\") %>% left_join(table8, .)\n",
    "print(table9)"
   ]
  },
  {
   "cell_type": "markdown",
   "metadata": {
    "deletable": false,
    "editable": false,
    "nbgrader": {
     "checksum": "fd18cfc30c78b00db6608bd0b6590a19",
     "grade": false,
     "grade_id": "cell-8b0a3121df413611",
     "locked": true,
     "schema_version": 1,
     "solution": false
    }
   },
   "source": [
    "Define a new variable `snowfall` in table 9, which is equal to hourly precipitation (in millimeters) if the temperature is below 40 degrees Fahrenheit in that hour, and zero otherwise.\n",
    "\n",
    "Use `table9` to generate two plots: \n",
    "\n",
    "1. A bar plot of total snowfall for each day of the week in question, and\n",
    "2. A line showing the total number of flights with missing arrival times for each day.\n",
    "\n",
    "Store these plots in variables `p1` and `p2`, respectively, and use the following command to combine them:\n",
    "\n",
    "```{r}\n",
    "gridExtra::grid.arrange(p1, p2, nrow=2)\n",
    "```\n",
    "\n",
    "Your final plot should look like this:\n",
    "\n",
    "![problem 9](p9.png)"
   ]
  },
  {
   "cell_type": "code",
   "execution_count": 64,
   "metadata": {
    "deletable": false,
    "nbgrader": {
     "checksum": "7a3702275bfc8b1c487c557f1e90b005",
     "grade": true,
     "grade_id": "cell-c35dddafbc3ebee6",
     "locked": false,
     "points": 2,
     "schema_version": 1,
     "solution": true
    }
   },
   "outputs": [
    {
     "name": "stderr",
     "output_type": "stream",
     "text": [
      "Warning message:\n",
      "“Ignoring unknown aesthetics: stat”"
     ]
    },
    {
     "data": {
      "image/png": "[encoded data removed]",
      "text/plain": [
       "plot without title"
      ]
     },
     "metadata": {},
     "output_type": "display_data"
    }
   ],
   "source": [
    "new_table = table9 %>% mutate(snowfall = ifelse(temp < 40, precip*25.4, 0))\n",
    "\n",
    "snowfall_table = new_table %>% group_by(day) %>% summarize(total_snowfall = sum(snowfall))\n",
    "\n",
    "flightboys_table = new_table %>% group_by(day) %>% summarize(missing_arr_delay = sum(n_miss_arr_delay))\n",
    "\n",
    "p1 = ggplot(data = snowfall_table) + \n",
    "    geom_bar(mapping = aes(x = day, y = total_snowfall), stat = \"identity\") +\n",
    "    xlab(\"Day of month\") + ylab(\"Snowfall (mm)\") + scale_x_continuous(breaks = seq(5,11))\n",
    "\n",
    "p2 = ggplot(data = flightboys_table) +\n",
    "        geom_line(mapping = aes(x = day, y = missing_arr_delay, stat = \"identity\")) +\n",
    "    xlab(\"Day of month\") + ylab(\"#missing arr_delay\")\n",
    "\n",
    "gridExtra::grid.arrange(p1,p2,nrow=2)\n"
   ]
  },
  {
   "cell_type": "markdown",
   "metadata": {
    "deletable": false,
    "editable": false,
    "nbgrader": {
     "checksum": "95a156762679993f0edbb030c84c25b3",
     "grade": false,
     "grade_id": "cell-aa1bbd89312abb40",
     "locked": true,
     "schema_version": 1,
     "solution": false
    }
   },
   "source": [
    "#### Problem 10\n",
    "In your own words, summarize your findings from problems 8-10. What do `NA`s for arrival and departure delay likely represent in these data?"
   ]
  },
  {
   "cell_type": "raw",
   "metadata": {
    "deletable": false,
    "nbgrader": {
     "checksum": "8c15b9861b62da62e8a1b1a8b1f080bf",
     "grade": true,
     "grade_id": "cell-0f644a04d6dd307f",
     "locked": false,
     "points": 2,
     "schema_version": 1,
     "solution": true
    }
   },
   "source": [
    "NAs likely represent flights that were cancelled due to a snowstorm. The two plots show us that NAs were highest when the total snowfall was also high."
   ]
  }
 ],
 "metadata": {
  "kernelspec": {
   "display_name": "R",
   "language": "R",
   "name": "ir"
  },
  "language_info": {
   "codemirror_mode": "r",
   "file_extension": ".r",
   "mimetype": "text/x-r-source",
   "name": "R",
   "pygments_lexer": "r",
   "version": "3.4.1"
  }
 },
 "nbformat": 4,
 "nbformat_minor": 2
}
