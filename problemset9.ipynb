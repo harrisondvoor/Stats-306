{
 "cells": [
  {
   "cell_type": "markdown",
   "metadata": {},
   "source": [
    "Before you turn this problem set in, make sure everything runs as expected. First, **restart the kernel** (in the menubar, select Kernel$\\rightarrow$Restart) and then **run all cells** (in the menubar, select Cell$\\rightarrow$Run All). Your code should run from top to bottom with no errors. Failure to do this will result in loss of points.\n",
    "\n",
    "You should not use `install.packages()` anywhere. You may assume that we have already installed all the packages needed to run your code.\n",
    "\n",
    "Make sure you fill in any place that says `YOUR CODE HERE` or \"YOUR ANSWER HERE\" and delete the `stop()` functions, as well as your name and collaborators below:"
   ]
  },
  {
   "cell_type": "code",
   "execution_count": 299,
   "metadata": {},
   "outputs": [],
   "source": [
    "NAME = \"pjmerica\"  # your uniqname \n",
    "COLLABORATORS = c(\"aayushap\",\"sohumm\",  \"kaspersj\")  # vector of uniqnames of your collaborators, if any\n",
    "## IMPORTANT: you must also have set your group on Canvas. This is only used as a backup."
   ]
  },
  {
   "cell_type": "markdown",
   "metadata": {},
   "source": [
    "---"
   ]
  },
  {
   "cell_type": "code",
   "execution_count": 300,
   "metadata": {
    "deletable": false,
    "editable": false,
    "nbgrader": {
     "checksum": "d9fa816a8e69ab7cf2d342b4dd06921e",
     "grade": false,
     "grade_id": "cell-4dbba31d3bfa7338",
     "locked": true,
     "schema_version": 1,
     "solution": false
    }
   },
   "outputs": [],
   "source": [
    "library(tidyverse)"
   ]
  },
  {
   "cell_type": "markdown",
   "metadata": {
    "deletable": false,
    "editable": false,
    "nbgrader": {
     "checksum": "1723e3e6360f81dfc96537723516b90a",
     "grade": false,
     "grade_id": "cell-00d467455869b362",
     "locked": true,
     "schema_version": 1,
     "solution": false
    }
   },
   "source": [
    "# STATS 306\n",
    "## Problem Set 9: Iteration & functional programming\n",
    " This problem set is due at 11:59pm on Wednesday, November 21 (you have two extra days to complete it).\n",
    " Each problem is worth two points, for a total of 20.\n",
    "\n",
    "*Note*: you do not need to use `install.packages()` in this notebook. You may assume that we have already installed all of the necessary packages when we run your code."
   ]
  },
  {
   "cell_type": "markdown",
   "metadata": {
    "deletable": false,
    "editable": false,
    "nbgrader": {
     "checksum": "2606882325dc56fb55682222c8b0e61d",
     "grade": false,
     "grade_id": "cell-e22f65fc421a2e31",
     "locked": true,
     "schema_version": 1,
     "solution": false
    }
   },
   "source": [
    "#### Problem 1\n",
    "Each of the following problems has a `for` loop that performs some computation on a list called `input` and stores the result in a variable called `output`. Your job is to rewrite this code using a single call to one of the functional programming methods like `map/map2`, `accumulate` or `reduce`."
   ]
  },
  {
   "cell_type": "markdown",
   "metadata": {
    "deletable": false,
    "editable": false,
    "nbgrader": {
     "checksum": "12d1598e001f1f152006d7a53502b274",
     "grade": false,
     "grade_id": "cell-ff5c17fdfa3338b8",
     "locked": true,
     "schema_version": 1,
     "solution": false
    }
   },
   "source": [
    "##### Function 1\n",
    "```{r}\n",
    "output = vector(\"list\", length(input) - 1)\n",
    "for (i in seq_along(input[-1])) {\n",
    "    output[[i]] = input[[i + 1]] - input[[i]]\n",
    "}\n",
    "```"
   ]
  },
  {
   "cell_type": "code",
   "execution_count": 301,
   "metadata": {
    "deletable": false,
    "nbgrader": {
     "checksum": "83f87028958bebc27bbba54ab24afee0",
     "grade": false,
     "grade_id": "cell-f9b4ca96de576294",
     "locked": false,
     "schema_version": 1,
     "solution": true
    }
   },
   "outputs": [],
   "source": [
    "func1 = function(x,y){x - y}"
   ]
  },
  {
   "cell_type": "code",
   "execution_count": 302,
   "metadata": {
    "deletable": false,
    "editable": false,
    "nbgrader": {
     "checksum": "669cbbcf04e17bbe185f5089d11f237e",
     "grade": true,
     "grade_id": "cell-7a6fd072220ed6be",
     "locked": true,
     "points": 1,
     "schema_version": 1,
     "solution": false
    }
   },
   "outputs": [],
   "source": [
    "set.seed(1)\n",
    "input <- rnorm(n = 100)\n",
    "# Your output\n",
    "output <- map2(input[-1], input[-length(input)], func1)\n",
    "# Test output\n",
    "for (i in seq_along(input[-1])) {\n",
    "    stopifnot(near(output[[i]], input[[i + 1]] - input[[i]]))\n",
    "}"
   ]
  },
  {
   "cell_type": "markdown",
   "metadata": {
    "deletable": false,
    "editable": false,
    "nbgrader": {
     "checksum": "6e52c30284c3f779317cd0cc3b8c2705",
     "grade": false,
     "grade_id": "cell-e91e016898e802ff",
     "locked": true,
     "schema_version": 1,
     "solution": false
    }
   },
   "source": [
    "##### Function 2\n",
    "```{r}\n",
    "output = 1\n",
    "for (x in input) {\n",
    "    output <- output * .1\n",
    "    output <- output + .9 * x\n",
    "}\n",
    "```"
   ]
  },
  {
   "cell_type": "code",
   "execution_count": 303,
   "metadata": {
    "deletable": false,
    "nbgrader": {
     "checksum": "b908ab47c4beac5a0cda545f0077a5e7",
     "grade": false,
     "grade_id": "cell-909e65886b006da1",
     "locked": false,
     "schema_version": 1,
     "solution": true
    }
   },
   "outputs": [],
   "source": [
    "func2 = function(x,y){ (( x * .1) + .9*y) }"
   ]
  },
  {
   "cell_type": "code",
   "execution_count": 304,
   "metadata": {
    "deletable": false,
    "editable": false,
    "nbgrader": {
     "checksum": "00e76a76ccefc80edf3aa0d885f0d762",
     "grade": true,
     "grade_id": "cell-c98f9965ade5a4b2",
     "locked": true,
     "points": 1,
     "schema_version": 1,
     "solution": false
    }
   },
   "outputs": [],
   "source": [
    "output <- 1\n",
    "for (x in input) {\n",
    "    output <- output * .1\n",
    "    output <- output + .9 * x\n",
    "}\n",
    "stopifnot(near(output, reduce(input, func2)))"
   ]
  },
  {
   "cell_type": "markdown",
   "metadata": {
    "deletable": false,
    "editable": false,
    "nbgrader": {
     "checksum": "8befaa60704bb4ed222216d11746ea8d",
     "grade": false,
     "grade_id": "cell-f36144819335cacc",
     "locked": true,
     "schema_version": 1,
     "solution": false
    }
   },
   "source": [
    "#### Problem 2\n",
    "We define the *special digit* of a non-negative integer $x$ as follows:\n",
    "* If $x$ has only one digit, then its special digit is $x$ itself.\n",
    "* Otherwise, the special digit of $x$ is equal to the special digit of the [digit sum](https://en.wikipedia.org/wiki/Digit_sum) (the sum of all of the digits) of $x$.\n",
    "\n",
    "For example,\n",
    "```\n",
    "special_digit(199) = special_digit(1 + 9 + 9)\n",
    "                   = special_digit(19)\n",
    "                   = special_digit(1 + 9)\n",
    "                   = special_digit(10)\n",
    "                   = special_digit(1 + 0)\n",
    "                   = special_digit(1)\n",
    "                   = 1.\n",
    "```\n",
    "Implement the function `special_digit(x)`."
   ]
  },
  {
   "cell_type": "code",
   "execution_count": 305,
   "metadata": {
    "deletable": false,
    "nbgrader": {
     "checksum": "51cd07b87fada1b2aeffcb3118ad0210",
     "grade": false,
     "grade_id": "cell-3bada0b314a6c96e",
     "locked": false,
     "schema_version": 1,
     "solution": true
    }
   },
   "outputs": [],
   "source": [
    "sum_bot = function(x){\n",
    "    i = 0\n",
    "    sum = 0\n",
    "    a = 5\n",
    "    \n",
    "    while(x %% 10 == 0){\n",
    "        x = x/10\n",
    "    }\n",
    "    while(a>0){\n",
    "        a = floor(x * (1/(10^i))) %% 10\n",
    "        i = i + 1\n",
    "        sum = sum + a\n",
    "    }\n",
    "    return(sum)\n",
    "}\n",
    "\n",
    "\n",
    "\n",
    "\n",
    "special_digit = function(x) {\n",
    " if (x < 10){\n",
    "        return(x)\n",
    "  }\n",
    "   x= sum_bot(x)\n",
    "while(x > 9){\n",
    "        x = sum_bot(x)\n",
    "            }\n",
    "    return(x)\n",
    "}\n",
    "\n"
   ]
  },
  {
   "cell_type": "code",
   "execution_count": 306,
   "metadata": {
    "deletable": false,
    "editable": false,
    "nbgrader": {
     "checksum": "c078485e20ca71161b78034117de7499",
     "grade": true,
     "grade_id": "cell-0c30461352b07af7",
     "locked": true,
     "points": 2,
     "schema_version": 1,
     "solution": false
    }
   },
   "outputs": [],
   "source": [
    "stopifnot(special_digit(199) == 1)\n",
    "stopifnot(special_digit(0) == 0)\n",
    "stopifnot(special_digit(60) == 6)"
   ]
  },
  {
   "cell_type": "markdown",
   "metadata": {
    "deletable": false,
    "editable": false,
    "nbgrader": {
     "checksum": "a82e6727c31cb23475cf540a6094e16f",
     "grade": false,
     "grade_id": "cell-9ea5f3aa78324b64",
     "locked": true,
     "schema_version": 1,
     "solution": false
    }
   },
   "source": [
    "#### Problem 3\n",
    "Write a function `call_until(f, g)` which takes two function arguments `f` and `g` and does the following:\n",
    "1. Repeatedly calls `f()` until `f` returns the same value three times in a row.\n",
    "2. Calls `g()`:\n",
    "    1. If `g` returns the same value that `f()` returned three times in a row in step one, then `call_until` returns this value.\n",
    "    2. Otherwise, `call_until` goes back to step 1 and the process repeats."
   ]
  },
  {
   "cell_type": "code",
   "execution_count": 307,
   "metadata": {
    "deletable": false,
    "nbgrader": {
     "checksum": "f322531faeb82ad8e261c560ad011ac0",
     "grade": false,
     "grade_id": "cell-9aca24fdc15ad1e5",
     "locked": false,
     "schema_version": 1,
     "solution": true
    }
   },
   "outputs": [],
   "source": [
    "call_until = function(f, g) {\n",
    "    same = FALSE\n",
    "  \n",
    "    while(same != TRUE) {\n",
    "        value = f()\n",
    "        value_count = 1\n",
    "        \n",
    "        while(value_count < 3) {\n",
    "            next_value = f()\n",
    "            \n",
    "            if (next_value == value) {\n",
    "                value_count = value_count + 1\n",
    "            } \n",
    "            \n",
    "            else {\n",
    "                value = next_value\n",
    "                value_count = 1\n",
    "                }\n",
    "            \n",
    "            }\n",
    "        \n",
    "        if (value == g()) {\n",
    "            same = TRUE\n",
    "            }\n",
    "        \n",
    "        }\n",
    "    return(value)\n",
    "    }\n"
   ]
  },
  {
   "cell_type": "code",
   "execution_count": 308,
   "metadata": {
    "deletable": false,
    "editable": false,
    "nbgrader": {
     "checksum": "b585415df05d77af1b9cdbcc838df76c",
     "grade": true,
     "grade_id": "cell-5c523611cf9553c9",
     "locked": true,
     "points": 2,
     "schema_version": 1,
     "solution": false
    }
   },
   "outputs": [],
   "source": [
    "i = 0\n",
    "f = function() {\n",
    "    i <<- i + 1\n",
    "    i < 10\n",
    "}\n",
    "g = function() {\n",
    "    TRUE\n",
    "}\n",
    "stopifnot(call_until(f, g))\n",
    "stopifnot(i == 3)\n",
    "\n",
    "i = 0\n",
    "set.seed(1)\n",
    "f = function() {\n",
    "    i <<- i + 1\n",
    "    sample(1:8, 1)\n",
    "}\n",
    "j = 0\n",
    "g = function() {\n",
    "    j <<- j + 1\n",
    "    sample(1:5, 1)\n",
    "}\n",
    "stopifnot(call_until(f, g) == 5)\n",
    "stopifnot(i == 137)\n",
    "stopifnot(j == 2)\n"
   ]
  },
  {
   "cell_type": "markdown",
   "metadata": {
    "deletable": false,
    "editable": false,
    "nbgrader": {
     "checksum": "b7c556cbce24da31a445e7b62a7f3015",
     "grade": false,
     "grade_id": "cell-0e6bdb873b93e873",
     "locked": true,
     "schema_version": 1,
     "solution": false
    }
   },
   "source": [
    "#### Problem 4\n",
    "Write a function `gcd(v)` which, given a vector of non-negative integers, returns their greatest common divisor. For example:\n",
    "```{r}\n",
    "> gcd(c(2,4,6,8))\n",
    "[1] 2\n",
    "> gcd(c(4,8,12))\n",
    "[1] 4\n",
    "> gcd(c(4,8,13))\n",
    "[1] 1\n",
    "```"
   ]
  },
  {
   "cell_type": "code",
   "execution_count": 309,
   "metadata": {
    "deletable": false,
    "nbgrader": {
     "checksum": "3a570010a9ec8d073ccf7608389aa368",
     "grade": false,
     "grade_id": "cell-da28278d80d9a461",
     "locked": false,
     "schema_version": 1,
     "solution": true
    }
   },
   "outputs": [],
   "source": [
    "gcd = function(v) {\n",
    "      v = sort(v)\n",
    "      a = 1\n",
    "      for(i in 1:v[1]){\n",
    "        for(j in 1:length(v)){\n",
    "          sum = sum((v %% i))\n",
    "          }\n",
    "         if( sum == 0  & i >= a){\n",
    "             a = i\n",
    "         }\n",
    "        else{\n",
    "            a = a\n",
    "        }\n",
    "    }\n",
    "    return(a)\n",
    "      }"
   ]
  },
  {
   "cell_type": "code",
   "execution_count": 310,
   "metadata": {
    "deletable": false,
    "editable": false,
    "nbgrader": {
     "checksum": "38b8b69ba149af4bb3b60f27ba497ecb",
     "grade": true,
     "grade_id": "cell-69b872ca1adea042",
     "locked": true,
     "points": 2,
     "schema_version": 1,
     "solution": false
    }
   },
   "outputs": [],
   "source": [
    "stopifnot(gcd(1) == 1)\n",
    "stopifnot(gcd(c(2, 1)) == 1)\n",
    "stopifnot(gcd(c(4, 8, 12)) == 4)\n",
    "stopifnot(gcd(c(4, 8, 13)) == 1)"
   ]
  },
  {
   "cell_type": "markdown",
   "metadata": {
    "deletable": false,
    "editable": false,
    "nbgrader": {
     "checksum": "887b8ae19087a97595a0fe352239b0f1",
     "grade": false,
     "grade_id": "cell-77c0877b9b0b2690",
     "locked": true,
     "schema_version": 1,
     "solution": false
    }
   },
   "source": [
    "### Number triangles\n",
    "A *$\\alpha$-number triangle* is an triangular array of numbers such that\n",
    "1. The $n$-th row has $n$ numbers indexed by $k=1,\\dots,n$.\n",
    "2. The first and last entry (i.e. $k=1$ and $k=n$) of each row equal a fixed number $\\alpha$, and\n",
    "2. The remaining interior entries are obtained by adding up the entries above and to the left and right of it in the preceding row.\n",
    "\n",
    "For example, setting $a=1$ produces [Pascal's triangle](https://en.wikipedia.org/wiki/Pascal%27s_triangle):\n",
    "\n",
    "![Pascal's triangle](https://upload.wikimedia.org/wikipedia/commons/c/ca/Pascal_triangle_small.png)\n",
    "\n",
    "The second entry of the third row is $2=1+1$ and the second entry of the fifth row is $4=1+3$."
   ]
  },
  {
   "cell_type": "markdown",
   "metadata": {
    "deletable": false,
    "editable": false,
    "nbgrader": {
     "checksum": "fea1db10f65cea0e37f7bbbaced6139c",
     "grade": false,
     "grade_id": "cell-da860002b339b9fc",
     "locked": true,
     "schema_version": 1,
     "solution": false
    }
   },
   "source": [
    "#### Problem 5\n",
    "Write a function `f_nt(n, k, alpha)` which computes the $k$-th entry of the $n$-th row of the $\\alpha$-number triangle. Thus, using from the examples above, we would have\n",
    "\n",
    "```{r}\n",
    "> f_nt(3, 2, 1)\n",
    "[1] 2\n",
    "> f_nt(5, 2, 1)\n",
    "[1] 4\n",
    "> f_nt(1, 1, 1)\n",
    "[1] 1\n",
    "> f_nt(8, 7, 1)\n",
    "[1] 7\n",
    "```\n",
    "\n",
    "If $k<0$ or $k>n$ then the function should return $0$. You may assume when we test your code that $0 \\le n\\le 20$ and $0 \\le \\alpha \\le 10$. "
   ]
  },
  {
   "cell_type": "code",
   "execution_count": 311,
   "metadata": {
    "deletable": false,
    "nbgrader": {
     "checksum": "710b03b09c8f2d77e2677477ada273f4",
     "grade": false,
     "grade_id": "cell-6a57023287b035f0",
     "locked": false,
     "schema_version": 1,
     "solution": true
    }
   },
   "outputs": [],
   "source": [
    "f_nt = function(n, k, alpha) {\n",
    "    if(k<0 | k>n) {\n",
    "        return(0)\n",
    "    }\n",
    "    if(k ==1 | k == n){\n",
    "        return(alpha)\n",
    "    }\n",
    "    return(f_nt(n-1, k-1, alpha) + f_nt(n - 1, k, alpha))\n",
    "}"
   ]
  },
  {
   "cell_type": "code",
   "execution_count": 312,
   "metadata": {
    "deletable": false,
    "editable": false,
    "nbgrader": {
     "checksum": "e7774c277ccfba5187c31fb7dce97dd9",
     "grade": true,
     "grade_id": "cell-7883f17bad7f5f49",
     "locked": true,
     "points": 2,
     "schema_version": 1,
     "solution": false
    }
   },
   "outputs": [],
   "source": [
    "for (n in 1:10)  {\n",
    "    for (k in 1:(n+1)) {\n",
    "        stopifnot(choose(n, k) == f_nt(n + 1, k + 1, 1))\n",
    "    }\n",
    "}"
   ]
  },
  {
   "cell_type": "markdown",
   "metadata": {
    "deletable": false,
    "editable": false,
    "nbgrader": {
     "checksum": "83083a24ce17bb7d41a2ed47c52458d7",
     "grade": false,
     "grade_id": "cell-14ec53f2e8115fbd",
     "locked": true,
     "schema_version": 1,
     "solution": false
    }
   },
   "source": [
    "#### Problem 6\n",
    "If $n$ is large then then your function `f_nt` will run very slowly, or even crash. Write a function `f_nt_memo(n, k, alpha)` which uses memoization to efficiently compute the anser for large $n$. We will test your function on values of $n$ ranging from 1 to 200, and $\\alpha$ from 1 to 10. The memoization data structure has been allocated for you:"
   ]
  },
  {
   "cell_type": "code",
   "execution_count": 313,
   "metadata": {
    "deletable": false,
    "editable": false,
    "nbgrader": {
     "checksum": "baa27c3b15e0ecd10bc8c8282aefa2ef",
     "grade": false,
     "grade_id": "cell-77a3143f6caeee86",
     "locked": true,
     "schema_version": 1,
     "solution": false
    }
   },
   "outputs": [],
   "source": [
    "memo = array(NA_integer_, dim = c(200, 200, 20)) # access using: memo[n, k, alpha]"
   ]
  },
  {
   "cell_type": "code",
   "execution_count": 314,
   "metadata": {
    "deletable": false,
    "nbgrader": {
     "checksum": "1a7bca8d5042eed3f9120559536c060b",
     "grade": false,
     "grade_id": "cell-2990a43145fd261b",
     "locked": false,
     "schema_version": 1,
     "solution": true
    }
   },
   "outputs": [],
   "source": [
    "f_nt_memo = function(n, k, alpha) {\n",
    "    if(k<0 | k>n) {\n",
    "        return(0)\n",
    "    }\n",
    "    if(k ==1 | k == n){\n",
    "        return(alpha)\n",
    "    }\n",
    "    if(is.na(memo[n,k,alpha])){\n",
    "        memo[n,k,alpha] <<- f_nt_memo(n-1, k-1, alpha) + f_nt_memo(n-1, k , alpha)\n",
    "    }\n",
    "    return(memo[n, k, alpha])\n",
    "}"
   ]
  },
  {
   "cell_type": "code",
   "execution_count": 315,
   "metadata": {
    "deletable": false,
    "editable": false,
    "nbgrader": {
     "checksum": "753fac693a82ca97554ce86519f9591b",
     "grade": true,
     "grade_id": "cell-3c889530261cf264",
     "locked": true,
     "points": 2,
     "schema_version": 1,
     "solution": false
    }
   },
   "outputs": [],
   "source": [
    "for (n in 1:15) {\n",
    "    for (k in 1:n) {\n",
    "        for (alpha in 1:10) {\n",
    "            stopifnot(f_nt_memo(n, k, alpha) == f_nt(n, k, alpha))\n",
    "            stopifnot(f_nt_memo(n, k, alpha) == alpha * choose(n - 1, k - 1))\n",
    "        }\n",
    "    }\n",
    "}\n",
    "stopifnot(near(f_nt_memo(150, 50, 13), 8.72242e+40, tol=1e41))\n"
   ]
  },
  {
   "cell_type": "markdown",
   "metadata": {
    "deletable": false,
    "editable": false,
    "nbgrader": {
     "checksum": "b090e225d9a4a69b0b7d027d4034659f",
     "grade": false,
     "grade_id": "cell-ea9eececc85089e5",
     "locked": true,
     "schema_version": 1,
     "solution": false
    }
   },
   "source": [
    "### Facebook Data\n",
    "Many Facebook users report feeling like \"my friends have more friends than I do\". In this problem we investigate that phenomenon.\n",
    "\n",
    "The file `fb.RData` represents friend data from about 4000 facebook users."
   ]
  },
  {
   "cell_type": "code",
   "execution_count": 316,
   "metadata": {
    "deletable": false,
    "editable": false,
    "nbgrader": {
     "checksum": "297165a5e62a0aaa347b521613712460",
     "grade": false,
     "grade_id": "cell-34f7e74c5a4e3c9a",
     "locked": true,
     "schema_version": 1,
     "solution": false
    }
   },
   "outputs": [
    {
     "name": "stdout",
     "output_type": "stream",
     "text": [
      "# A tibble: 88,234 x 2\n",
      "   user_id friend_id\n",
      "     <int>     <int>\n",
      " 1       0         1\n",
      " 2       0         2\n",
      " 3       0         3\n",
      " 4       0         4\n",
      " 5       0         5\n",
      " 6       0         6\n",
      " 7       0         7\n",
      " 8       0         8\n",
      " 9       0         9\n",
      "10       0        10\n",
      "# ... with 88,224 more rows\n"
     ]
    }
   ],
   "source": [
    "load(\"fb.RData\")\n",
    "fb %>% print"
   ]
  },
  {
   "cell_type": "markdown",
   "metadata": {
    "deletable": false,
    "editable": false,
    "nbgrader": {
     "checksum": "7c244363323c91c7575c9b88ddbe8059",
     "grade": false,
     "grade_id": "cell-92326f3b910bb829",
     "locked": true,
     "schema_version": 1,
     "solution": false
    }
   },
   "source": [
    "The first column represents a user id, and the second column represents the ids of all of that user's friends. (The real user id's have been replaced by integers to preserve anonymity.) The number of friends each user has is:"
   ]
  },
  {
   "cell_type": "code",
   "execution_count": 317,
   "metadata": {
    "deletable": false,
    "editable": false,
    "nbgrader": {
     "checksum": "3b2e23dda9ac3d7e0cce696fd47ec83d",
     "grade": false,
     "grade_id": "cell-3af38681adda78cf",
     "locked": true,
     "schema_version": 1,
     "solution": false
    }
   },
   "outputs": [
    {
     "name": "stdout",
     "output_type": "stream",
     "text": [
      "# A tibble: 3,663 x 2\n",
      "   user_id     n\n",
      "     <int> <int>\n",
      " 1       0   347\n",
      " 2       1    16\n",
      " 3       2     9\n",
      " 4       3    16\n",
      " 5       4     9\n",
      " 6       5    12\n",
      " 7       6     5\n",
      " 8       7    19\n",
      " 9       8     7\n",
      "10       9    55\n",
      "# ... with 3,653 more rows\n"
     ]
    }
   ],
   "source": [
    "fb %>% count(user_id) %>% print"
   ]
  },
  {
   "cell_type": "markdown",
   "metadata": {
    "deletable": false,
    "editable": false,
    "nbgrader": {
     "checksum": "59119a80b0914c982e7c046f593def77",
     "grade": false,
     "grade_id": "cell-873f31fbe107f777",
     "locked": true,
     "schema_version": 1,
     "solution": false
    }
   },
   "source": [
    "#### Problem 7\n",
    "Since we are going to do a lot of looping and filtering over this dataset, we will first store it in a format that allows us to efficiently access all of the friends of a given user id.\n",
    "\n",
    "Convert the `fb` tibble to a list of integer vectors, and store it as a variable called `fb_lst`. Each named entry of the list represents one user id. The entries themselves contain all of that user's friends:\n",
    "```{r}\n",
    "> fb_lst[1:5] %>% str\n",
    "List of 5\n",
    " $ 0: int [1:347] 1 2 3 4 5 6 7 8 9 10 ...\n",
    " $ 1: int [1:16] 48 53 54 73 88 92 119 126 133 194 ...\n",
    " $ 2: int [1:9] 20 115 116 149 226 312 326 333 343\n",
    " $ 3: int [1:16] 9 25 26 67 72 85 122 142 170 188 ...\n",
    " $ 4: int [1:9] 78 152 181 195 218 273 275 306 328\n",
    "```\n",
    "Hence, to access all of the friends of a given user id, we can simply index into `fb_lst`:\n",
    "```{r}\n",
    "> filter(fb, user_id == 1111)\n",
    "  user_id friend_id\n",
    "1 1111    1197     \n",
    "2 1111    1368     \n",
    "3 1111    1788  \n",
    "> fb_lst[['1111']]\n",
    "[1] 1197 1368 1788\n",
    "```\n",
    "(The second command is much faster, because the `filter()` operation must examine every row of `fb`.)"
   ]
  },
  {
   "cell_type": "markdown",
   "metadata": {
    "deletable": false,
    "editable": false,
    "nbgrader": {
     "checksum": "773f34f339f5efe33f05640d017ba8d3",
     "grade": false,
     "grade_id": "cell-ce961ee7e57519f9",
     "locked": true,
     "schema_version": 1,
     "solution": false
    }
   },
   "source": [
    "<small>\n",
    "    (Note that the keys given to `fb_lst` must be strings. R will interpret `fb_lst[[1111]]` as the 1111th entry in `fb_lst`, which does not correspond to user id 1111:\n",
    "\n",
    "```{r}\n",
    "> fb_lst[1111]\n",
    "$`1250`\n",
    "  [1] 1255 1256 1271 1278 1287 1288 1293 1330 1335 1339 1340 1341 1344 1352 1367\n",
    " [16] 1375 1376 1380 1390 1399 1402 1416 1420 1431 1435 1456 1488 1491 1522 1524\n",
    " [31] 1530 1532 1547 1554 1557 1559 1572 1584 1589 1597 1600 1603 1608 1610 1612\n",
    " [46] 1613 1617 1619 1620 1622 1623 1632 1644 1652 1653 1659 1662 1663 1683 1685\n",
    " [61] 1688 1689 1707 1712 1714 1717 1721 1724 1730 1736 1737 1741 1746 1750 1752\n",
    " [76] 1754 1757 1765 1768 1771 1789 1793 1795 1796 1799 1800 1804 1810 1816 1819\n",
    " [91] 1827 1833 1839 1849 1861 1867 1877 1879 1888 1902\n",
    "```\n",
    " )\n",
    "</small>"
   ]
  },
  {
   "cell_type": "code",
   "execution_count": 318,
   "metadata": {
    "deletable": false,
    "nbgrader": {
     "checksum": "72e2449e17dec95cb0b57a05ae790406",
     "grade": false,
     "grade_id": "cell-ddf7d3f0f721b27d",
     "locked": false,
     "schema_version": 1,
     "solution": true
    }
   },
   "outputs": [],
   "source": [
    "max = max(fb$user_id)\n",
    "friends = fb %>% filter(user_id == 1) %>% .$friend_id\n",
    "fb_lst = list()\n",
    "for(i in 0:max){\n",
    "    b = as.character(i)\n",
    "    fb_lst[[b]] = fb %>% filter(user_id == i) %>% .$friend_id\n",
    "}\n"
   ]
  },
  {
   "cell_type": "code",
   "execution_count": 319,
   "metadata": {
    "deletable": false,
    "editable": false,
    "nbgrader": {
     "checksum": "42351dd18f8fb9d23fd8f9e507b97836",
     "grade": true,
     "grade_id": "cell-d06eefed04bfb819",
     "locked": true,
     "points": 2,
     "schema_version": 1,
     "solution": false
    }
   },
   "outputs": [],
   "source": [
    "stopifnot(all(fb_lst[[\"1111\"]] == c(1197, 1368, 1788)))"
   ]
  },
  {
   "cell_type": "markdown",
   "metadata": {
    "deletable": false,
    "editable": false,
    "nbgrader": {
     "checksum": "e67e312d05000707e9c12efff99892f6",
     "grade": false,
     "grade_id": "cell-b441f01a0faad759",
     "locked": true,
     "schema_version": 1,
     "solution": false
    }
   },
   "source": [
    "#### Problem 8\n",
    "The first user in this data set, user_id 0, has 347 friends. The next user (uid 1) has 16 friends. Using `fb_lst`' define an integer vector `n_friends` whose entries store the number friends that each user id has in the `fb` data set:\n",
    "```{r}\n",
    "> n_friends[1:5] %>% str\n",
    "  0   1   2   3   4 \n",
    "347  16   9  16   9 \n",
    "```\n",
    "(As with `fb_lst`, the names of this vector correspond to user ids.)\n",
    "\n",
    "(*Hint*: This is a one-liner.)"
   ]
  },
  {
   "cell_type": "code",
   "execution_count": 320,
   "metadata": {
    "deletable": false,
    "nbgrader": {
     "checksum": "08773733b6a4b1523d6885da130fab82",
     "grade": false,
     "grade_id": "cell-d26dcd93df5d8dcc",
     "locked": false,
     "schema_version": 1,
     "solution": true
    }
   },
   "outputs": [],
   "source": [
    "\n",
    "n_friends = map_dbl(fb_lst, function(x) length(x)) \n"
   ]
  },
  {
   "cell_type": "code",
   "execution_count": 321,
   "metadata": {
    "deletable": false,
    "editable": false,
    "nbgrader": {
     "checksum": "d2a5c3b855a0c06da89a1f23faf5f368",
     "grade": true,
     "grade_id": "cell-e9fb66f26b1fef2d",
     "locked": true,
     "points": 2,
     "schema_version": 1,
     "solution": false
    }
   },
   "outputs": [],
   "source": [
    "stopifnot(exists(\"n_friends\"))\n",
    "stopifnot(n_friends[[\"0\"]] == 347L)\n",
    "stopifnot(n_friends[[\"1\"]] == 16L)"
   ]
  },
  {
   "cell_type": "markdown",
   "metadata": {
    "deletable": false,
    "editable": false,
    "nbgrader": {
     "checksum": "dc9f90633fd797476d866aa20e8777e4",
     "grade": false,
     "grade_id": "cell-8ec75c616c30ee59",
     "locked": true,
     "schema_version": 1,
     "solution": false
    }
   },
   "source": [
    "#### Problem 9\n",
    "Create a vector `n_friends2` containing the number of friends that each user's friends have. This vector should have one entry for each relationship in the original `fb` table, i.e. 88324 entries in total. For example, the first friend of the first user in `fb` is user id 1:"
   ]
  },
  {
   "cell_type": "code",
   "execution_count": 322,
   "metadata": {
    "deletable": false,
    "editable": false,
    "nbgrader": {
     "checksum": "08a95ae376862442d83de577bbd347d7",
     "grade": false,
     "grade_id": "cell-a683df5ac1eb4987",
     "locked": true,
     "schema_version": 1,
     "solution": false
    }
   },
   "outputs": [
    {
     "data": {
      "text/html": [
       "<table>\n",
       "<thead><tr><th scope=col>user_id</th><th scope=col>friend_id</th></tr></thead>\n",
       "<tbody>\n",
       "\t<tr><td>0</td><td>1</td></tr>\n",
       "</tbody>\n",
       "</table>\n"
      ],
      "text/latex": [
       "\\begin{tabular}{r|ll}\n",
       " user\\_id & friend\\_id\\\\\n",
       "\\hline\n",
       "\t 0 & 1\\\\\n",
       "\\end{tabular}\n"
      ],
      "text/markdown": [
       "\n",
       "user_id | friend_id | \n",
       "|---|\n",
       "| 0 | 1 | \n",
       "\n",
       "\n"
      ],
      "text/plain": [
       "  user_id friend_id\n",
       "1 0       1        "
      ]
     },
     "metadata": {},
     "output_type": "display_data"
    }
   ],
   "source": [
    "fb %>% head(1)"
   ]
  },
  {
   "cell_type": "markdown",
   "metadata": {
    "deletable": false,
    "editable": false,
    "nbgrader": {
     "checksum": "dc4f2be35c33403d6c4ded8431141eaf",
     "grade": false,
     "grade_id": "cell-aac0b309afc55e94",
     "locked": true,
     "schema_version": 1,
     "solution": false
    }
   },
   "source": [
    "User 1 has 16 friends:"
   ]
  },
  {
   "cell_type": "code",
   "execution_count": 323,
   "metadata": {
    "deletable": false,
    "editable": false,
    "nbgrader": {
     "checksum": "9edcf1a04d31d932c2ee8c2c7ee98918",
     "grade": false,
     "grade_id": "cell-fdb9753fcece5781",
     "locked": true,
     "schema_version": 1,
     "solution": false
    }
   },
   "outputs": [
    {
     "data": {
      "text/html": [
       "16"
      ],
      "text/latex": [
       "16"
      ],
      "text/markdown": [
       "16"
      ],
      "text/plain": [
       "[1] 16"
      ]
     },
     "metadata": {},
     "output_type": "display_data"
    }
   ],
   "source": [
    "fb_lst[[\"1\"]] %>% length"
   ]
  },
  {
   "cell_type": "markdown",
   "metadata": {
    "deletable": false,
    "editable": false,
    "nbgrader": {
     "checksum": "3ad0825f92292c50cbc6075459a69cee",
     "grade": false,
     "grade_id": "cell-77ca15092219a2ab",
     "locked": true,
     "schema_version": 1,
     "solution": false
    }
   },
   "source": [
    "Hence, the first entry of n_friends2 should be 16.\n",
    "\n",
    "Your solution should use `n_friends` and `fb_lst`, but not the original `fb` table.\n",
    "\n",
    "(*Hint*: There is a one-line solution that does not require using loops or `map`.)"
   ]
  },
  {
   "cell_type": "code",
   "execution_count": 324,
   "metadata": {
    "deletable": false,
    "nbgrader": {
     "checksum": "7dd4522128c66a6bfa9bd335fce9399a",
     "grade": false,
     "grade_id": "cell-bc9c6e0131f5bd5d",
     "locked": false,
     "schema_version": 1,
     "solution": true
    }
   },
   "outputs": [],
   "source": [
    "\n",
    "n_friends2 = c()\n",
    "for(i in 1:length(fb_lst)){ n_friends2 = c(n_friends2, map(fb_lst[[i]] , function(x) n_friends[as.character(x)]))   }\n"
   ]
  },
  {
   "cell_type": "code",
   "execution_count": 325,
   "metadata": {
    "deletable": false,
    "editable": false,
    "nbgrader": {
     "checksum": "7e4be6b603b3d5b5e1b7c7b1544d7fb9",
     "grade": true,
     "grade_id": "cell-ac122ecd26f96cc4",
     "locked": true,
     "points": 2,
     "schema_version": 1,
     "solution": false
    }
   },
   "outputs": [],
   "source": [
    "stopifnot(length(n_friends2) == 88234)\n",
    "stopifnot(all(n_friends2[1:10] == c(16, 9, 16, 9, 12, 5, 19, 7, 55, 9)))"
   ]
  },
  {
   "attachments": {
    "image.png": {
     "image/png": "[encoded data removed]"
    }
   },
   "cell_type": "markdown",
   "metadata": {
    "deletable": false,
    "editable": false,
    "nbgrader": {
     "checksum": "f7c3d1f627221d4af340b7a7a0b21080",
     "grade": false,
     "grade_id": "cell-1affecc46ebd7baa",
     "locked": true,
     "schema_version": 1,
     "solution": false
    }
   },
   "source": [
    "#### Problem 10\n",
    "Use `stat_ecdf` to plot the empirical cumulative distribution functions of `n_friends` and `n_friends2`, and interpret the plot. Explain what differences, if any, exist between the number of friends a Facebook user has, and the number of friends her friend(s) have. Explain why those differences exist: why should it be that your friends have more friends than you do?\n",
    "\n",
    "(Your plot should look something like:\n",
    "![image.png](attachment:image.png)"
   ]
  },
  {
   "cell_type": "code",
   "execution_count": 326,
   "metadata": {
    "deletable": false,
    "nbgrader": {
     "checksum": "3325e0cfff39876705bc3a2e629f316d",
     "grade": true,
     "grade_id": "cell-fdb6b836aa04354c",
     "locked": false,
     "points": 2,
     "schema_version": 1,
     "solution": true
    }
   },
   "outputs": [
    {
     "name": "stderr",
     "output_type": "stream",
     "text": [
      "Warning message:\n",
      "“Removed 56 rows containing non-finite values (stat_ecdf).”"
     ]
    },
    {
     "data": {},
     "metadata": {},
     "output_type": "display_data"
    },
    {
     "data": {
      "image/png": "[encoded data removed]",
      "text/plain": [
       "plot without title"
      ]
     },
     "metadata": {},
     "output_type": "display_data"
    }
   ],
   "source": [
    "no_new_friends = data.frame(x = unlist(n_friends), colour =\"n_friends\")\n",
    "Im_still_down_with_my_day_ones = data.frame(x = unlist(n_friends2), colour = \"n_friends2\")\n",
    "newdf = rbind(no_new_friends, Im_still_down_with_my_day_ones)\n",
    "\n",
    "ggplot(data=newdf, mapping = aes(x=x, color = colour)) + stat_ecdf() +  xlim(c(0,250)) + xlab(\"Number of friends\") "
   ]
  },
  {
   "cell_type": "code",
   "execution_count": null,
   "metadata": {},
   "outputs": [],
   "source": []
  },
  {
   "cell_type": "code",
   "execution_count": null,
   "metadata": {},
   "outputs": [],
   "source": []
  }
 ],
 "metadata": {
  "kernelspec": {
   "display_name": "R",
   "language": "R",
   "name": "ir"
  },
  "language_info": {
   "codemirror_mode": "r",
   "file_extension": ".r",
   "mimetype": "text/x-r-source",
   "name": "R",
   "pygments_lexer": "r",
   "version": "3.4.1"
  }
 },
 "nbformat": 4,
 "nbformat_minor": 2
}
