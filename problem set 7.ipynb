{
 "cells": [
  {
   "cell_type": "markdown",
   "metadata": {},
   "source": [
    "Before you turn this problem set in, make sure everything runs as expected. First, **restart the kernel** (in the menubar, select Kernel$\\rightarrow$Restart) and then **run all cells** (in the menubar, select Cell$\\rightarrow$Run All). Your code should run from top to bottom with no errors. Failure to do this will result in loss of points.\n",
    "\n",
    "You should not use `install.packages()` anywhere. You may assume that we have already installed all the packages needed to run your code.\n",
    "\n",
    "Make sure you fill in any place that says `YOUR CODE HERE` or \"YOUR ANSWER HERE\" and delete the `stop()` functions, as well as your name and collaborators below:"
   ]
  },
  {
   "cell_type": "code",
   "execution_count": 1,
   "metadata": {},
   "outputs": [],
   "source": [
    "NAME = \"aayushap\"  # your uniqname \n",
    "COLLABORATORS = c(\"pjmerica\", \"sohumm\",\"kaspersj\" )  # vector of uniqnames of your collaborators, if any\n",
    "## IMPORTANT: you must also have set your group on Canvas. This is only used as a backup."
   ]
  },
  {
   "cell_type": "markdown",
   "metadata": {},
   "source": [
    "---"
   ]
  },
  {
   "cell_type": "code",
   "execution_count": 2,
   "metadata": {
    "deletable": false,
    "editable": false,
    "nbgrader": {
     "checksum": "783880332d02706d62b0f75f0a9b2987",
     "grade": false,
     "grade_id": "cell-d1761bfdb43c7ec3",
     "locked": true,
     "schema_version": 1,
     "solution": false
    }
   },
   "outputs": [
    {
     "name": "stderr",
     "output_type": "stream",
     "text": [
      "Loading tidyverse: ggplot2\n",
      "Loading tidyverse: tibble\n",
      "Loading tidyverse: tidyr\n",
      "Loading tidyverse: readr\n",
      "Loading tidyverse: purrr\n",
      "Loading tidyverse: dplyr\n",
      "Conflicts with tidy packages ---------------------------------------------------\n",
      "filter(): dplyr, stats\n",
      "lag():    dplyr, stats\n",
      "\n",
      "Attaching package: ‘lubridate’\n",
      "\n",
      "The following object is masked from ‘package:base’:\n",
      "\n",
      "    date\n",
      "\n"
     ]
    }
   ],
   "source": [
    "library(tidyverse)\n",
    "library(stringr)\n",
    "library(lubridate)\n",
    "library(tidytext)"
   ]
  },
  {
   "cell_type": "markdown",
   "metadata": {
    "deletable": false,
    "editable": false,
    "nbgrader": {
     "checksum": "44db05ac5ef039451a0dcef10261b205",
     "grade": false,
     "grade_id": "cell-193dcce7ad6d5a10",
     "locked": true,
     "schema_version": 1,
     "solution": false
    }
   },
   "source": [
    "# STATS 306\n",
    "## Problem Set 7: Analyzing Twitter data\n",
    "Each problem is worth two to four points, depending on difficulty, for a total of 20.\n",
    "\n",
    "*Note*: you do not need to use `install.packages()` in this notebook. You may assume that we have already installed all of the necessary packages when we run your code."
   ]
  },
  {
   "cell_type": "markdown",
   "metadata": {
    "deletable": false,
    "editable": false,
    "nbgrader": {
     "checksum": "dc1508bb122b4857bf41e678bd6a5fea",
     "grade": false,
     "grade_id": "cell-cae0490557e460e4",
     "locked": true,
     "schema_version": 1,
     "solution": false
    }
   },
   "source": [
    "\n",
    "The file `tweets.txt.gz` contains tweets from September, 2016 (a few may lay outside of this range.) The file is in a special format. The first few lines are:"
   ]
  },
  {
   "cell_type": "code",
   "execution_count": 3,
   "metadata": {
    "deletable": false,
    "editable": false,
    "nbgrader": {
     "checksum": "54c0a3bedc766ab802fc7927aa77c871",
     "grade": false,
     "grade_id": "cell-60ca01f0e29815bf",
     "locked": true,
     "schema_version": 1,
     "solution": false
    }
   },
   "outputs": [
    {
     "data": {
      "text/html": [
       "<ol class=list-inline>\n",
       "\t<li>'T\\t2009-06-11 00:00:03'</li>\n",
       "\t<li>'U\\thttp://twitter.com/imdb'</li>\n",
       "\t<li>'W\\tNo Post Title'</li>\n",
       "\t<li>''</li>\n",
       "\t<li>'T\\t2009-06-11 16:37:14'</li>\n",
       "\t<li>'U\\thttp://twitter.com/ncruralhealth'</li>\n",
       "\t<li>'W\\tNo Post Title'</li>\n",
       "\t<li>''</li>\n",
       "\t<li>'T\\t2009-06-11 16:56:23'</li>\n",
       "\t<li>'U\\thttp://twitter.com/boydjones'</li>\n",
       "\t<li>'W\\tlistening to \"Big Lizard - The Dead Milkmen\" ♫ http://blip.fm/~81kwz'</li>\n",
       "</ol>\n"
      ],
      "text/latex": [
       "\\begin{enumerate*}\n",
       "\\item 'T\\textbackslash{}t2009-06-11 00:00:03'\n",
       "\\item 'U\\textbackslash{}thttp://twitter.com/imdb'\n",
       "\\item 'W\\textbackslash{}tNo Post Title'\n",
       "\\item ''\n",
       "\\item 'T\\textbackslash{}t2009-06-11 16:37:14'\n",
       "\\item 'U\\textbackslash{}thttp://twitter.com/ncruralhealth'\n",
       "\\item 'W\\textbackslash{}tNo Post Title'\n",
       "\\item ''\n",
       "\\item 'T\\textbackslash{}t2009-06-11 16:56:23'\n",
       "\\item 'U\\textbackslash{}thttp://twitter.com/boydjones'\n",
       "\\item 'W\\textbackslash{}tlistening to \"Big Lizard - The Dead Milkmen\" ♫ http://blip.fm/\\textasciitilde{}81kwz'\n",
       "\\end{enumerate*}\n"
      ],
      "text/markdown": [
       "1. 'T\\t2009-06-11 00:00:03'\n",
       "2. 'U\\thttp://twitter.com/imdb'\n",
       "3. 'W\\tNo Post Title'\n",
       "4. ''\n",
       "5. 'T\\t2009-06-11 16:37:14'\n",
       "6. 'U\\thttp://twitter.com/ncruralhealth'\n",
       "7. 'W\\tNo Post Title'\n",
       "8. ''\n",
       "9. 'T\\t2009-06-11 16:56:23'\n",
       "10. 'U\\thttp://twitter.com/boydjones'\n",
       "11. 'W\\tlistening to \"Big Lizard - The Dead Milkmen\" ♫ http://blip.fm/~81kwz'\n",
       "\n",
       "\n"
      ],
      "text/plain": [
       " [1] \"T\\t2009-06-11 00:00:03\"                                                   \n",
       " [2] \"U\\thttp://twitter.com/imdb\"                                               \n",
       " [3] \"W\\tNo Post Title\"                                                         \n",
       " [4] \"\"                                                                         \n",
       " [5] \"T\\t2009-06-11 16:37:14\"                                                   \n",
       " [6] \"U\\thttp://twitter.com/ncruralhealth\"                                      \n",
       " [7] \"W\\tNo Post Title\"                                                         \n",
       " [8] \"\"                                                                         \n",
       " [9] \"T\\t2009-06-11 16:56:23\"                                                   \n",
       "[10] \"U\\thttp://twitter.com/boydjones\"                                          \n",
       "[11] \"W\\tlistening to \\\"Big Lizard - The Dead Milkmen\\\" ♫ http://blip.fm/~81kwz\""
      ]
     },
     "metadata": {},
     "output_type": "display_data"
    }
   ],
   "source": [
    "readLines(\"tweets.txt.gz\", n = 11)"
   ]
  },
  {
   "cell_type": "markdown",
   "metadata": {
    "deletable": false,
    "editable": false,
    "nbgrader": {
     "checksum": "c2c02af971a4e3ef472c81a0e64aa047",
     "grade": false,
     "grade_id": "cell-996e7451fe14b195",
     "locked": true,
     "schema_version": 1,
     "solution": false
    }
   },
   "source": [
    "Each datum consists of a triple of lines marked `T`, `U` and `W` containing the time of the tweet, the user, and the message itself, respectively. Each triple is separated by an empty line."
   ]
  },
  {
   "cell_type": "markdown",
   "metadata": {
    "deletable": false,
    "editable": false,
    "nbgrader": {
     "checksum": "a5aad4a358b508e8e06b80675ec5e2b3",
     "grade": false,
     "grade_id": "cell-df84e125274b8c5a",
     "locked": true,
     "schema_version": 1,
     "solution": false
    }
   },
   "source": [
    "#### Problem 1 (2 pts.)\n",
    "Read `tweets.txt.gz` in and store it as an R data frame/tibble called `tweets1`. At this point, your should have a single character column and 1.4m rows. It will look like:\n",
    "```{r}\n",
    "# A tibble: 1,483,985 x 1\n",
    "   X1                                   \n",
    "   <chr>                                \n",
    " 1 \"T\\t2009-06-11 00:00:03\"             \n",
    " 2 \"U\\thttp://twitter.com/imdb\"         \n",
    " 3 \"W\\tNo Post Title\"                   \n",
    " 4 <NA>                                 \n",
    " 5 \"T\\t2009-06-11 16:37:14\"             \n",
    " 6 \"U\\thttp://twitter.com/ncruralhealth\"\n",
    " 7 \"W\\tNo Post Title\"                   \n",
    " 8 <NA>                                 \n",
    " 9 \"T\\t2009-06-11 16:56:23\"             \n",
    "10 \"U\\thttp://twitter.com/boydjones\"    \n",
    "# ... with 1,483,975 more rows\n",
    "```\n",
    "(*Note*: The `.gz` file extension indicates that this file is compressed to save space. You can load the table using the usual `tidyverse` table loading commands, as if it were a regular text file.)"
   ]
  },
  {
   "cell_type": "code",
   "execution_count": 4,
   "metadata": {
    "deletable": false,
    "nbgrader": {
     "checksum": "738208551a0135b0f70676c405490cf9",
     "grade": false,
     "grade_id": "cell-11b505e7d86896df",
     "locked": false,
     "schema_version": 1,
     "solution": true
    }
   },
   "outputs": [
    {
     "name": "stdout",
     "output_type": "stream",
     "text": [
      "# A tibble: 1,483,985 x 1\n",
      "   X1                                   \n",
      "   <chr>                                \n",
      " 1 \"T\\t2009-06-11 00:00:03\"             \n",
      " 2 \"U\\thttp://twitter.com/imdb\"         \n",
      " 3 \"W\\tNo Post Title\"                   \n",
      " 4 \"\"                                   \n",
      " 5 \"T\\t2009-06-11 16:37:14\"             \n",
      " 6 \"U\\thttp://twitter.com/ncruralhealth\"\n",
      " 7 \"W\\tNo Post Title\"                   \n",
      " 8 \"\"                                   \n",
      " 9 \"T\\t2009-06-11 16:56:23\"             \n",
      "10 \"U\\thttp://twitter.com/boydjones\"    \n",
      "# ... with 1,483,975 more rows\n"
     ]
    }
   ],
   "source": [
    "tweets1 <- tibble(X1 = readLines(\"tweets.txt.gz\")) %>% print"
   ]
  },
  {
   "cell_type": "code",
   "execution_count": 4,
   "metadata": {
    "deletable": false,
    "editable": false,
    "nbgrader": {
     "checksum": "3f76d0cf0ef19266d8c1f6d426c95f3b",
     "grade": true,
     "grade_id": "cell-eaa1c671b47c11ff",
     "locked": true,
     "points": 2,
     "schema_version": 1,
     "solution": false
    }
   },
   "outputs": [],
   "source": [
    "stopifnot(exists(\"tweets1\"))"
   ]
  },
  {
   "cell_type": "markdown",
   "metadata": {
    "deletable": false,
    "editable": false,
    "nbgrader": {
     "checksum": "586da3f7761931103b1d10ef7d77da65",
     "grade": false,
     "grade_id": "cell-bbb554d494c84d68",
     "locked": true,
     "schema_version": 1,
     "solution": false
    }
   },
   "source": [
    "#### Problem 2 (4 pts.)\n",
    "Next, convert `tweets1` so that it has three columns reflecting the three variables present in this data set. Store the resulting table in a variable called `tweets2`. The first rows of `tweets2` will now look like:\n",
    "```\n",
    "# A tibble: 3 x 3\n",
    "  T                   U                                W                       \n",
    "  <chr>               <chr>                            <chr>                   \n",
    "1 2009-06-11 00:00:03 http://twitter.com/imdb          No Post Title           \n",
    "2 2009-06-11 16:37:14 http://twitter.com/ncruralhealth No Post Title           \n",
    "3 2009-06-11 16:56:23 http://twitter.com/boydjones     \"listening to \\\"Big Liz…\n",
    "```\n",
    "(*Hint*: If you are having trouble getting this working on the full data set, try subsetting the table to a small number of rows in order to debug your code.)"
   ]
  },
  {
   "cell_type": "code",
   "execution_count": 5,
   "metadata": {
    "deletable": false,
    "nbgrader": {
     "checksum": "2022753b7ecd7755d995f6fa6871e7c1",
     "grade": false,
     "grade_id": "cell-d281b6e37146bfc5",
     "locked": false,
     "schema_version": 1,
     "solution": true
    }
   },
   "outputs": [
    {
     "name": "stdout",
     "output_type": "stream",
     "text": [
      "# A tibble: 370,997 x 3\n",
      "   T                        U                                W                 \n",
      "   <chr>                    <chr>                            <chr>             \n",
      " 1 \"T\\t2009-06-11 00:00:03\" http://twitter.com/imdb          No Post Title     \n",
      " 2 \"T\\t2009-06-11 16:37:14\" http://twitter.com/ncruralhealth No Post Title     \n",
      " 3 \"T\\t2009-06-11 16:56:23\" http://twitter.com/boydjones     \"listening to \\\"B…\n",
      " 4 \"T\\t2009-06-11 16:56:59\" http://twitter.com/cameron987    @beatrizchavez A …\n",
      " 5 \"T\\t2009-06-11 16:57:03\" http://twitter.com/selenato      @okaaaa 本当ね！2週間楽し…\n",
      " 6 \"T\\t2009-06-11 16:57:30\" http://twitter.com/nbeasley10    Just got a chance…\n",
      " 7 \"T\\t2009-06-11 16:57:31\" http://twitter.com/littlewing333 @kidhum and if an…\n",
      " 8 \"T\\t2009-06-11 16:57:33\" http://twitter.com/lolcute       mebbe U fetch htt…\n",
      " 9 \"T\\t2009-06-11 16:57:36\" http://twitter.com/fr0st22       I have broken 1,0…\n",
      "10 \"T\\t2009-06-11 16:57:59\" http://twitter.com/mavellsyrup   Food timmeeee :'D \n",
      "# ... with 370,987 more rows\n"
     ]
    }
   ],
   "source": [
    "tweets2 = tweets1 %>% mutate(group = ceiling(row_number()/4)) %>%\n",
    "    mutate(key = case_when(str_detect(X1, '^T') ~ 'T',\n",
    "                           str_detect(X1, '^U') ~ 'U',\n",
    "                           str_detect(X1, '^W') ~ 'W',\n",
    "                           )) %>%\n",
    "    filter(!is.na(key)) %>% mutate(X1 = str_replace(X1, \"^[T][\\\\s]+(f\\\\d-\\\\s:]+)\", \"\\\\1\"),\n",
    "                                  X1 = str_replace(X1,\"^[U][\\\\s]+(.+)\", \"\\\\1\"),\n",
    "                                  X1 = str_replace(X1, \"^[W][\\\\s]+(.+)\", \"\\\\1\")) %>%\n",
    "    spread(key=key, value= X1) %>%\n",
    "    select(-group) %>% print\n"
   ]
  },
  {
   "cell_type": "code",
   "execution_count": 6,
   "metadata": {
    "deletable": false,
    "editable": false,
    "nbgrader": {
     "checksum": "91c9f76488a47a8424d09c1758784ba6",
     "grade": true,
     "grade_id": "cell-01f3fc8a734a67e1",
     "locked": true,
     "points": 2,
     "schema_version": 1,
     "solution": false
    }
   },
   "outputs": [],
   "source": [
    "stopifnot(exists(\"tweets2\"))"
   ]
  },
  {
   "cell_type": "markdown",
   "metadata": {
    "deletable": false,
    "editable": false,
    "nbgrader": {
     "checksum": "aaf8370b99c447675590839cc188c2a9",
     "grade": false,
     "grade_id": "cell-50fa2e3c0e07a8b3",
     "locked": true,
     "schema_version": 1,
     "solution": false
    }
   },
   "source": [
    "#### Problem 3 (2 pts.)\n",
    "Convert the `T` column to a properly formatted R datetime object and give it (and the rest of the columns) an appropriate name. Also, strip off the leading `http://twitter.com/` from each user. Store the resulting table as `tweets3`. It will look like:\n",
    "```\n",
    "# A tibble: 370,997 x 3\n",
    "   time                user          tweet                                     \n",
    "   <dttm>              <chr>         <chr>                                     \n",
    " 1 2009-06-11 00:00:03 imdb          No Post Title                             \n",
    " 2 2009-06-11 16:37:14 ncruralhealth No Post Title                             \n",
    " 3 2009-06-11 16:56:23 boydjones     \"listening to \\\"Big Lizard - The Dead Mil…\n",
    " 4 2009-06-11 16:56:59 cameron987    @beatrizchavez A dork? NO way... you are.…\n",
    " 5 2009-06-11 16:57:03 selenato      @okaaaa 本当ね！2週間楽しみがありすぎわ、まじで…本当きどうさんへの愛がこ…\n",
    " 6 2009-06-11 16:57:30 nbeasley10    Just got a chance to buy All-Star tickets…\n",
    " 7 2009-06-11 16:57:31 littlewing333 @kidhum and if an act has pull and they d…\n",
    " 8 2009-06-11 16:57:33 lolcute       mebbe U fetch http://tinyurl.com/nz4fbr   \n",
    " 9 2009-06-11 16:57:36 fr0st22       I have broken 1,000 twitter updates. Paaa…\n",
    "10 2009-06-11 16:57:59 mavellsyrup   Food timmeeee :'D                         \n",
    "# ... with 370,987 more rows\n",
    "```"
   ]
  },
  {
   "cell_type": "code",
   "execution_count": 6,
   "metadata": {
    "deletable": false,
    "nbgrader": {
     "checksum": "ee86142f05603e5a493e2464b4a05dc8",
     "grade": false,
     "grade_id": "cell-d655809cd302bfe0",
     "locked": false,
     "schema_version": 1,
     "solution": true
    }
   },
   "outputs": [
    {
     "name": "stdout",
     "output_type": "stream",
     "text": [
      "# A tibble: 370,997 x 3\n",
      "   time                user          tweet                                     \n",
      "   <dttm>              <chr>         <chr>                                     \n",
      " 1 2009-06-11 00:00:03 imdb          No Post Title                             \n",
      " 2 2009-06-11 16:37:14 ncruralhealth No Post Title                             \n",
      " 3 2009-06-11 16:56:23 boydjones     \"listening to \\\"Big Lizard - The Dead Mil…\n",
      " 4 2009-06-11 16:56:59 cameron987    @beatrizchavez A dork? NO way... you are.…\n",
      " 5 2009-06-11 16:57:03 selenato      @okaaaa 本当ね！2週間楽しみがありすぎわ、まじで…本当きどうさんへの愛がこ…\n",
      " 6 2009-06-11 16:57:30 nbeasley10    Just got a chance to buy All-Star tickets…\n",
      " 7 2009-06-11 16:57:31 littlewing333 @kidhum and if an act has pull and they d…\n",
      " 8 2009-06-11 16:57:33 lolcute       mebbe U fetch http://tinyurl.com/nz4fbr   \n",
      " 9 2009-06-11 16:57:36 fr0st22       I have broken 1,000 twitter updates. Paaa…\n",
      "10 2009-06-11 16:57:59 mavellsyrup   Food timmeeee :'D                         \n",
      "# ... with 370,987 more rows\n"
     ]
    }
   ],
   "source": [
    "tweets3 <- tweets2 %>% mutate(T = ymd_hms(T)) %>% mutate(garbage = str_replace(U, 'http://twitter.com/', '')) %>% \n",
    "rename(time = T, user = garbage , tweet = W) %>% select(time, user, tweet) %>% print\n"
   ]
  },
  {
   "cell_type": "code",
   "execution_count": 8,
   "metadata": {
    "deletable": false,
    "editable": false,
    "nbgrader": {
     "checksum": "0301561c7ddb0d056874683f1ab1976d",
     "grade": true,
     "grade_id": "cell-c5788e589c930ebc",
     "locked": true,
     "points": 2,
     "schema_version": 1,
     "solution": false
    }
   },
   "outputs": [],
   "source": [
    "stopifnot(exists(\"tweets3\"))"
   ]
  },
  {
   "cell_type": "markdown",
   "metadata": {
    "deletable": false,
    "editable": false,
    "nbgrader": {
     "checksum": "224d53e0d0eb1cbf2a22696044d6a2d3",
     "grade": false,
     "grade_id": "cell-000d1945c67135ff",
     "locked": true,
     "schema_version": 1,
     "solution": false
    }
   },
   "source": [
    "#### Problem 4 (2 pts.)\n",
    "Plot the total number of tweets by hour in `tweets3`. What is the busiest/least busy time of day for tweeting?"
   ]
  },
  {
   "cell_type": "code",
   "execution_count": 7,
   "metadata": {
    "deletable": false,
    "nbgrader": {
     "checksum": "c6e1bd8fcf5f6b95538f6cd133d02ad2",
     "grade": true,
     "grade_id": "cell-9f51ddcb173b8b1c",
     "locked": false,
     "points": 2,
     "schema_version": 1,
     "solution": true
    }
   },
   "outputs": [
    {
     "data": {},
     "metadata": {},
     "output_type": "display_data"
    },
    {
     "data": {
      "image/png": "[encoded data removed]",
      "text/plain": [
       "plot without title"
      ]
     },
     "metadata": {},
     "output_type": "display_data"
    }
   ],
   "source": [
    "tweets4 = tweets3 %>% mutate(hour = hour(time)) %>% \n",
    "    group_by(hour) %>% mutate(chatter = n()) %>% select(hour, chatter)\n",
    "\n",
    "ggplot(tweets4, aes(x=hour, y=chatter)) + geom_line()\n",
    "\n",
    "\n",
    "# Busiest time of the day is midnight (00:00) and the least busiest time is around 8:00am"
   ]
  },
  {
   "cell_type": "markdown",
   "metadata": {
    "deletable": false,
    "editable": false,
    "nbgrader": {
     "checksum": "0d19bcdb1809bd2f463c3125983df71a",
     "grade": false,
     "grade_id": "cell-a3ba499f059b6ca4",
     "locked": true,
     "schema_version": 1,
     "solution": false
    }
   },
   "source": [
    "### Sentiment analysis of Twitter data\n",
    "*Sentiment analysis* tries to assign a numerical sentiment score to written language. Positive language has a positive sentiment score and similarly for negative language. We will use the `tidytext` package to perform sentiment analysis on the `tweets3` table."
   ]
  },
  {
   "cell_type": "code",
   "execution_count": 12,
   "metadata": {
    "deletable": false,
    "editable": false,
    "nbgrader": {
     "checksum": "9fdf5b68ae15fe6da057f9e9bb638485",
     "grade": false,
     "grade_id": "cell-2ba9349f3a24cabd",
     "locked": true,
     "schema_version": 1,
     "solution": false
    }
   },
   "outputs": [],
   "source": [
    "# you may need to install this if not working on server. anaconda package: r-tidytext\n",
    "library(tidytext)"
   ]
  },
  {
   "cell_type": "markdown",
   "metadata": {
    "deletable": false,
    "editable": false,
    "nbgrader": {
     "checksum": "5468a4af1ebde51a9623143527a03287",
     "grade": false,
     "grade_id": "cell-016be2612831e585",
     "locked": true,
     "schema_version": 1,
     "solution": false
    }
   },
   "source": [
    "The `tidytext` package returns a table which assigns sentiment scores to common words:"
   ]
  },
  {
   "cell_type": "code",
   "execution_count": 8,
   "metadata": {
    "deletable": false,
    "editable": false,
    "nbgrader": {
     "checksum": "4989257189ec5da2c776e7b6d6ebd557",
     "grade": false,
     "grade_id": "cell-f575b19492f6d7eb",
     "locked": true,
     "schema_version": 1,
     "solution": false
    }
   },
   "outputs": [
    {
     "name": "stdout",
     "output_type": "stream",
     "text": [
      "# A tibble: 2,476 x 2\n",
      "   word       score\n",
      "   <chr>      <int>\n",
      " 1 abandon       -2\n",
      " 2 abandoned     -2\n",
      " 3 abandons      -2\n",
      " 4 abducted      -2\n",
      " 5 abduction     -2\n",
      " 6 abductions    -2\n",
      " 7 abhor         -3\n",
      " 8 abhorred      -3\n",
      " 9 abhorrent     -3\n",
      "10 abhors        -3\n",
      "# ... with 2,466 more rows\n"
     ]
    }
   ],
   "source": [
    "sents <- get_sentiments(\"afinn\") %>% print"
   ]
  },
  {
   "cell_type": "markdown",
   "metadata": {
    "deletable": false,
    "editable": false,
    "nbgrader": {
     "checksum": "6dd230851e76563f65e35e43c5d4caba",
     "grade": false,
     "grade_id": "cell-1c739b2a9bdcc329",
     "locked": true,
     "schema_version": 1,
     "solution": false
    }
   },
   "source": [
    "#### Problem 5 (4 pts.)\n",
    "Define the sentiment score of each tweet in `tweets3` to be the sum of all the sentiment scores for all matching words in the `sents` table. For example, if the tweet says `I abhor abductions`, then, from the above table, it would get a sentiment score of -5. (If a tweet does not have any matching sentiment words, assign it a score of zero.)\n",
    "\n",
    "Use the `tidytext::unnest_tokens()` function to generate sentiment scores for each tweet in `tweets3`. Store the result in a table called `tweets5`. The first rows will be: \n",
    "```\n",
    "# A tibble: 5 x 4\n",
    "# Groups:   time, user [5]\n",
    "  time                user          tweet                                 score\n",
    "  <dttm>              <chr>         <chr>                                 <int>\n",
    "1 2009-06-11 00:00:03 imdb          No Post Title                            -1\n",
    "2 2009-06-11 16:37:14 ncruralhealth No Post Title                            -1\n",
    "3 2009-06-11 16:56:23 boydjones     \"listening to \\\"Big Lizard - The Dea…    -2\n",
    "4 2009-06-11 16:56:59 cameron987    @beatrizchavez A dork? NO way... you…    -3\n",
    "5 2009-06-11 16:57:30 nbeasley10    Just got a chance to buy All-Star ti…     5\n",
    "```"
   ]
  },
  {
   "cell_type": "code",
   "execution_count": 9,
   "metadata": {
    "deletable": false,
    "nbgrader": {
     "checksum": "d49025d8f7f5d8c0d5b1ad52c5f211ba",
     "grade": false,
     "grade_id": "cell-fbcbe5800853bc30",
     "locked": false,
     "schema_version": 1,
     "solution": true
    }
   },
   "outputs": [
    {
     "name": "stderr",
     "output_type": "stream",
     "text": [
      "Joining, by = c(\"time\", \"user\")\n"
     ]
    },
    {
     "data": {
      "text/html": [
       "<table>\n",
       "<thead><tr><th scope=col>time</th><th scope=col>user</th><th scope=col>tweet</th><th scope=col>score</th></tr></thead>\n",
       "<tbody>\n",
       "\t<tr><td>2009-06-11 00:00:03                                                                                                                      </td><td>imdb                                                                                                                                     </td><td>No Post Title                                                                                                                            </td><td>-1                                                                                                                                       </td></tr>\n",
       "\t<tr><td>2009-06-11 16:37:14                                                                                                                      </td><td>ncruralhealth                                                                                                                            </td><td>No Post Title                                                                                                                            </td><td>-1                                                                                                                                       </td></tr>\n",
       "\t<tr><td>2009-06-11 16:56:23                                                                                                                      </td><td>boydjones                                                                                                                                </td><td>listening to \"Big Lizard - The Dead Milkmen\" ♫ http://blip.fm/~81kwz                                                                     </td><td>-2                                                                                                                                       </td></tr>\n",
       "\t<tr><td>2009-06-11 16:56:59                                                                                                                      </td><td>cameron987                                                                                                                               </td><td>@beatrizchavez A dork? NO way... you are. I just have no shame... I #squarespace want #squarespace that #squarespace iPhone #squarespace.</td><td>-3                                                                                                                                       </td></tr>\n",
       "\t<tr><td>2009-06-11 16:57:03                                                                                                                      </td><td>selenato                                                                                                                                 </td><td>@okaaaa 本当ね！2週間楽しみがありすぎわ、まじで…本当きどうさんへの愛がこんな形になるとは…イナズマ大人のアニメだわ＞＜                    </td><td> 0                                                                                                                                       </td></tr>\n",
       "\t<tr><td>2009-06-11 16:57:30                                                                                                                      </td><td>nbeasley10                                                                                                                               </td><td>Just got a chance to buy All-Star tickets tomorrow. God Bless the Cardinals                                                              </td><td> 5                                                                                                                                       </td></tr>\n",
       "</tbody>\n",
       "</table>\n"
      ],
      "text/latex": [
       "\\begin{tabular}{r|llll}\n",
       " time & user & tweet & score\\\\\n",
       "\\hline\n",
       "\t 2009-06-11 00:00:03                                                                                                                       & imdb                                                                                                                                      & No Post Title                                                                                                                             & -1                                                                                                                                       \\\\\n",
       "\t 2009-06-11 16:37:14                                                                                                                       & ncruralhealth                                                                                                                             & No Post Title                                                                                                                             & -1                                                                                                                                       \\\\\n",
       "\t 2009-06-11 16:56:23                                                                                                                                        & boydjones                                                                                                                                                  & listening to \"Big Lizard - The Dead Milkmen\" ♫ http://blip.fm/\\textasciitilde{}81kwz                                                                      & -2                                                                                                                                                        \\\\\n",
       "\t 2009-06-11 16:56:59                                                                                                                               & cameron987                                                                                                                                        & @beatrizchavez A dork? NO way... you are. I just have no shame... I \\#squarespace want \\#squarespace that \\#squarespace iPhone \\#squarespace. & -3                                                                                                                                               \\\\\n",
       "\t 2009-06-11 16:57:03                                                                                                                       & selenato                                                                                                                                  & @okaaaa 本当ね！2週間楽しみがありすぎわ、まじで…本当きどうさんへの愛がこんな形になるとは…イナズマ大人のアニメだわ＞＜                     &  0                                                                                                                                       \\\\\n",
       "\t 2009-06-11 16:57:30                                                                                                                       & nbeasley10                                                                                                                                & Just got a chance to buy All-Star tickets tomorrow. God Bless the Cardinals                                                               &  5                                                                                                                                       \\\\\n",
       "\\end{tabular}\n"
      ],
      "text/markdown": [
       "\n",
       "time | user | tweet | score | \n",
       "|---|---|---|---|---|---|\n",
       "| 2009-06-11 00:00:03                                                                                                                       | imdb                                                                                                                                      | No Post Title                                                                                                                             | -1                                                                                                                                        | \n",
       "| 2009-06-11 16:37:14                                                                                                                       | ncruralhealth                                                                                                                             | No Post Title                                                                                                                             | -1                                                                                                                                        | \n",
       "| 2009-06-11 16:56:23                                                                                                                       | boydjones                                                                                                                                 | listening to \"Big Lizard - The Dead Milkmen\" ♫ http://blip.fm/~81kwz                                                                      | -2                                                                                                                                        | \n",
       "| 2009-06-11 16:56:59                                                                                                                       | cameron987                                                                                                                                | @beatrizchavez A dork? NO way... you are. I just have no shame... I #squarespace want #squarespace that #squarespace iPhone #squarespace. | -3                                                                                                                                        | \n",
       "| 2009-06-11 16:57:03                                                                                                                       | selenato                                                                                                                                  | @okaaaa 本当ね！2週間楽しみがありすぎわ、まじで…本当きどうさんへの愛がこんな形になるとは…イナズマ大人のアニメだわ＞＜                     |  0                                                                                                                                        | \n",
       "| 2009-06-11 16:57:30                                                                                                                       | nbeasley10                                                                                                                                | Just got a chance to buy All-Star tickets tomorrow. God Bless the Cardinals                                                               |  5                                                                                                                                        | \n",
       "\n",
       "\n"
      ],
      "text/plain": [
       "  time                user         \n",
       "1 2009-06-11 00:00:03 imdb         \n",
       "2 2009-06-11 16:37:14 ncruralhealth\n",
       "3 2009-06-11 16:56:23 boydjones    \n",
       "4 2009-06-11 16:56:59 cameron987   \n",
       "5 2009-06-11 16:57:03 selenato     \n",
       "6 2009-06-11 16:57:30 nbeasley10   \n",
       "  tweet                                                                                                                                    \n",
       "1 No Post Title                                                                                                                            \n",
       "2 No Post Title                                                                                                                            \n",
       "3 listening to \"Big Lizard - The Dead Milkmen\" ♫ http://blip.fm/~81kwz                                                                     \n",
       "4 @beatrizchavez A dork? NO way... you are. I just have no shame... I #squarespace want #squarespace that #squarespace iPhone #squarespace.\n",
       "5 @okaaaa 本当ね！2週間楽しみがありすぎわ、まじで…本当きどうさんへの愛がこんな形になるとは…イナズマ大人のアニメだわ＞＜                    \n",
       "6 Just got a chance to buy All-Star tickets tomorrow. God Bless the Cardinals                                                              \n",
       "  score\n",
       "1 -1   \n",
       "2 -1   \n",
       "3 -2   \n",
       "4 -3   \n",
       "5  0   \n",
       "6  5   "
      ]
     },
     "metadata": {},
     "output_type": "display_data"
    }
   ],
   "source": [
    "Socialscore = tweets3 %>% unnest_tokens(word, tweet) %>% left_join(sents, by = 'word') %>%\n",
    "mutate(score = ifelse(is.na(score), 0, score)) %>% group_by(time, user) %>%\n",
    "summarize(score = sum(score))\n",
    "tweets5 = tweets3 %>% left_join(Socialscore)\n",
    "head(tweets5)\n"
   ]
  },
  {
   "cell_type": "code",
   "execution_count": 13,
   "metadata": {
    "deletable": false,
    "editable": false,
    "nbgrader": {
     "checksum": "443688153f51140f23f1a595b1ae1bee",
     "grade": true,
     "grade_id": "cell-f6a18a213de3d427",
     "locked": true,
     "points": 4,
     "schema_version": 1,
     "solution": false
    }
   },
   "outputs": [],
   "source": [
    "stopifnot(exists(\"tweets5\"))"
   ]
  },
  {
   "cell_type": "markdown",
   "metadata": {
    "deletable": false,
    "editable": false,
    "nbgrader": {
     "checksum": "21d8cd577e1cf79c827326935091f48e",
     "grade": false,
     "grade_id": "cell-4d064b7e7e3d13fe",
     "locked": true,
     "schema_version": 1,
     "solution": false
    }
   },
   "source": [
    "#### Problem 6 (2 pts.)\n",
    "Make a box plot of sentiment score by day of the week. On which day(s) do people seem happiest? Least happy? Are these differences significant? Explain your reasoning."
   ]
  },
  {
   "cell_type": "code",
   "execution_count": 10,
   "metadata": {
    "deletable": false,
    "nbgrader": {
     "checksum": "8a432d2340e0baf7f90b3ca81c95f0a6",
     "grade": true,
     "grade_id": "cell-51f9a100083fc37e",
     "locked": false,
     "points": 4,
     "schema_version": 1,
     "solution": true
    }
   },
   "outputs": [
    {
     "data": {},
     "metadata": {},
     "output_type": "display_data"
    },
    {
     "data": {
      "image/png": "[encoded data removed]",
      "text/plain": [
       "plot without title"
      ]
     },
     "metadata": {},
     "output_type": "display_data"
    }
   ],
   "source": [
    "tweets6 = tweets5 %>% mutate(day = wday(time, label = T))\n",
    "\n",
    "tweets_plotted = tweets6 %>% group_by(day) %>% summarize(score = mean(score, na.rm=T)) %>% arrange(-score)\n",
    "ggplot(tweets_plotted) + geom_bar(aes(x = day, y = score), stat = \"identity\")\n",
    "\n",
    "# People appear to be happiest on Sunday and saddest on Thursday. However, there do not appear to be \n",
    "# significant differences as the averages scores all appear to be around .55-.58. There is likely not a significant difference.\n"
   ]
  },
  {
   "cell_type": "markdown",
   "metadata": {
    "deletable": false,
    "editable": false,
    "nbgrader": {
     "checksum": "66e9e612f4049f2cc0c8b150105313ea",
     "grade": false,
     "grade_id": "cell-050892a06e36fd50",
     "locked": true,
     "schema_version": 1,
     "solution": false
    }
   },
   "source": [
    "#### Problem 7 (4 pts.)\n",
    "Since this is a data science class, and nothing says data science like a word cloud, we are going to make a word cloud. The `wordcloud` package can be used for this:"
   ]
  },
  {
   "cell_type": "code",
   "execution_count": 11,
   "metadata": {
    "deletable": false,
    "editable": false,
    "nbgrader": {
     "checksum": "0799edbb3d8da1a9d8564ca823573e7d",
     "grade": false,
     "grade_id": "cell-6ce6108054ff8d45",
     "locked": true,
     "schema_version": 1,
     "solution": false
    }
   },
   "outputs": [
    {
     "name": "stderr",
     "output_type": "stream",
     "text": [
      "Loading required package: RColorBrewer\n"
     ]
    },
    {
     "data": {
      "image/png": "[encoded data removed]",
      "text/plain": [
       "plot without title"
      ]
     },
     "metadata": {},
     "output_type": "display_data"
    }
   ],
   "source": [
    "# again, you'll need to install if not on the server.\n",
    "library(wordcloud)\n",
    "wordcloud(words=c(\"my\", \"favorite\", \"words\"), freq=c(10, 20, 30))\n",
    "          #     the words                          freq. of each word"
   ]
  },
  {
   "cell_type": "markdown",
   "metadata": {
    "deletable": false,
    "editable": false,
    "nbgrader": {
     "checksum": "d6f41a93561cf99d62d6a5ee9b59fbb5",
     "grade": false,
     "grade_id": "cell-5a75ede387eeddae",
     "locked": true,
     "schema_version": 1,
     "solution": false
    }
   },
   "source": [
    "Create a wordcloud of the 100 most common words occuring in the 1000 most positive tweets when ordered according to sentiment score. \n",
    "\n",
    "(*Hint*: to make a nicer graphic, consider removing so-called stop words (\"the\", \"and\", \"or\", etc.) before computing the top 100. Use `anti_join()` along with `tidytext::stop_words`.)"
   ]
  },
  {
   "cell_type": "code",
   "execution_count": 12,
   "metadata": {
    "deletable": false,
    "nbgrader": {
     "checksum": "4630f05d5a40e6b5d244b9ce9fc6baea",
     "grade": true,
     "grade_id": "cell-592caa171f94225a",
     "locked": false,
     "points": 4,
     "schema_version": 1,
     "solution": true
    }
   },
   "outputs": [
    {
     "name": "stderr",
     "output_type": "stream",
     "text": [
      "Selecting by score\n",
      "Selecting by n\n"
     ]
    },
    {
     "name": "stdout",
     "output_type": "stream",
     "text": [
      "# A tibble: 105 x 2\n",
      "   word        n\n",
      "   <chr>   <int>\n",
      " 1 rt        569\n",
      " 2 love      498\n",
      " 3 http      493\n",
      " 4 lol       345\n",
      " 5 wow       218\n",
      " 6 fun       192\n",
      " 7 win       189\n",
      " 8 happy     169\n",
      " 9 bit.ly    168\n",
      "10 awesome   152\n",
      "# ... with 95 more rows\n"
     ]
    },
    {
     "data": {
      "image/png": "[encoded data removed]",
      "text/plain": [
       "plot without title"
      ]
     },
     "metadata": {},
     "output_type": "display_data"
    }
   ],
   "source": [
    "Krumpstince = tweets5 %>% arrange(-score) %>% top_n(1000) %>% unnest_tokens(word, tweet) %>%\n",
    "anti_join(tidytext::stop_words, by = \"word\") %>% group_by(word) %>% summarize(n = n()) %>% arrange(-n) %>%\n",
    "top_n(100) %>% print\n",
    "wordcloud(Krumpstince$word, Krumpstince$n)\n"
   ]
  },
  {
   "cell_type": "markdown",
   "metadata": {
    "deletable": false,
    "editable": false,
    "nbgrader": {
     "checksum": "68ea7ad19b44a02e60b690d9f52e9015",
     "grade": false,
     "grade_id": "cell-eb5c01ebab72566e",
     "locked": true,
     "schema_version": 1,
     "solution": false
    }
   },
   "source": [
    "#### Anti-problem 8 (-4 pts.)\n",
    "Do *not* repeat the above exercise for the most negative tweets."
   ]
  },
  {
   "cell_type": "code",
   "execution_count": null,
   "metadata": {},
   "outputs": [],
   "source": []
  },
  {
   "cell_type": "code",
   "execution_count": null,
   "metadata": {},
   "outputs": [],
   "source": []
  }
 ],
 "metadata": {
  "kernelspec": {
   "display_name": "R",
   "language": "R",
   "name": "ir"
  },
  "language_info": {
   "codemirror_mode": "r",
   "file_extension": ".r",
   "mimetype": "text/x-r-source",
   "name": "R",
   "pygments_lexer": "r",
   "version": "3.4.1"
  }
 },
 "nbformat": 4,
 "nbformat_minor": 2
}
